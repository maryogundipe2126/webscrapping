{
 "cells": [
  {
   "cell_type": "code",
   "execution_count": 1,
   "id": "8b301420",
   "metadata": {},
   "outputs": [],
   "source": [
    "import requests\n",
    "from bs4 import BeautifulSoup\n",
    "import pandas as pd"
   ]
  },
  {
   "cell_type": "code",
   "execution_count": 2,
   "id": "2c90d939",
   "metadata": {},
   "outputs": [],
   "source": [
    "url ='https://www.rottentomatoes.com/browse/movies_at_home/critics:certified_fresh'"
   ]
  },
  {
   "cell_type": "code",
   "execution_count": 3,
   "id": "3818eeaf",
   "metadata": {},
   "outputs": [
    {
     "data": {
      "text/plain": [
       "'<!DOCTYPE html>\\n<html lang=\"en\" dir=\"ltr\" xmlns=\"http://www.w3.org/1999/xhtml\" prefix=\"fb: http://www.facebook.com/2008/fbml og: http://opengraphprotocol.org/schema/\">\\n    <head prefix=\"og: http://ogp.me/ns# flixstertomatoes: http://ogp.me/ns/apps/flixstertomatoes#\">\\n        \\n        <script src=\"https://cdn.cookielaw.org/consent/7e979733-6841-4fce-9182-515fac69187f/otSDKStub.js\"\\n            type=\"text/javascript\"\\n            charset=\"UTF-8\"\\n            data-domain-script=\"7e979733-6841-4fce-9182-515fac69187f\"\\n            integrity=\"sha384-WEHwEli88wqOiQd913F1utFZiwisa8XhCkbjLnbKEpFa/WbFcPKeGg7h4fdsv0Z/\"\\n            crossorigin=\"anonymous\">\\n        </script>\\n        <script type=\"text/javascript\">\\n        function OptanonWrapper() { }\\n        </script>\\n        \\n        \\n        <script src=\"https://cdn.cookielaw.org/opt-out/otCCPAiab.js\"\\n            type=\"text/javascript\"\\n            charset=\"UTF-8\"\\n            ccpa-opt-out-ids=\"dummy\"\\n            ccpa-opt-out-geo=\"US\"\\n            ccpa-opt-out-lspa=\"false\">\\n        </script>\\n        \\n\\n        \\n            <script src=\"/assets/pizza-pie/javascripts/bundles/roma/rt-common.js?single\"></script>\\n        \\n        <meta http-equiv=\"Content-Type\" content=\"text/html; charset=utf-8\" />\\n        <meta http-equiv=\"x-ua-compatible\" content=\"ie=edge\">\\n        <meta name=\"viewport\" content=\"width=device-width, initial-scale=1\">\\n\\n        <title>Certified Fresh Movies at Home (January 2023) - Rotten Tomatoes</title>\\n        <meta name=\"description\" content=\"Rotten Tomatoes, home of the Tomatometer, is the most trusted measurement of quality for Movies & TV. The definitive site for Reviews, Trailers, Showtimes, and Tickets\">\\n\\n        \\n            <link rel=\"canonical\" href=\"https://www.rottentomatoes.com/browse/movies_at_home/critics:certified_fresh\">\\n        \\n\\n        \\n            \\n        \\n\\n        <link rel=\"shortcut icon\" sizes=\"76x76\" type=\"image/x-icon\" href=\"https://www.rottentomatoes.com/assets/pizza-pie/images/favicon.ico\" />\\n        \\n\\n        \\n    \\n            <meta property=\"fb:app_id\" content=\"326803741017\">\\n            <meta property=\"og:site_name\" content=\"Rotten Tomatoes\">\\n            <meta property=\"og:title\" content=\"Certified Fresh Movies at Home (January 2023)\">\\n            <meta property=\"og:description\" content=\"Rotten Tomatoes, home of the Tomatometer, is the most trusted measurement of quality for Movies & TV. The definitive site for Reviews, Trailers, Showtimes, and Tickets\">\\n            <meta property=\"og:type\" content=\"\">\\n            <meta property=\"og:url\" content=\"https://www.rottentomatoes.com/browse/movies_at_home/critics:certified_fresh\">\\n            <meta property=\"og:image\" content=\"https://www.rottentomatoes.com/assets/pizza-pie/head-assets/images/RT_TwitterCard_2018.jpg\">\\n            <meta property=\"og:locale\" content=\"en_US\">\\n        \\n    \\n\\n\\n        <meta name=\"twitter:card\" content=\"summary_large_image\">\\n        <meta name=\"twitter:image\" content=\"https://www.rottentomatoes.com/assets/pizza-pie/head-assets/images/RT_TwitterCard_2018.jpg\">\\n        <meta name=\"twitter:title\" content=\"Certified Fresh Movies at Home (January 2023)\">\\n        <meta name=\"twitter:text:title\" content=\"Certified Fresh Movies at Home (January 2023)\">\\n        <meta name=\"twitter:description\" content=\"Rotten Tomatoes, home of the Tomatometer, is the most trusted measurement of quality for Movies & TV. The definitive site for Reviews, Trailers, Showtimes, and Tickets\">\\n        <meta name=\"twitter:site\" content=\"@rottentomatoes\">\\n\\n        <link rel=\"manifest\" href=\"https://www.rottentomatoes.com/assets/pizza-pie/manifest/manifest.json\" />\\n\\n        <link rel=\"apple-touch-icon\" href=\"https://www.rottentomatoes.com/assets/pizza-pie/head-assets/images/apple-touch-icon-60.jpg\" />\\n        <link rel=\"apple-touch-icon\" sizes=\"152x152\" href=\"https://www.rottentomatoes.com/assets/pizza-pie/head-assets/images/apple-touch-icon-152.jpg\" />\\n        <link rel=\"apple-touch-icon\" sizes=\"167x167\" href=\"https://www.rottentomatoes.com/assets/pizza-pie/head-assets/images/apple-touch-icon-167.jpg\" />\\n        <link rel=\"apple-touch-icon\" sizes=\"180x180\" href=\"https://www.rottentomatoes.com/assets/pizza-pie/head-assets/images/apple-touch-icon-180.jpg\" />\\n\\n        <!-- JSON+LD -->\\n        \\n\\n        \\n        \\n\\n        \\n        <meta name=\"google-site-verification\" content=\"VPPXtECgUUeuATBacnqnCm4ydGO99reF-xgNklSbNbc\" />\\n\\n        \\n        <meta name=\"msvalidate.01\" content=\"034F16304017CA7DCF45D43850915323\" />\\n        <meta name=\"theme-color\" content=\"#FA320A\">\\n\\n        <!-- DNS prefetch -->\\n        <meta http-equiv=\"x-dns-prefetch-control\" content=\"on\">\\n        \\n            <link rel=\"dns-prefetch\" href=\"//www.rottentomatoes.com\" />\\n        \\n        \\n            <link rel=\"preconnect\" href=\"//www.rottentomatoes.com\" />\\n        \\n\\n        \\n        \\n\\n        \\n        \\n\\n        \\n    \\n        <link rel=\"preload\" href=\"/assets/pizza-pie/stylesheets/bundles/roma/layouts/default.0ebd664802e.css\" as=\"style\" onload=\"this.onload=null;this.rel=\\'stylesheet\\'\">\\n\\n        \\n    <link rel=\"preload\" href=\"/assets/pizza-pie/stylesheets/bundles/discovery.ac331096725.css\" as=\"style\" onload=\"this.onload=null;this.rel=\\'stylesheet\\'\">\\n\\n\\n        <script>\\n        !function(t){\"use strict\";t.loadCSS||(t.loadCSS=function(){});var e=loadCSS.relpreload={};if(e.support=function(){var e;try{e=t.document.createElement(\"link\").relList.supports(\"preload\")}catch(t){e=!1}return function(){return e}}(),e.bindMediaToggle=function(t){var e=t.media||\"all\";function a(){t.media=e}t.addEventListener?t.addEventListener(\"load\",a):t.attachEvent&&t.attachEvent(\"onload\",a),setTimeout(function(){t.rel=\"stylesheet\",t.media=\"only x\"}),setTimeout(a,3e3)},e.poly=function(){if(!e.support())for(var a=t.document.getElementsByTagName(\"link\"),n=0;n<a.length;n++){var o=a[n];\"preload\"!==o.rel||\"style\"!==o.getAttribute(\"as\")||o.getAttribute(\"data-loadcss\")||(o.setAttribute(\"data-loadcss\",!0),e.bindMediaToggle(o))}},!e.support()){e.poly();var a=t.setInterval(e.poly,500);t.addEventListener?t.addEventListener(\"load\",function(){e.poly(),t.clearInterval(a)}):t.attachEvent&&t.attachEvent(\"onload\",function(){e.poly(),t.clearInterval(a)})}\"undefined\"!=typeof exports?exports.loadCSS=loadCSS:t.loadCSS=loadCSS}(\"undefined\"!=typeof global?global:this);\\n        </script>\\n\\n        <script>\\n            window.RottenTomatoes = {};\\n            window.RTLocals = {};\\n        </script>\\n\\n        <script>var dataLayer = dataLayer || [];</script>\\n\\n        \\n        \\n    <script id=\"mps-page-integration\">\\n      window.mpscall = {\"adunits\":\"Multi Logo|Box Ad|Marquee Banner|Top Banner\",\"cag[score]\":null,\"cag[certified_fresh]\":null,\"cag[fresh_rotten]\":null,\"cag[rating]\":null,\"cag[release]\":null,\"cag[movieshow]\":null,\"cag[genre]\":null,\"cag[urlid]\":null,\"cat\":\"discovery|dvd\",\"field[env]\":\"production\",\"field[rtid]\":null,\"path\":\"/browse/movies_at_home/critics:certified_fresh\",\"site\":\"rottentomatoes-web\",\"title\":\"\",\"type\":\"webDiscovery\"};\\n      var mpsopts={\\'host\\':\\'mps.nbcuni.com\\', \\'updatecorrelator\\':1};\\n      var mps=mps||{};mps._ext=mps._ext||{};mps._adsheld=[];mps._queue=mps._queue||{};mps._queue.mpsloaded=mps._queue.mpsloaded||[];mps._queue.mpsinit=mps._queue.mpsinit||[];mps._queue.gptloaded=mps._queue.gptloaded||[];mps._queue.adload=mps._queue.adload||[];mps._queue.adclone=mps._queue.adclone||[];mps._queue.adview=mps._queue.adview||[];mps._queue.refreshads=mps._queue.refreshads||[];mps.__timer=Date.now||function(){return+new Date};mps.__intcode=\"v2\";if(typeof mps.getAd!=\"function\")mps.getAd=function(adunit){if(typeof adunit!=\"string\")return false;var slotid=\"mps-getad-\"+adunit.replace(/\\\\W/g,\"\");if(!mps._ext||!mps._ext.loaded){mps._queue.gptloaded.push(function(){typeof mps._gptfirst==\"function\"&&mps._gptfirst(adunit,slotid);mps.insertAd(\"#\"+slotid,adunit)});mps._adsheld.push(adunit)}return\\'<div id=\"\\'+slotid+\\'\" class=\"mps-wrapper\" data-mps-fill-slot=\"\\'+adunit+\\'\"></div>\\'};(function(){head=document.head||document.getElementsByTagName(\"head\")[0],mpsload=document.createElement(\"script\");mpsload.src=\"//\"+mpsopts.host+\"/fetch/ext/load-\"+mpscall.site+\".js?nowrite=2\";mpsload.id=\"mps-load\";head.insertBefore(mpsload,head.firstChild)})();\\n    </script>\\n\\n        \\n    <script>\\n        function endsWith(str, suffix) {\\n            return str.indexOf(suffix, str.length - suffix.length) !== -1;\\n        }\\n    \\n        //--Ad Unit Loaded (called for each ad loaded)\\n        var mps = mps||{}; mps._queue = mps._queue||{}; mps._queue.adload = mps._queue.adload||[];\\n        mps._queue.adload.push(function (eo) {\\n            if (!eo.isEmpty) {\\n                var slotName = eo._mps._slot;\\n    \\n                if (\\'topbanner\\' === slotName) {\\n                    var leaderboardHeight = eo.size[1];\\n                    if (leaderboardHeight > 50){\\n                        \\n                            $(\\'#header-main\\').removeClass(\\'header_main_scroll\\');\\n                        \\n\\n                        if (leaderboardHeight < 90){\\n                            $(\\'.leaderboard_wrapper\\').css(\\'min-height\\', leaderboardHeight);\\n                        }\\n                        \\n                        $(\\'#top_leaderboard_wrapper\\').animate({ height: (leaderboardHeight + 10) },1000);\\n                    }\\n                }\\n    \\n                if (\\'trendinggraphic\\' === slotName) {\\n                    //Hide Trending bar social section\\n                    $(\\'#trending_bar_social\\').hide();\\n                    // Roma version\\n                    $(\\'.trending-bar__social\\').hide();\\n                    //Removing padding for trending bar ad\\n                    $(\\'.trendingBar > .trendingEl\\').css(\\'padding\\',\\'0px\\');\\n                    $(\\'#trending_bar_ad\\').show();\\n    \\n                    $(\\'a.trendingLink\\').addClass(\\'trending-link-truncate\\');\\n                    // Roma version\\n                    $(\\'.trending-bar__link\\').addClass(\\'trending-link--truncate\\');\\n                }\\n    \\n                if (\\'tomatometer\\' === slotName) {\\n                    if (eo.size[0] == 524 && eo.size[1] == 40) {\\n                        //Increase score panel margin\\n                        $(\\'#scorePanel\\').css(\\'margin-bottom\\', \\'20px\\');\\n                    }\\n                    // Only show Tomatometer Sponsorship div if rendered\\n                    $(\\'#tomatometer_sponsorship_ad\\').show();\\n                }\\n            }\\n        });\\n    </script>\\n\\n\\n\\n\\n        \\n        <script>\\n            dataLayer.push({\"webVersion\":\"node\",\"rtVersion\":3.1,\"loggedInStatus\":\"\",\"customerId\":\"\",\"pageName\":\"rt | browse | list page | movies at home\"});\\n        </script>\\n\\n        \\n\\n        \\n        \\n    </head>\\n    \\n    <body class=\"body no-touch js-mptd-layout\">\\n        <analytics-manager></analytics-manager>\\n\\n        <auth-initiate-manager></auth-initiate-manager>\\n<auth-profile-manager></auth-profile-manager>\\n<overlay-base class=\"\" hidden>\\n    <overlay-flows slot=\"content\">\\n        <button slot=\"close\" class=\"auth-overlay__icon-button auth-overlay__icon-button--close\" aria-label=\"Close\" data-qa=\"close-overlay-btn\">\\n            <rt-icon image icon=\"close\"></rt-icon>\\n        </button>\\n    </overlay-flows>\\n</overlay-base>\\n\\n<notification-alert class=\"js-auth-success \" animate hidden>\\n    <rt-icon icon=\"check-circled\"></rt-icon>\\n    <span>Signed in</span>\\n</notification-alert>\\n\\n<div id=\"auth-templates\">\\n    <template slot=\"screens\" id=\"cognito-loading\">\\n    <div>\\n        <loading-spinner id=\"cognito-auth-loading-spinner\"></loading-spinner>\\n        <style>\\n            #cognito-auth-loading-spinner {\\n                font-size: 2em;\\n                transform: translate(calc(100% - 1em), 250px);\\n                width: 50%;\\n            }\\n        </style>\\n    </div>\\n</template>\\n\\n    <template slot=\"screens\" id=\"cognito-signup-form\">\\r\\n<auth-signup-screen data-qa=\"auth-signup-screen\">\\r\\n    <h2 slot=\"header\" class=\"cognito-signup-form__header\" data-qa=\"auth-signup-screen-title\">Log in or sign up for Rotten Tomatoes</h2>\\r\\n    \\r\\n    <rt-button slot=\"signup-option\" theme=\"light\" class=\"cognito-signup-form__option\" value=\"google\" data-qa=\"auth-signup-screen-google-btn\">\\r\\n        <div class=\"cognito-signup-form__option__container\">\\r\\n            <span class=\"cognito-signup-form__option__icon cognito-signup-form__option__icon--google\"></span>\\r\\n            <span class=\"cognito-signup-form__option__text\">Continue with Google</span>\\r\\n        </div>\\r\\n    </rt-button>\\r\\n    <rt-button slot=\"signup-option\" theme=\"light\" class=\"cognito-signup-form__option\" value=\"email\" data-qa=\"auth-signup-screen-email-btn\">\\r\\n        <div class=\"cognito-signup-form__option__container\">\\r\\n            <rt-icon image icon=\"mail\" class=\"cognito-signup-form__option__icon cognito-signup-form__option__icon--mail\"></rt-icon>\\r\\n            <span class=\"cognito-signup-form__option__text\">Continue with Email</span>\\r\\n        </div>\\r\\n    </rt-button>\\r\\n        \\r\\n    <input-label slot=\"email\">\\r\\n        <label slot=\"label\" for=\"cognito-email-input\" class=\"auth-form__control__label\">Email</label>\\r\\n        <input slot=\"input\" id=\"cognito-email-input\" type=\"email\" data-qa=\"auth-signup-screen-email\">\\r\\n    </input-label>\\r\\n\\r\\n    <div slot=\"info\">\\r\\n        <div class=\"no-password-container\">\\r\\n            <rt-badge>New</rt-badge>\\r\\n            <span class=\"no-password\">Where is the password field?</span>\\r\\n            <tool-tip\\r\\n                class=\"cognito-signup-form__tooltip\"\\r\\n                title=\"Where is the password field?\"\\r\\n                description=\"Rotten Tomatoes now offers passwordless authentication for all user accounts, making it easier for you to access your information. Simply enter the email address you previously used and hit continue to complete your log-in.\"\\r\\n                slot=\"tooltip\"\\r\\n                nomobilefooter\\r\\n            >\\r\\n                <button slot=\"tool-tip-btn\" class=\"button--link\">\\r\\n                    <rt-icon icon=\"question-circled\" image></rt-icon>\\r\\n                </button>\\r\\n            </tool-tip>\\r\\n        </div>\\r\\n    </div>\\r\\n    \\r\\n    <button slot=\"continue\" class=\"auth-form__button\" data-qa=\"auth-signup-screen-continue-btn\">Continue</button>\\r\\n\\r\\n    <p slot=\"help\" class=\"cognito-signup-form-help\">\\r\\n        <a href=\"/reset-client\" data-qa=\"auth-signup-screen-reset-client-link\">Trouble logging in?</a>\\r\\n    </p>\\r\\n    \\r\\n    <p slot=\"terms-and-policies\" class=\"cognito-signup-form__terms-and-policies\">\\r\\n        By continuing, you agree to the <a href=\"https://www.fandango.com/policies/privacy-policy\" target=\"_blank\" data-qa=\"auth-signup-screen-privacy-policy-link\">Privacy Policy</a> and \\r\\n        the <a href=\"https://www.fandango.com/policies/terms-and-policies\" target=\"_blank\" data-qa=\"auth-signup-screen-terms-policies-link\">Terms and Policies</a>, and to receive email from Rotten Tomatoes.\\r\\n    </p>\\r\\n</auth-signup-screen>\\r\\n</template>\\n    <template slot=\"screens\" id=\"cognito-name-form\">\\n  <auth-name-screen data-qa=\"auth-name-screen\">\\n    <input-label slot=\"firstName\" data-qa=\"auth-name-screen-firstname-input\">\\n      <label slot=\"label\" for=\"cognito-first-name-input\" class=\"auth-form__control__label\">First name (Required)</label>\\n      <input slot=\"input\" id=\"cognito-first-name-input\" data-qa=\"auth-name-screen-first-name\">\\n    </input-label>\\n    <input-label slot=\"lastName\" data-qa=\"auth-name-screen-lastname-input\">\\n      <label slot=\"label\" for=\"cognito-last-name-input\" class=\"auth-form__control__label\">Last name (Required)</label>\\n      <input slot=\"input\" id=\"cognito-last-name-input\" data-qa=\"auth-name-screen-last-name\">\\n    </input-label>\\n    <rt-button slot=\"createAccount\" class=\"auth-form__button\">Create my account</rt-button>\\n    <p slot=\"termsAndPolicies\" class=\"cognito-signup-form__terms-and-policies\">\\n      By creating an account, you agree to the\\n      <a href=\"https://www.fandango.com/policies/privacy-policy\" target=\"_blank\" data-qa=\"auth-name-screen-privacy-policy-link\"> Privacy Policy </a>\\n      and the<br>\\n      <a href=\"https://www.fandango.com/policies/terms-and-policies\" target=\"_blank\" data-qa=\"auth-name-screen-terms-policies-link\"> Terms and Policies</a>\\n      , and to receive email from Rotten Tomatoes.\\n    </p>\\n  </auth-name-screen>\\n</template>\\n\\n    <template slot=\"screens\" id=\"cognito-checkemail\">\\n    <auth-checkemail-screen data-qa=\"auth-check-email-screen\">\\n        <span slot=\"email-icon\" class=\"cognito-check-email__icon--email\"></span>\\n        <span slot=\"mobile-icon\" class=\"cognito-check-email__icon--mobile\"></span>\\n        <button slot=\"learn-more\" class=\"text-button\" tabindex=\"0\" data-qa=\"auth-check-email-screen-learn-more-link\">LEARN MORE</button>\\n        <a slot=\"help\" tabindex=\"0\" target=\"_blank\" href=\"/help_desk\" data-qa=\"auth-check-email-screen-help-link\">HELP</a>\\n    </auth-checkemail-screen>\\n</template>\\n\\n    <template slot=\"screens\" id=\"cognito-learn-more\">\\r\\n  <auth-learn-more-screen data-qa=\"auth-learn-more-screen\">\\r\\n    <button slot=\"back\" class=\"auth-overlay__icon-button auth-overlay__icon-button--back\">\\r\\n      <rt-icon icon=\"left-arrow-stem\" image></rt-icon>\\r\\n    </button>\\r\\n  </auth-learn-more-screen>\\r\\n</template>\\n    <template slot=\"screens\" id=\"cognito-error\">\\n    <auth-error-screen data-qa=\"auth-error-screen\">\\n        <h2 slot=\"heading\" class=\"cognito-error__heading\" data-qa=\"auth-error-screen-title\">\\n            <rt-icon image icon=\"exclamation-circled\" class=\"cognito-error__icon--exclamation-circled\"></rt-icon>\\n            <span class=\"js-cognito-error-heading-txt\">Email not verified</span>\\n        </h2>\\n        <p slot=\"error-message\" class=\"js-cognito-error-message cognito-error__error-message\" data-qa=\"auth-error-screen-message\">\\n            <!-- error message is set from auth-error-screen WC-->\\n        </p>\\n        <p slot=\"error-code\" class=\"js-cognito-error-code cognito-error__error-message\" data-qa=\"auth-error-screen-code\">\\n            <!-- error code is set from auth-error-screen WC-->\\n        </p>\\n        <rt-button slot=\"tryAgainBtn\" class=\"cognito-error__try-again-btn\"><span class=\"cognito-error__btn-text\" data-qa=\"auth-error-screen-try-again-btn\">TRY AGAIN</span></rt-button>\\n        <rt-button slot=\"cancelBtn\" class=\"cognito-error__cancel-btn\" theme=\"light\"><span class=\"cognito-error__btn-text\" data-qa=\"auth-error-screen-cancel-btn\">CANCEL</span></rt-button>\\n    </auth-error-screen>\\n</template>\\n\\n    <template slot=\"screens\" id=\"cognito-opt-in\">\\n  <auth-optin-screen data-qa=\"auth-opt-in-screen\">\\n    <div slot=\"newsletterText\">\\n      <h2 class=\"cognito-optin-form__header unset\">Let\\'s keep in touch</h2>\\n      <p>\\n        Stay up-to-date on all the latest Rotten Tomatoes news! \\n        Tap \"Sign me up\" below to receive our weekly newsletter \\n        with updates on movies, TV shows, Rotten Tomatoes podcast and more.\\n      </p>\\n    </div>\\n    <button slot=\"optInButton\" data-qa=\"auth-opt-in-screen-opt-in-btn\">\\n      Sign me up\\n    </button>\\n    <button slot=\"optOutButton\" class=\"button--outline\" data-qa=\"auth-opt-in-screen-opt-out-btn\">\\n        No thanks\\n    </button>\\n  </auth-optin-screen>\\n</template>\\n\\n    <template slot=\"screens\" id=\"cognito-opt-in-success\">\\n    <auth-verify-screen>\\n        <rt-icon icon=\"check-circled\" slot=\"icon\"></rt-icon>\\n        <p class=\"h3\" slot=\"status\">OK, got it!</p>\\n    </auth-verify-screen>\\n</template>\\n\\n</div>\\n\\n\\n        <div id=\"emptyPlaceholder\"></div> \\n\\n        \\n            <script ASYNC src=\"//assets.adobedtm.com/launch-EN549327edc13e414a9beb5d61bfd9aac6.min.js\"></script>\\n        \\n\\n        <div class=\"container roma-layout__body\">\\n            <div id=\"header_and_leaderboard\">\\n                \\n    \\n    \\n    \\n    <div id=\"top_leaderboard_wrapper\" class=\"leaderboard_wrapper \">\\n        <div id=\"top_leaderboard_helper\" class=\"leaderboard_helper\">\\n            <div id=\"leaderboard_top_ad\"></div>\\n            <script>\\n                //--RESPONSIVE AD SWITCHING (DIFFERENT CONTAINERS)\\n                var mps = mps||{}; mps._queue = mps._queue||{}; mps._queue.gptloaded = mps._queue.gptloaded||[];\\n                mps._queue.gptloaded.push(function () {\\n                    if (mps.getResponsiveSet() == \\'0\\') { //MOBILE\\n                        mps.insertAd(\\'#leaderboard_top_ad\\',\\'mbanner\\');\\n                    } else { //DESKTOP or TABLET\\n                        mps.insertAd(\\'#leaderboard_top_ad\\',\\'topbanner\\');\\n                    }\\n                });\\n            </script>\\n        </div>\\n    </div>\\n\\n\\n            </div>\\n\\n            \\n\\n  <rt-header-manager></rt-header-manager>\\n\\n  <rt-header\\n    aria-label=\"navigation bar\"\\n    class=\"navbar\"\\n    data-qa=\"header-nav-bar\"\\n    id=\"header-main\"\\n    skeleton=\"panel\"\\n    \\n  >\\n  <a slot=\"skip-link\" href=\"#main-page-content\" class=\"skip-link\">Skip to Main Content</a>\\n\\n  <a id=\"navbar\" slot=\"logo\" href=\"/\" class=\"logo-wrap\">\\n    <img\\n      alt=\"Rotten Tomatoes\"\\n      data-qa=\"header-logo\"\\n      src=\"/assets/pizza-pie/images/rtlogo.9b892cff3fd.png\"\\n    />\\n    \\n    \\n    \\n        \\n    \\n    <div id=\"new_logo_ad\" style=\"display:none;\"></div>\\n    <script>\\n        var mps = mps||{}; mps._queue = mps._queue||{}; mps._queue.gptloaded = mps._queue.gptloaded||[];\\n        mps._queue.gptloaded.push(function () {\\n            mps.rt.insertlogo(\\'#new_logo_ad\\', \\'ploc=rtlogo;\\');\\n        });\\n    </script>\\n\\n\\n  </a>\\n\\n  <search-algolia slot=\"desktop-search\" skeleton=\"transparent\">\\n    <search-algolia-controls slot=\"search-controls\">\\n      <input\\n        class=\"search-text\"\\n        aria-label=\"Search\"\\n        data-qa=\"search-input\"\\n        placeholder=\"Search movies, TV, actors, more..\"\\n        slot=\"search-input\"\\n        type=\"text\"\\n      />\\n      <button\\n        class=\"search-clear\"\\n        data-qa=\"search-clear\"\\n        slot=\"search-clear\"\\n      >\\n        <rt-icon icon=\"close\" image></rt-icon>\\n      </button>\\n      <a\\n        class=\"search-submit\"\\n        aria-label=\"Submit search\"\\n        data-qa=\"search-submit\"\\n        href=\"/search\"\\n        slot=\"search-submit\"\\n      >\\n        <rt-icon icon=\"search\" image></rt-icon>\\n      </a>\\n      <button\\n        class=\"search-cancel\"\\n        data-qa=\"search-cancel\"\\n        slot=\"search-cancel\"\\n      >\\n        Cancel\\n      </button>\\n    </search-algolia-controls>\\n    <search-algolia-results slot=\"search-results\" data-qa=\"search-results-overlay\">\\n      <search-algolia-results-category slot=\"content\" data-qa=\"search-results-category\">\\n        <h2 slot=\"title\" data-qa=\"search-category-header\" class=\"h2\">Movies / TV</h2>\\n        <ul slot=\"results\"></ul>\\n      </search-algolia-results-category>\\n      <search-algolia-results-category slot=\"celebrity\" data-qa=\"search-results-category\">\\n        <h2 slot=\"title\" data-qa=\"search-category-header\" class=\"h2\">Celebrity</h2>\\n        <ul slot=\"results\"></ul>\\n      </search-algolia-results-category>\\n      <search-algolia-results-category slot=\"none\">\\n        <h2 slot=\"title\" data-qa=\"search-no-results\" class=\"h2\">No Results Found</h2>\\n      </search-algolia-results-category>\\n      <a slot=\"view-all\" href=\"/\" data-qa=\"search-view-all\">View All</a>\\n    </search-algolia-results>\\n  </search-algolia>\\n\\n  <mobile-search-algolia slot=\"mobile-search\" logoselector=\"#navbar .logo-wrap\" navselector=\"#navbar\" data-qa=\"mobile-search-algolia\"></mobile-search-algolia>\\n\\n  <ul slot=\"nav-links\">\\n    <li><a href=\"/about#whatisthetomatometer\" data-qa=\"header:link-whats-tmeter\">What\\'s the Tomatometer&reg;?</a></li>\\n    <li><a href=\"/critics\" data-qa=\"header:link-critics-home\">Critics</a></li>\\n    <li data-RtHeaderManager=\"loginLink\">\\n      <ul>\\n        <li>\\n          <button id=\"masthead-show-login-btn\" class=\"js-cognito-signin button--link\" data-qa=\"header:login-btn\">Login/signup</button>\\n        </li>\\n      </ul>\\n    </li>\\n    <li data-RtHeaderManager=\"userItem:keydown,keyup,mouseenter\" data-qa=\"header:user\"></li>\\n  </ul>\\n\\n  <rt-header-nav slot=\"nav-dropdowns\">\\n    <rt-header-nav-item slot=\"movies\" data-qa=\"masthead:movies-dvds\">\\n      <a class=\"unset\" slot=\"link\" href=\"/browse/movies_in_theaters\" data-qa=\"masthead:movies-dvds-link\">Movies</a>\\n      <rt-header-nav-item-dropdown aria-expanded=\"false\" slot=\"dropdown\">\\n        <rt-header-nav-item-dropdown-list slot=\"column\" data-qa=\"header-movies-in-theaters\">\\n          <p slot=\"title\" class=\"h4\" data-qa=\"movies-in-theaters-main-link\"><a class=\"unset\" href=\"/browse/movies_in_theaters\">Movies in theaters</a></p>\\n          <ul slot=\"links\">\\n            <li data-qa=\"in-theaters-item\">\\n              <a href=\"/browse/opening\" data-qa=\"opening-this-week-link\">Opening this week</a>\\n            </li>\\n            <li data-qa=\"in-theaters-item\">\\n              <a href=\"/browse/upcoming\" data-qa=\"coming-soon-link\">Coming soon to theaters</a>\\n            </li>\\n            <li data-qa=\"in-theaters-item\">\\n              <a href=\"/browse/cf-in-theaters\" data-qa=\"certified-fresh-link\">Certified fresh movies</a>\\n            </li>\\n          </ul>\\n        </rt-header-nav-item-dropdown-list>\\n        <rt-header-nav-item-dropdown-list slot=\"column\" data-qa=\"header-on-dvd-streaming\">\\n          <p slot=\"title\" class=\"h4\" data-qa=\"dvd-streaming-main-link\"><a class=\"unset\" href=\"/browse/movies_at_home\">Movies at home</a></p>\\n          <ul slot=\"links\">\\n            <li data-qa=\"dvd-streaming-item\">\\n              <a href=\"/browse/movies_at_home/affiliates:vudu\" data-qa=\"vudu-link\">Vudu</a>\\n            </li>\\n            <li data-qa=\"dvd-streaming-item\">\\n              <a href=\"/browse/movies_at_home/affiliates:netflix\" data-qa=\"netflix-link\">Netflix streaming</a>\\n            </li>\\n            <li data-qa=\"dvd-streaming-item\">\\n              <a href=\"/browse/movies_at_home/affiliates:apple_tv\" data-qa=\"itunes-link\">iTunes</a>\\n            </li>\\n            <li data-qa=\"dvd-streaming-item\">\\n              <a href=\"/browse/movies_at_home/affiliates:amazon_prime\" data-qa=\"amazon-link\">Amazon and amazon prime</a>\\n            </li>\\n            <li data-qa=\"dvd-streaming-item\">\\n              <a href=\"/browse/movies_at_home/sort:popular\" data-qa=\"most-popular-link\">Most popular streaming movies</a>\\n            </li>\\n            <li data-qa=\"dvd-streaming-item\">\\n              <a href=\"/browse/movies_at_home/critics:certified_fresh\" data-qa=\"certified-fresh-link\">Certified fresh movies</a>\\n            </li>\\n            <li data-qa=\"dvd-streaming-item\">\\n              <a href=\"/browse/movies_at_home\" data-qa=\"browse-all-link\">Browse all</a>\\n            </li>\\n          </ul>\\n        </rt-header-nav-item-dropdown-list>\\n        <rt-header-nav-item-dropdown-list slot=\"column\" data-qa=\"header-movies-more\">\\n          <p slot=\"title\" class=\"h4\">More</p>\\n          <ul slot=\"links\">\\n            <li data-qa=\"movies-more-item\">\\n              <a href=\"/top\" data-qa=\"movies-more-link\">Top movies</a>\\n            </li>\\n            <li data-qa=\"movies-more-item\">\\n              <a href=\"/trailers\" data-qa=\"movies-more-link\">Trailers</a>\\n            </li>\\n          </ul>\\n        </rt-header-nav-item-dropdown-list>\\n        \\n          <rt-header-nav-item-dropdown-list slot=\"column\" cfp>\\n            <p slot=\"title\" class=\"h4\">Certified fresh picks</p>\\n            <ul slot=\"links\" class=\"cfp-wrap\" data-qa=\"header-certified-fresh-picks\" data-curation=\"rt-nav-list-cf-picks\">\\n              \\n                <li data-qa=\"cert-fresh-item\">\\n                  \\n                  <a class=\"cfp-tile\" href=\"/m/m3gan\" data-qa=\"cert-fresh-link\">\\n    <tile-dynamic data-qa=\"tile\">\\n        <img\\n            alt=\"M3GAN poster image\"\\n            slot=\"image\"\\n            src=\"https://resizing.flixster.com/LMbScjDLUzsQLgeeoOF0FAhNcC8=/fit-in/180x240/v2/https://resizing.flixster.com/rPJASTXFjLpmiVTi3D6RGcq-skM=/ems.cHJkLWVtcy1hc3NldHMvbW92aWVzLzhjYjA0ODBiLTNlNmUtNDlhOS05ZWRlLThlOGQ2MmEyZjlmYS5qcGc=\"\\n            loading=\"lazy\"\\n        />\\n        <div slot=\"caption\" data-track=\"scores\">\\n            <score-icon-critic\\n                alignment=\"left\"\\n                percentage=\"95\"\\n                state=\"certified_fresh\"\\n            ></score-icon-critic>\\n            <span class=\"p--small\">M3GAN</span>\\n            <span class=\"sr-only\">Link to M3GAN</span>\\n        </div>\\n    </tile-dynamic>\\n</a>\\n                </li>\\n              \\n              \\n                <li data-qa=\"cert-fresh-item\">\\n                  \\n                  <a class=\"cfp-tile\" href=\"/m/alcarras\" data-qa=\"cert-fresh-link\">\\n    <tile-dynamic data-qa=\"tile\">\\n        <img\\n            alt=\"Alcarràs poster image\"\\n            slot=\"image\"\\n            src=\"https://resizing.flixster.com/H5I6FWEXKIZcT_qxE0bG-xLomFY=/fit-in/180x240/v2/https://resizing.flixster.com/PbbehNpv3rq_TDm3xvFqgqqNo54=/ems.cHJkLWVtcy1hc3NldHMvbW92aWVzLzY5ZTBlNjBmLThiMDMtNGJiMC1hNTViLWRkZDkxZjMwMDcwOC5wbmc=\"\\n            loading=\"lazy\"\\n        />\\n        <div slot=\"caption\" data-track=\"scores\">\\n            <score-icon-critic\\n                alignment=\"left\"\\n                percentage=\"90\"\\n                state=\"certified_fresh\"\\n            ></score-icon-critic>\\n            <span class=\"p--small\">Alcarràs</span>\\n            <span class=\"sr-only\">Link to Alcarràs</span>\\n        </div>\\n    </tile-dynamic>\\n</a>\\n                </li>\\n              \\n              \\n                <li data-qa=\"cert-fresh-item\">\\n                  \\n                  <a class=\"cfp-tile\" href=\"/m/spoiler_alert_2022\" data-qa=\"cert-fresh-link\">\\n    <tile-dynamic data-qa=\"tile\">\\n        <img\\n            alt=\"Spoiler Alert poster image\"\\n            slot=\"image\"\\n            src=\"https://resizing.flixster.com/4ENdWq4-hrE7Sj1qrEDIeizlD5g=/fit-in/180x240/v2/https://resizing.flixster.com/S52STbZpNjjH3_XQK2Aks1uJkHc=/ems.cHJkLWVtcy1hc3NldHMvbW92aWVzLzExYmIwOTA1LTY4MzQtNDMzZS1hYzA1LWI3ZmZhNmY4NjczNC5qcGc=\"\\n            loading=\"lazy\"\\n        />\\n        <div slot=\"caption\" data-track=\"scores\">\\n            <score-icon-critic\\n                alignment=\"left\"\\n                percentage=\"84\"\\n                state=\"certified_fresh\"\\n            ></score-icon-critic>\\n            <span class=\"p--small\">Spoiler Alert</span>\\n            <span class=\"sr-only\">Link to Spoiler Alert</span>\\n        </div>\\n    </tile-dynamic>\\n</a>\\n                </li>\\n              \\n            </ul>\\n          </rt-header-nav-item-dropdown-list>\\n        \\n      </rt-header-nav-item-dropdown>\\n    </rt-header-nav-item>\\n\\n    <rt-header-nav-item slot=\"tv\" data-qa=\"masthead:tv\">\\n      <a class=\"unset\" slot=\"link\" href=\"/browse/tv_series_browse/sort:popular\" data-qa=\"masthead:tv-link\">Tv shows</a>\\n      <rt-header-nav-item-dropdown aria-expanded=\"false\" slot=\"dropdown\">\\n        \\n          <rt-header-nav-item-dropdown-list slot=\"column\" data-qa=\"header-tv-list1\">\\n            <p slot=\"title\" class=\"h4\" data-curation=\"rt-hp-text-list-new-tv-this-week\">\\n              New TV Tonight\\n            </p>\\n            <ul slot=\"links\" class=\"score-list-wrap\">\\n              \\n                <li data-qa=\"list-item\">\\n                  <a class=\"score-list-item\" href=\"/tv/the_last_of_us/s01\" data-qa=\"list-item-link\">\\n    <score-icon-critic\\n        alignment=\"left\"\\n        percentage=\"99\"\\n        state=\"certified_fresh\"\\n    ></score-icon-critic>\\n    <span>\\n        \\n            The Last of Us: Season 1\\n        \\n    </span>\\n</a>\\n                </li>\\n              \\n                <li data-qa=\"list-item\">\\n                  <a class=\"score-list-item\" href=\"/tv/that_90s_show/s01\" data-qa=\"list-item-link\">\\n    <score-icon-critic\\n        alignment=\"left\"\\n        percentage=\"72\"\\n        state=\"fresh\"\\n    ></score-icon-critic>\\n    <span>\\n        \\n            That &#39;90s Show: Season 1\\n        \\n    </span>\\n</a>\\n                </li>\\n              \\n                <li data-qa=\"list-item\">\\n                  <a class=\"score-list-item\" href=\"/tv/night_court_2023/s01\" data-qa=\"list-item-link\">\\n    <score-icon-critic\\n        alignment=\"left\"\\n        percentage=\"70\"\\n        state=\"fresh\"\\n    ></score-icon-critic>\\n    <span>\\n        \\n            Night Court: Season 1\\n        \\n    </span>\\n</a>\\n                </li>\\n              \\n                <li data-qa=\"list-item\">\\n                  <a class=\"score-list-item\" href=\"/tv/murf_the_surf_jewels_jesus_and_mayhem_in_the_usa/s01\" data-qa=\"list-item-link\">\\n    <score-icon-critic\\n        alignment=\"left\"\\n        percentage=\"\"\\n        state=\"\"\\n    ></score-icon-critic>\\n    <span>\\n        \\n            Murf the Surf: Jewels, Jesus, and Mayhem in the USA: Season 1\\n        \\n    </span>\\n</a>\\n                </li>\\n              \\n                <li data-qa=\"list-item\">\\n                  <a class=\"score-list-item\" href=\"/tv/mayor_of_kingstown/s02\" data-qa=\"list-item-link\">\\n    <score-icon-critic\\n        alignment=\"left\"\\n        percentage=\"33\"\\n        state=\"rotten\"\\n    ></score-icon-critic>\\n    <span>\\n        \\n            Mayor of Kingstown: Season 2\\n        \\n    </span>\\n</a>\\n                </li>\\n              \\n                <li data-qa=\"list-item\">\\n                  <a class=\"score-list-item\" href=\"/tv/godfather_of_harlem/s03\" data-qa=\"list-item-link\">\\n    <score-icon-critic\\n        alignment=\"left\"\\n        percentage=\"\"\\n        state=\"\"\\n    ></score-icon-critic>\\n    <span>\\n        \\n            Godfather of Harlem: Season 3\\n        \\n    </span>\\n</a>\\n                </li>\\n              \\n                <li data-qa=\"list-item\">\\n                  <a class=\"score-list-item\" href=\"/tv/truth_be_told_2019/s03\" data-qa=\"list-item-link\">\\n    <score-icon-critic\\n        alignment=\"left\"\\n        percentage=\"\"\\n        state=\"\"\\n    ></score-icon-critic>\\n    <span>\\n        \\n            Truth Be Told: Season 3\\n        \\n    </span>\\n</a>\\n                </li>\\n              \\n                <li data-qa=\"list-item\">\\n                  <a class=\"score-list-item\" href=\"/tv/9_1_1_lone_star/s04\" data-qa=\"list-item-link\">\\n    <score-icon-critic\\n        alignment=\"left\"\\n        percentage=\"\"\\n        state=\"\"\\n    ></score-icon-critic>\\n    <span>\\n        \\n            9-1-1: Lone Star: Season 4\\n        \\n    </span>\\n</a>\\n                </li>\\n              \\n                <li data-qa=\"list-item\">\\n                  <a class=\"score-list-item\" href=\"/tv/fauda/s04\" data-qa=\"list-item-link\">\\n    <score-icon-critic\\n        alignment=\"left\"\\n        percentage=\"\"\\n        state=\"\"\\n    ></score-icon-critic>\\n    <span>\\n        \\n            Fauda: Season 4\\n        \\n    </span>\\n</a>\\n                </li>\\n              \\n                <li data-qa=\"list-item\">\\n                  <a class=\"score-list-item\" href=\"/tv/the_legend_of_vox_machina/s02\" data-qa=\"list-item-link\">\\n    <score-icon-critic\\n        alignment=\"left\"\\n        percentage=\"100\"\\n        state=\"fresh\"\\n    ></score-icon-critic>\\n    <span>\\n        \\n            The Legend of Vox Machina: Season 2\\n        \\n    </span>\\n</a>\\n                </li>\\n              \\n            </ul>\\n            <a\\n              class=\"a--short\"\\n              data-qa=\"tv-list1-view-all-link\"\\n              href=\"/browse/tv_series_browse/sort:newest\"\\n              slot=\"view-all-link\"\\n            >\\n                View All\\n            </a>\\n          </rt-header-nav-item-dropdown-list>\\n        \\n\\n        \\n          <rt-header-nav-item-dropdown-list slot=\"column\" data-qa=\"header-tv-list2\"]>\\n            <p slot=\"title\" class=\"h4\" data-curation=\"rt-hp-text-list-most-popular-tv-on-rt\">\\n              Most Popular TV on RT\\n            </p>\\n            <ul slot=\"links\" class=\"score-list-wrap\">\\n              \\n                <li data-qa=\"list-item\">\\n                  <a class=\"score-list-item\" href=\"/tv/the_last_of_us/s01\" data-qa=\"list-item-link\">\\n    <score-icon-critic\\n        alignment=\"left\"\\n        percentage=\"99\"\\n        state=\"certified_fresh\"\\n    ></score-icon-critic>\\n    <span>\\n        \\n            The Last of Us: Season 1\\n        \\n    </span>\\n</a>\\n                </li>\\n              \\n                <li data-qa=\"list-item\">\\n                  <a class=\"score-list-item\" href=\"/tv/velma/s01\" data-qa=\"list-item-link\">\\n    <score-icon-critic\\n        alignment=\"left\"\\n        percentage=\"50\"\\n        state=\"rotten\"\\n    ></score-icon-critic>\\n    <span>\\n        \\n            Velma: Season 1\\n        \\n    </span>\\n</a>\\n                </li>\\n              \\n                <li data-qa=\"list-item\">\\n                  <a class=\"score-list-item\" href=\"/tv/servant/s04\" data-qa=\"list-item-link\">\\n    <score-icon-critic\\n        alignment=\"left\"\\n        percentage=\"100\"\\n        state=\"fresh\"\\n    ></score-icon-critic>\\n    <span>\\n        \\n            Servant: Season 4\\n        \\n    </span>\\n</a>\\n                </li>\\n              \\n                <li data-qa=\"list-item\">\\n                  <a class=\"score-list-item\" href=\"/tv/mayor_of_kingstown/s02\" data-qa=\"list-item-link\">\\n    <score-icon-critic\\n        alignment=\"left\"\\n        percentage=\"33\"\\n        state=\"rotten\"\\n    ></score-icon-critic>\\n    <span>\\n        \\n            Mayor of Kingstown: Season 2\\n        \\n    </span>\\n</a>\\n                </li>\\n              \\n                <li data-qa=\"list-item\">\\n                  <a class=\"score-list-item\" href=\"/tv/will_trent/s01\" data-qa=\"list-item-link\">\\n    <score-icon-critic\\n        alignment=\"left\"\\n        percentage=\"100\"\\n        state=\"fresh\"\\n    ></score-icon-critic>\\n    <span>\\n        \\n            Will Trent: Season 1\\n        \\n    </span>\\n</a>\\n                </li>\\n              \\n                <li data-qa=\"list-item\">\\n                  <a class=\"score-list-item\" href=\"/tv/the_white_lotus/s02\" data-qa=\"list-item-link\">\\n    <score-icon-critic\\n        alignment=\"left\"\\n        percentage=\"94\"\\n        state=\"certified_fresh\"\\n    ></score-icon-critic>\\n    <span>\\n        \\n            The White Lotus: Season 2\\n        \\n    </span>\\n</a>\\n                </li>\\n              \\n                <li data-qa=\"list-item\">\\n                  <a class=\"score-list-item\" href=\"/tv/vikings_valhalla/s02\" data-qa=\"list-item-link\">\\n    <score-icon-critic\\n        alignment=\"left\"\\n        percentage=\"100\"\\n        state=\"fresh\"\\n    ></score-icon-critic>\\n    <span>\\n        \\n            Vikings: Valhalla: Season 2\\n        \\n    </span>\\n</a>\\n                </li>\\n              \\n                <li data-qa=\"list-item\">\\n                  <a class=\"score-list-item\" href=\"/tv/kaleidoscope/s01\" data-qa=\"list-item-link\">\\n    <score-icon-critic\\n        alignment=\"left\"\\n        percentage=\"48\"\\n        state=\"rotten\"\\n    ></score-icon-critic>\\n    <span>\\n        \\n            Kaleidoscope: Season 1\\n        \\n    </span>\\n</a>\\n                </li>\\n              \\n                <li data-qa=\"list-item\">\\n                  <a class=\"score-list-item\" href=\"/tv/night_court_2023/s01\" data-qa=\"list-item-link\">\\n    <score-icon-critic\\n        alignment=\"left\"\\n        percentage=\"70\"\\n        state=\"fresh\"\\n    ></score-icon-critic>\\n    <span>\\n        \\n            Night Court: Season 1\\n        \\n    </span>\\n</a>\\n                </li>\\n              \\n            </ul>\\n            <a\\n              class=\"a--short\"\\n              data-qa=\"tv-list2-view-all-link\"\\n              href=\"/browse/tv_series_browse/sort:popular?\"\\n              slot=\"view-all-link\"\\n            >\\n                View All\\n            </a>\\n          </rt-header-nav-item-dropdown-list>\\n        \\n\\n        <rt-header-nav-item-dropdown-list slot=\"column\" data-qa=\"header-tv-more\">\\n          <p slot=\"title\" class=\"h4\">More</p>\\n          <ul slot=\"links\">\\n            <li data-qa=\"tv-more-item\">\\n              <a href=\"/browse/tv_series_browse/sort:popular\" data-qa=\"tv-more-link\">\\n                <span>Top TV Shows</span>\\n              </a>\\n            </li>\\n            <li data-qa=\"tv-more-item\">\\n              <a href=\"/browse/tv_series_browse/critics:fresh\" data-qa=\"tv-more-link\">\\n                <span>Certified Fresh TV</span>\\n              </a>\\n            </li>\\n          </ul>\\n          <p slot=\"title2\" class=\"h4\" data-curation=\"rt-nav-list-tv-episodic-reviews\">\\n            Episodic Reviews\\n          </p>\\n          <ul slot=\"links2\" class=\"score-list-wrap\">\\n            \\n              <li data-qa=\"tv-media-list-item\" data-qa=\"tv-media-list-item\">\\n                <a href=\"/tv/andor/s01#desktopEpisodeList\" data-qa=\"tv-media-list-link\">\\n                  <span>Andor: Season 1</span>\\n                </a>\\n              </li>\\n            \\n              <li data-qa=\"tv-media-list-item\" data-qa=\"tv-media-list-item\">\\n                <a href=\"/tv/she_hulk_attorney_at_law/s01#desktopEpisodeList\" data-qa=\"tv-media-list-link\">\\n                  <span>She-Hulk: Attorney at Law: Season 1</span>\\n                </a>\\n              </li>\\n            \\n              <li data-qa=\"tv-media-list-item\" data-qa=\"tv-media-list-item\">\\n                <a href=\"/tv/house_of_the_dragon/s01#desktopEpisodeList\" data-qa=\"tv-media-list-link\">\\n                  <span>House of the Dragon: Season 1</span>\\n                </a>\\n              </li>\\n            \\n              <li data-qa=\"tv-media-list-item\" data-qa=\"tv-media-list-item\">\\n                <a href=\"/tv/the_lord_of_the_rings_the_rings_of_power/s01#desktopEpisodeList\" data-qa=\"tv-media-list-link\">\\n                  <span>The Lord of the Rings: The Rings of Power: Season 1</span>\\n                </a>\\n              </li>\\n            \\n              <li data-qa=\"tv-media-list-item\" data-qa=\"tv-media-list-item\">\\n                <a href=\"/tv/atlanta/s04#desktopEpisodeList\" data-qa=\"tv-media-list-link\">\\n                  <span>Atlanta: Season 4</span>\\n                </a>\\n              </li>\\n            \\n          </ul>\\n        </rt-header-nav-item-dropdown-list>\\n\\n        \\n          <rt-header-nav-item-dropdown-list slot=\"column\" cfp data-qa=\"header-certified-fresh-pick\">\\n            <p slot=\"title\" class=\"h4\">\\n              Certified fresh pick\\n            </p>\\n            <ul slot=\"links\" class=\"cfp-wrap\" data-curation=\"rt-nav-list-cf-picks\">\\n              <li>\\n                \\n                <a class=\"cfp-tile\" href=\"/tv/the_last_of_us/s01\" data-qa=\"cert-fresh-link\">\\n    <tile-dynamic data-qa=\"tile\">\\n        <img\\n            alt=\"The Last of Us: Season 1 poster image\"\\n            slot=\"image\"\\n            src=\"https://resizing.flixster.com/EQwjsJzvAePoD3yc8_F4tnKxepw=/fit-in/180x240/v2/https://resizing.flixster.com/1t3h8KAxIMmKUCU09OoqpfqD6R0=/ems.cHJkLWVtcy1hc3NldHMvdHZzZWFzb24vZjU3YTRlYjItOTAzNC00MzFjLTg0NGQtODA1ZGU2OWY1NzY1LmpwZw==\"\\n            loading=\"lazy\"\\n        />\\n        <div slot=\"caption\" data-track=\"scores\">\\n            <score-icon-critic\\n                alignment=\"left\"\\n                percentage=\"99\"\\n                state=\"certified_fresh\"\\n            ></score-icon-critic>\\n            <span class=\"p--small\">The Last of Us: Season 1</span>\\n            <span class=\"sr-only\">Link to The Last of Us: Season 1</span>\\n        </div>\\n    </tile-dynamic>\\n</a>\\n              </li>\\n            </ul>\\n          </rt-header-nav-item-dropdown-list>\\n        \\n      </rt-header-nav-item-dropdown>\\n    </rt-header-nav-item>\\n\\n    <rt-header-nav-item slot=\"trivia\">\\n      <a class=\"unset\"\\n          slot=\"link\"\\n          href=\"https://rottentomatoes.com/daily\"\\n          data-qa=\"masthead:trivia-link\"\\n      >\\n          Movie Trivia\\n          <temporary-display\\n            slot=\"temporary-display\"\\n            key=\"trivia\"\\n            element=\"#triviaLink\"\\n            event=\"click\"\\n          >\\n            <rt-badge hidden>New</rt-badge>\\n          </temporary-display>\\n      </a>\\n    </rt-header-nav-item>\\n\\n    <rt-header-nav-item slot=\"news\" data-qa=\"masthead:news\">\\n      <a class=\"unset\" slot=\"link\" href=\"https://editorial.rottentomatoes.com/\" data-qa=\"masthead:news-link\">News</a>\\n      <rt-header-nav-item-dropdown aria-expanded=\"false\" slot=\"dropdown\">\\n        <rt-header-nav-item-dropdown-list slot=\"column\" data-qa=\"header-news-columns\">\\n          <p slot=\"title\" class=\"h4\">Columns</p>\\n          <ul slot=\"links\">\\n            <li data-qa=\"column-item\">\\n              <a href=\"https://editorial.rottentomatoes.com/24-frames/\" data-pageheader=\"24 Frames\" data-qa=\"column-link\">\\n                24 Frames\\n              </a>\\n            </li>\\n            <li data-qa=\"column-item\">\\n              <a href=\"https://editorial.rottentomatoes.com/all-time-lists/\" data-pageheader=\"All-Time Lists\" data-qa=\"column-link\">\\n                All-Time Lists\\n              </a>\\n            </li>\\n            <li data-qa=\"column-item\">\\n              <a href=\"https://editorial.rottentomatoes.com/binge-guide/\" data-pageheader=\"Binge Guide\" data-qa=\"column-link\">\\n                Binge Guide\\n              </a>\\n            </li>\\n            <li data-qa=\"column-item\">\\n              <a href=\"https://editorial.rottentomatoes.com/comics-on-tv/\" data-pageheader=\"Comics on TV\" data-qa=\"column-link\">\\n                Comics on TV\\n              </a>\\n            </li>\\n            <li data-qa=\"column-item\">\\n              <a href=\"https://editorial.rottentomatoes.com/countdown/\" data-pageheader=\"Countdown\" data-qa=\"column-link\">\\n                Countdown\\n              </a>\\n            </li>\\n            <li data-qa=\"column-item\">\\n              <a href=\"https://editorial.rottentomatoes.com/critics-consensus/\" data-pageheader=\"Critics Consensus\" data-qa=\"column-link\">\\n                Critics Consensus\\n              </a>\\n            </li>\\n            <li data-qa=\"column-item\">\\n              <a href=\"https://editorial.rottentomatoes.com/five-favorite-films/\" data-pageheader=\"Five Favorite Films\" data-qa=\"column-link\">\\n                Five Favorite Films\\n              </a>\\n            </li>\\n            <li data-qa=\"column-item\">\\n              <a href=\"https://editorial.rottentomatoes.com/now-streaming/\" data-pageheader=\"Now Streaming\" data-qa=\"column-link\"\\n              >Now Streaming\\n            </a>\\n            </li>\\n            <li data-qa=\"column-item\">\\n              <a href=\"https://editorial.rottentomatoes.com/parental-guidance/\" data-pageheader=\"Parental Guidance\" data-qa=\"column-link\">\\n                Parental Guidance\\n              </a>\\n            </li>\\n            <li data-qa=\"column-item\">\\n              <a href=\"https://editorial.rottentomatoes.com/red-carpet-roundup/\" data-pageheader=\"Red Carpet Roundup\" data-qa=\"column-link\">\\n                Red Carpet Roundup\\n              </a>\\n            </li>\\n            <li data-qa=\"column-item\">\\n              <a href=\"https://editorial.rottentomatoes.com/movie-tv-scorecards/\" data-pageheader=\"Scorecards\" data-qa=\"column-link\">\\n                Scorecards\\n              </a>\\n            </li>\\n            <li data-qa=\"column-item\">\\n              <a href=\"https://editorial.rottentomatoes.com/sub-cult/\" data-pageheader=\"Sub-Cult\" data-qa=\"column-link\">\\n                Sub-Cult\\n              </a>\\n            </li>\\n            <li data-qa=\"column-item\">\\n              <a href=\"https://editorial.rottentomatoes.com/total-recall/\" data-pageheader=\"Total Recall\" data-qa=\"column-link\"\\n              >Total Recall\\n            </a>\\n            </li>\\n            <li data-qa=\"column-item\">\\n              <a href=\"https://editorial.rottentomatoes.com/video-interviews/\" data-pageheader=\"Video Interviews\" data-qa=\"column-link\">\\n                Video Interviews\\n              </a>\\n            </li>\\n            <li data-qa=\"column-item\">\\n              <a href=\"https://editorial.rottentomatoes.com/weekend-box-office/\" data-pageheader=\"Weekend Box Office\" data-qa=\"column-link\"\\n              >Weekend Box Office\\n            </a>\\n            </li>\\n            <li data-qa=\"column-item\">\\n              <a href=\"https://editorial.rottentomatoes.com/weekly-ketchup/\" data-pageheader=\"Weekly Ketchup\" data-qa=\"column-link\">\\n                Weekly Ketchup\\n              </a>\\n            </li>\\n            <li data-qa=\"column-item\">\\n              <a href=\"https://editorial.rottentomatoes.com/what-to-watch/\" data-pageheader=\"What to Watch\" data-qa=\"column-link\">\\n                What to Watch\\n              </a>\\n            </li>\\n            <li data-qa=\"column-item\">\\n              <a href=\"https://editorial.rottentomatoes.com/the-zeros/\" data-pageheader=\"The Zeros\" data-qa=\"column-link\">\\n                The Zeros\\n              </a>\\n              </li>\\n          </ul>\\n        </rt-header-nav-item-dropdown-list>\\n\\n        \\n          <rt-header-nav-item-dropdown-list slot=\"column\" data-qa=\"header-news-best-worst\">\\n            <p slot=\"title\" class=\"h4\">Best and Worst</p>\\n            <ul slot=\"links\" class=\"news-wrap\">\\n              \\n                <li data-qa=\"best-worst-item\">\\n                  <a class=\"news-tile\" href=\"https://editorial.rottentomatoes.com/guide/all-marvel-cinematic-universe-movies-ranked/\" data-qa=\"news-link\">\\n    <tile-dynamic\\n        data-qa=\"tile\"\\n        orientation=\"landscape\"\\n    >\\n        <img\\n            alt=\"Marvel Movies Ranked Worst to Best by Tomatometer poster image\"\\n            slot=\"image\"\\n            src=\"https://prd-rteditorial.s3.us-west-2.amazonaws.com/wp-content/uploads/2018/02/14193805/Marvel-Movies-Recall2.jpg\"\\n            loading=\"lazy\"\\n        />\\n        <div slot=\"caption\">\\n            <p>Marvel Movies Ranked Worst to Best by Tomatometer</p>\\n            <span class=\"sr-only\">Link to Marvel Movies Ranked Worst to Best by Tomatometer</span>\\n        </div>\\n    </tile-dynamic>\\n</a>\\n                </li>\\n              \\n                <li data-qa=\"best-worst-item\">\\n                  <a class=\"news-tile\" href=\"https://editorial.rottentomatoes.com/guide/jurassic-park-world-movies/\" data-qa=\"news-link\">\\n    <tile-dynamic\\n        data-qa=\"tile\"\\n        orientation=\"landscape\"\\n    >\\n        <img\\n            alt=\"<em>Jurassic Park</em> Movies Ranked By Tomatometer poster image\"\\n            slot=\"image\"\\n            src=\"https://prd-rteditorial.s3.us-west-2.amazonaws.com/wp-content/uploads/2015/06/19171851/Jurassic-Park-Franchise-Recall.jpg\"\\n            loading=\"lazy\"\\n        />\\n        <div slot=\"caption\">\\n            <p><em>Jurassic Park</em> Movies Ranked By Tomatometer</p>\\n            <span class=\"sr-only\">Link to <em>Jurassic Park</em> Movies Ranked By Tomatometer</span>\\n        </div>\\n    </tile-dynamic>\\n</a>\\n                </li>\\n              \\n            </ul>\\n            <a\\n              class=\"a--short\"\\n              data-qa=\"best-worst-view-all-link\"\\n              href=\"https://editorial.rottentomatoes.com/total-recall\"\\n              slot=\"view-all-link\"\\n            >\\n              View All\\n            </a>\\n          </rt-header-nav-item-dropdown-list>\\n        \\n\\n        \\n          <rt-header-nav-item-dropdown-list slot=\"column\" data-qa=\"header-news-guides\">\\n            <p slot=\"title\" class=\"h4\">Guides</p>\\n            <ul slot=\"links\" class=\"news-wrap\">\\n              \\n                <li data-qa=\"guides-item\">\\n                  <a class=\"news-tile\" href=\"https://editorial.rottentomatoes.com/rt-hub/golden-tomato-awards-2022/\" data-qa=\"news-link\">\\n    <tile-dynamic\\n        data-qa=\"tile\"\\n        orientation=\"landscape\"\\n    >\\n        <img\\n            alt=\"Golden Tomato Awards: Best Movies &#038; TV of 2022 poster image\"\\n            slot=\"image\"\\n            src=\"https://prd-rteditorial.s3.us-west-2.amazonaws.com/wp-content/uploads/2022/01/12130451/660GTA.jpg\"\\n            loading=\"lazy\"\\n        />\\n        <div slot=\"caption\">\\n            <p>Golden Tomato Awards: Best Movies &#038; TV of 2022</p>\\n            <span class=\"sr-only\">Link to Golden Tomato Awards: Best Movies &#038; TV of 2022</span>\\n        </div>\\n    </tile-dynamic>\\n</a>\\n                </li>\\n              \\n                <li data-qa=\"guides-item\">\\n                  <a class=\"news-tile\" href=\"https://editorial.rottentomatoes.com/rt-hub/awards-tour/\" data-qa=\"news-link\">\\n    <tile-dynamic\\n        data-qa=\"tile\"\\n        orientation=\"landscape\"\\n    >\\n        <img\\n            alt=\"Awards Tour poster image\"\\n            slot=\"image\"\\n            src=\"https://prd-rteditorial.s3.us-west-2.amazonaws.com/wp-content/uploads/2022/09/12091739/RT_AwardsTour_Thumbnail_600x314_Gradient.jpg\"\\n            loading=\"lazy\"\\n        />\\n        <div slot=\"caption\">\\n            <p>Awards Tour</p>\\n            <span class=\"sr-only\">Link to Awards Tour</span>\\n        </div>\\n    </tile-dynamic>\\n</a>\\n                </li>\\n              \\n            </ul>\\n            <a\\n              class=\"a--short\"\\n              data-qa=\"guides-view-all-link\"\\n              href=\"https://editorial.rottentomatoes.com/rt-hubs\"\\n              slot=\"view-all-link\"\\n            >\\n              View All\\n            </a>\\n          </rt-header-nav-item-dropdown-list>\\n        \\n\\n        \\n          <rt-header-nav-item-dropdown-list slot=\"column\" data-qa=\"header-news-rt-news\">\\n            <p slot=\"title\" class=\"h4\">RT News</p>\\n            <ul slot=\"links\" class=\"news-wrap\">\\n              \\n                <li data-qa=\"rt-news-item\">\\n                  <a class=\"news-tile\" href=\"https://editorial.rottentomatoes.com/article/tv-premiere-dates-2023/\" data-qa=\"news-link\">\\n    <tile-dynamic\\n        data-qa=\"tile\"\\n        orientation=\"landscape\"\\n    >\\n        <img\\n            alt=\"TV Premiere Dates 2023 poster image\"\\n            slot=\"image\"\\n            src=\"https://prd-rteditorial.s3.us-west-2.amazonaws.com/wp-content/uploads/2023/01/18142257/TedLasso_304_600x314.jpg\"\\n            loading=\"lazy\"\\n        />\\n        <div slot=\"caption\">\\n            <p>TV Premiere Dates 2023</p>\\n            <span class=\"sr-only\">Link to TV Premiere Dates 2023</span>\\n        </div>\\n    </tile-dynamic>\\n</a>\\n                </li>\\n              \\n                <li data-qa=\"rt-news-item\">\\n                  <a class=\"news-tile\" href=\"https://editorial.rottentomatoes.com/article/10-wtf-horror-movies-to-watch-if-you-loved-m3gan/\" data-qa=\"news-link\">\\n    <tile-dynamic\\n        data-qa=\"tile\"\\n        orientation=\"landscape\"\\n    >\\n        <img\\n            alt=\"10 WTF Horror Movies to Watch if You Loved <em>M3GAN</em> poster image\"\\n            slot=\"image\"\\n            src=\"https://prd-rteditorial.s3.us-west-2.amazonaws.com/wp-content/uploads/2023/01/17174920/WTF_Horror_2023-Rep.jpg\"\\n            loading=\"lazy\"\\n        />\\n        <div slot=\"caption\">\\n            <p>10 WTF Horror Movies to Watch if You Loved <em>M3GAN</em></p>\\n            <span class=\"sr-only\">Link to 10 WTF Horror Movies to Watch if You Loved <em>M3GAN</em></span>\\n        </div>\\n    </tile-dynamic>\\n</a>\\n                </li>\\n              \\n            </ul>\\n            <a\\n              class=\"a--short\"\\n              data-qa=\"rt-news-view-all-link\"\\n              href=\"https://editorial.rottentomatoes.com/news\"\\n              slot=\"view-all-link\"\\n            >\\n              View All\\n            </a>\\n          </rt-header-nav-item-dropdown-list>\\n        \\n      </rt-header-nav-item-dropdown>\\n    </rt-header-nav-item>\\n\\n    <rt-header-nav-item slot=\"showtimes\">\\n      <a\\n        class=\"unset\"\\n        slot=\"link\"\\n        href=\"https://www.fandango.com/movies-in-theaters\"\\n        target=\"_blank\"\\n        data-qa=\"masthead:tickets-showtimes-link\"\\n      >\\n        Showtimes\\n      </a>\\n    </rt-header-nav-item>\\n  </rt-header-nav>\\n\\n</rt-header>\\n<section class=\"trending-bar\">\\n    \\n    \\n    <div id=\"trending_bar_ad\" style=\"display: none;\"></div>\\n    <script>\\n        var mps = mps||{}; mps._queue = mps._queue||{}; mps._queue.gptloaded = mps._queue.gptloaded||[];\\n        mps._queue.gptloaded.push(function () {\\n            if (mps.getResponsiveSet() != \\'0\\') { //DESKTOP or TABLET\\n                mps.insertAd(\\'#trending_bar_ad\\',\\'trendinggraphic\\');\\n            }\\n        });\\n    </script>\\n\\n\\n    <div id=\"trending-bar-start\" class=\"trending-list-wrap\" data-qa=\"trending-bar\">\\n        <ul\\n            class=\"list-inline trending-bar__list\"\\n            data-curation=\"rt-nav-trending\"\\n            data-qa=\"trending-bar-list\">\\n            <li class=\"trending-bar__header\">Trending on RT</li>\\n            \\n                <li><a class=\"trending-bar__link\" href=\"https://www.rottentomatoes.com/tv/the_last_of_us\"  data-qa=\"trending-bar-item\"> The Last Of Us </a></li>\\n            \\n                <li><a class=\"trending-bar__link\" href=\"https://www.rottentomatoes.com/m/m3gan\"  data-qa=\"trending-bar-item\"> M3GAN </a></li>\\n            \\n                <li><a class=\"trending-bar__link\" href=\"https://www.rottentomatoes.com/tv/that_90s_show/\"  data-qa=\"trending-bar-item\"> That &#39;90s Show </a></li>\\n            \\n                <li><a class=\"trending-bar__link\" href=\"https://www.rottentomatoes.com/tv/velma/s01\"  data-qa=\"trending-bar-item\"> Velma </a></li>\\n            \\n        </ul>\\n        <div class=\"list-inline trending-bar__social\" data-qa=\"trending-bar-social-list\">\\n            <a id=\"header-facebook-social-link\" class=\"trending-bar__social-link\" href=\"//www.facebook.com/rottentomatoes\" target=\"_blank\" rel=\"noopener\" aria-label=\"Facebook\" data-qa=\"trending-bar-social-facebook\">\\n                <rt-icon icon=\"facebook-squared\"></rt-icon>\\n            </a>\\n            <a id=\"header-twitter-social-link\" class=\"trending-bar__social-link\" href=\"//twitter.com/rottentomatoes\" target=\"_blank\" rel=\"noopener\" aria-label=\"Twitter\" data-qa=\"trending-bar-social-twitter\">\\n                <rt-icon icon=\"twitter\"></rt-icon>\\n            </a>\\n            <a id=\"header-instagram-social-link\" class=\"trending-bar__social-link\" href=\"//www.instagram.com/rottentomatoes/\" target=\"_blank\" rel=\"noopener\" aria-label=\"Instagram\" data-qa=\"trending-bar-social-instagram\">\\n                <rt-icon icon=\"instagram\"></rt-icon>\\n            </a>\\n            <a id=\"header-pinterest-social-link\" class=\"trending-bar__social-link\" href=\"https://www.pinterest.com/rottentomatoes\" target=\"_blank\" rel=\"noopener\" aria-label=\"Pinterest\" data-qa=\"contact-us-pinterest\">\\n                <rt-icon icon=\"pinterest\"></rt-icon>\\n            </a>\\n            <a id=\"header-youtube-social-link\" class=\"trending-bar__social-link\" href=\"//www.youtube.com/user/rottentomatoes\" target=\"_blank\" rel=\"noopener\" aria-label=\"Youtube\" data-qa=\"trending-bar-social-youtube\">\\n                <rt-icon icon=\"youtube-play\"></rt-icon>\\n            </a>\\n        </div>\\n    </div>\\n</section>\\n\\n\\n\\n\\n            <main id=\"main_container\" class=\"container roma-layout__content\">\\n                <bottom-nav data-qa=\"bottom-nav\">\\n                    <a slot=\"template\">\\n                        <bottom-nav-item></bottom-nav-item>\\n                    </a>\\n                </bottom-nav>\\n                <div id=\"main-page-content\">\\n                    \\n    \\n                    \\n    <script type=\"application/json\" id=\"page-info\">{\"startCursor\":\"MA==\",\"endCursor\":\"Mjk=\",\"hasNextPage\":true,\"hasPreviousPage\":false}</script>\\n\\n    <template id=\"grid-tile\"><a \\r\\n  class=\"js-tile-link\" replace-attribute replace-attribute-href=\"media.mediaUrl\"  replace-attribute replace-attribute-data-id=\"media.id\"  \\r\\n  data-qa=\"discovery-media-list-item\">\\r\\n\\r\\n  <tile-dynamic skeleton=\"panel\" replace-attribute replace-attribute-isvideo=\"media.isVideo\" >\\r\\n    <img replace-attribute replace-attribute-alt=\"media.title\" \\r\\n        class=\"posterImage\"\\r\\n        loading=\"lazy\"\\r\\n        slot=\"image\" replace-attribute replace-attribute-src=\"media.posterUri\" \\r\\n    />\\r\\n    <span show-if=\"media.isVideo\" show-else=\"else-0\">\\r\\n      <button \\r\\n        class=\"transparent\" \\r\\n        slot=\"imageAction\" \\r\\n        <span show-if=\"FLAGS.videoJWP\" show-else=\"else-0\"> replace-attribute replace-attribute-data-ems-id=\"media.emsId\"  replace-attribute replace-attribute-data-mpx-id=\"media.mpxId\"  replace-attribute replace-attribute-data-public-id=\"media.publicId\"  replace-attribute replace-attribute-data-type=\"media.type\" \\r\\n        </span><span id=\"else-0\"> replace-attribute replace-attribute-data-video-player-overlay-url=\"media.trailerUrl\"  replace-attribute replace-attribute-data-video-player-overlay-media-url=\"media.mediaUrl\" \\r\\n        </span>\\r\\n      ><span class=\"sr-only\" replace-innertext >Watch the trailer for {{ media.title }}</span>\\r\\n      </button>\\r\\n    </span>\\r\\n    <div slot=\"caption\" data-track=\"scores\" data-qa=\"discovery-media-list-item-caption\">\\r\\n        <score-pairs replace-attribute replace-attribute-audiencesentiment=\"media.audienceScore.sentiment\"  replace-attribute replace-attribute-audiencescore=\"media.audienceScore.score\"  replace-attribute replace-attribute-criticssentiment=\"media.criticsScore.sentiment\"  replace-attribute replace-attribute-criticsscore=\"media.criticsScore.score\"  replace-attribute replace-attribute-criticscertified=\"media.criticsScore.certifiedAttribute\" \\r\\n        >\\r\\n        </score-pairs><span class=\"p--small\" data-qa=\"discovery-media-list-item-title\" replace-innertext >\\r\\n            {{ media.title }}\\r\\n        </span>\\r\\n        <span show-if=\"media.releaseDateText\" show-else=\"else-2\"><span class=\"smaller\" data-qa=\"discovery-media-list-item-start-date\" replace-innertext >\\r\\n            {{ media.releaseDateText }} \\r\\n          </span>\\r\\n        </span>\\r\\n    </div>\\r\\n  </tile-dynamic>\\r\\n</a>\\r\\n\\r\\n<span show-if=\"media.isMobileAd\" show-else=\"else-3\">\\r\\n    <div class=\"discovery-ad--mobile\">\\r\\n        <span>AD</span>\\r\\n    </div>\\r\\n</span>\\r\\n\\r\\n<span show-if=\"media.isDesktopAd\" show-else=\"else-4\">\\r\\n    <div class=\"discovery-ad--desktop\">\\r\\n        <span>AD</span>\\r\\n    </div>\\r\\n</span></template>\\n    <template id=\"grids\"><div class=\"discovery-tiles\" replace-attribute replace-attribute-data-id=\"grid.id\" >\\r\\n    <span show-if=\"grid.title\" show-else=\"else-0\"><h2 replace-innertext >{{ grid.title }}</h2>\\r\\n    </span>\\r\\n    <div class=\"discovery-tiles__wrap\" data-qa=\"discovery-media-list\">\\r\\n        \\r\\n            \\r\\n        \\r\\n    </div>\\r\\n</div></template>\\n\\n    <div class=\"discovery\">\\n\\n        <div class=\"discovery-header\">\\n            <discovery-title skeleton=\"block\">\\n                <h1 data-qa=\"discovery-header-title\">Certified Fresh Movies at Home <span>(January 2023)</span></h1>\\n            </discovery-title>\\n            <div class=\"discovery-nav--desktop\" data-qa=\"discovery-nav-desktop\">\\n                <button class=\"discovery-dropdown-toggle\" data-qa=\"discovery-nav-desktop-btn\">\\n                    At Home\\n                    <rt-icon icon=\"down-open\"></rt-icon>\\n                </button>\\n                <dropdown-menu value=\"movies_at_home\" hidden>\\n                    <h3 slot=\"title\">Movies</h3>\\n                    <a href=\"#\" slot=\"close\"><rt-icon image icon=\"close\"></rt-icon></a>\\n                    \\n                        <a href=\"/browse/movies_in_theaters\" slot=\"option\" data-qa=\"discovery-nav-movies_in_theaters\">\\n                            <dropdown-option value=\"movies_in_theaters\">\\n                                In Theaters\\n                            </dropdown-option>\\n                        </a>\\n                    \\n                        <a href=\"/browse/movies_at_home\" slot=\"option\" data-qa=\"discovery-nav-movies_at_home\">\\n                            <dropdown-option value=\"movies_at_home\">\\n                                At Home\\n                            </dropdown-option>\\n                        </a>\\n                    \\n                        <a href=\"/browse/movies_coming_soon\" slot=\"option\" data-qa=\"discovery-nav-movies_coming_soon\">\\n                            <dropdown-option value=\"movies_coming_soon\">\\n                                Coming Soon\\n                            </dropdown-option>\\n                        </a>\\n                    \\n                        <a href=\"/browse/tv_series_browse\" slot=\"option\" data-qa=\"discovery-nav-tv_series_browse\">\\n                            <dropdown-option value=\"tv_series_browse\">\\n                                TV Shows\\n                            </dropdown-option>\\n                        </a>\\n                    \\n                </dropdown-menu>\\n            </div>\\n            <div class=\"discovery-nav--mobile\" data-qa=\"discovery-nav-mobile\">\\n                <tab-bar value=\"movies_at_home\" hidden skeleton=\"block\">\\n                    \\n                        <a href=\"/browse/movies_in_theaters\" slot=\"option\" data-qa=\"discovery-nav-movies_in_theaters\">\\n                            <tab-bar-option value=\"movies_in_theaters\" slot=\"option\">In Theaters</tab-bar-option>\\n                        </a>\\n                    \\n                        <a href=\"/browse/movies_at_home\" slot=\"option\" data-qa=\"discovery-nav-movies_at_home\">\\n                            <tab-bar-option value=\"movies_at_home\" slot=\"option\">At Home</tab-bar-option>\\n                        </a>\\n                    \\n                        <a href=\"/browse/movies_coming_soon\" slot=\"option\" data-qa=\"discovery-nav-movies_coming_soon\">\\n                            <tab-bar-option value=\"movies_coming_soon\" slot=\"option\">Coming Soon</tab-bar-option>\\n                        </a>\\n                    \\n                        <a href=\"/browse/tv_series_browse\" slot=\"option\" data-qa=\"discovery-nav-tv_series_browse\">\\n                            <tab-bar-option value=\"tv_series_browse\" slot=\"option\">TV Shows</tab-bar-option>\\n                        </a>\\n                    \\n                </tab-bar>\\n            </div>\\n        </div>\\n\\n        <discovery-grids-manager></discovery-grids-manager>\\n        <discovery-routes-manager></discovery-routes-manager>\\n        <discovery-filters-manager></discovery-filters-manager>\\n        <discovery-ads-manager>\\n            <script type=\"application/json\" id=\"discovery-ads-json\">\\n                [\\n                    { \"unitType\": \"topmulti\", \"unitId\": \"medrec_top_ad\", \"unitDisplay\": \"desktop\" },\\n                    { \"unitType\": \"mbannertwo\", \"unitId\": \"medrec_mobile_banner\", \"unitDisplay\": \"mobile\" },\\n                    { \"unitType\": \"sponsoredposter\", \"unitId\": \"discovery-sponsored-poster\", \"unitDisplay\": \"desktop,mobile\" }\\n                ]\\n            </script>\\n        </discovery-ads-manager>\\n        \\n        <div class=\"discovery-filters\">\\n    <div class=\"discovery-filters__nav\">\\n        \\n            <filter-chip data-filter=\"sort\" arrow skeleton=\"chip\" data-qa=\"discovery-filter-sort\">\\n                <span slot=\"label\" class=\"label label--small upper\">Sort</span>\\n            </filter-chip>\\n        \\n\\n        \\n            <filter-chip data-filter=\"genres\" arrow skeleton=\"chip\" data-qa=\"discovery-filter-genres\">\\n                <span slot=\"label\" class=\"label label--small upper\">Genre</span>\\n            </filter-chip>\\n        \\n\\n        \\n            <filter-chip data-filter=\"ratings\" arrow skeleton=\"chip\" data-qa=\"discovery-filter-ratings\">\\n                <span slot=\"label\" class=\"label label--small upper\">Rating</span>\\n            </filter-chip>\\n        \\n\\n        \\n            <filter-chip data-filter=\"audience\" arrow skeleton=\"chip\" data-qa=\"discovery-filter-audience\">\\n                <span slot=\"label\" class=\"label label--small upper\">Audience score</span>\\n            </filter-chip>\\n        \\n\\n        \\n            <filter-chip data-filter=\"critics\" arrow skeleton=\"chip\" data-qa=\"discovery-filter-critics\">\\n                <span slot=\"label\" class=\"label label--small upper\">Tomatometer<sup>&reg;</sup></span>\\n            </filter-chip>\\n\\n            \\n            <filter-chip data-filter=\"certified\" skeleton=\"chip\" data-qa=\"discovery-filter-cf\">\\n                <score-icon-critic\\n                    slot=\"score-icon\"\\n                    percentage=\"hide\"\\n                    state=\"certified_fresh\"\\n                    size=\"tiny\"\\n                    alignment=\"left\"\\n                ></score-icon-critic>\\n                <span slot=\"label\" class=\"label label--small upper\">Certified Fresh</span>\\n            </filter-chip>\\n            \\n        \\n    </div>\\n\\n    \\n        <bubbles-overflow-container data-curation=\"rt-discovery-affiliates\" maxvisibleitems=\"12\">\\n            \\n            \\n                \\n            \\n                \\n                    <where-to-watch-bubble\\n                        image=\"vudu\"\\n                        skeleton=\"chip\"\\n                        value=\"vudu\"\\n                        data-qa=\"discovery-affiliates-vudu\"\\n                        >\\n                    </where-to-watch-bubble>\\n                \\n            \\n                \\n                    <where-to-watch-bubble\\n                        image=\"peacock\"\\n                        skeleton=\"chip\"\\n                        value=\"peacock\"\\n                        data-qa=\"discovery-affiliates-peacock\"\\n                        >\\n                    </where-to-watch-bubble>\\n                \\n            \\n                \\n                    <where-to-watch-bubble\\n                        image=\"netflix\"\\n                        skeleton=\"chip\"\\n                        value=\"netflix\"\\n                        data-qa=\"discovery-affiliates-netflix\"\\n                        >\\n                    </where-to-watch-bubble>\\n                \\n            \\n                \\n                    <where-to-watch-bubble\\n                        image=\"hulu\"\\n                        skeleton=\"chip\"\\n                        value=\"hulu\"\\n                        data-qa=\"discovery-affiliates-hulu\"\\n                        >\\n                    </where-to-watch-bubble>\\n                \\n            \\n                \\n                    <where-to-watch-bubble\\n                        image=\"amazon-prime-video-us\"\\n                        skeleton=\"chip\"\\n                        value=\"amazon_prime\"\\n                        data-qa=\"discovery-affiliates-amazon_prime\"\\n                        >\\n                    </where-to-watch-bubble>\\n                \\n            \\n                \\n                    <where-to-watch-bubble\\n                        image=\"disney-plus-us\"\\n                        skeleton=\"chip\"\\n                        value=\"disney_plus\"\\n                        data-qa=\"discovery-affiliates-disney_plus\"\\n                        >\\n                    </where-to-watch-bubble>\\n                \\n            \\n                \\n                    <where-to-watch-bubble\\n                        image=\"hbo-max\"\\n                        skeleton=\"chip\"\\n                        value=\"hbo_max\"\\n                        data-qa=\"discovery-affiliates-hbo_max\"\\n                        >\\n                    </where-to-watch-bubble>\\n                \\n            \\n                \\n                    <where-to-watch-bubble\\n                        image=\"paramount-plus-us\"\\n                        skeleton=\"chip\"\\n                        value=\"paramount_plus\"\\n                        data-qa=\"discovery-affiliates-paramount_plus\"\\n                        >\\n                    </where-to-watch-bubble>\\n                \\n            \\n                \\n                    <where-to-watch-bubble\\n                        image=\"apple-tv-plus-us\"\\n                        skeleton=\"chip\"\\n                        value=\"apple_tv_plus\"\\n                        data-qa=\"discovery-affiliates-apple_tv_plus\"\\n                        >\\n                    </where-to-watch-bubble>\\n                \\n            \\n                \\n                    <where-to-watch-bubble\\n                        image=\"showtime\"\\n                        skeleton=\"chip\"\\n                        value=\"showtime\"\\n                        data-qa=\"discovery-affiliates-showtime\"\\n                        >\\n                    </where-to-watch-bubble>\\n                \\n            \\n                \\n            \\n                \\n                    <where-to-watch-bubble\\n                        image=\"itunes\"\\n                        skeleton=\"chip\"\\n                        value=\"apple_tv\"\\n                        data-qa=\"discovery-affiliates-apple_tv\"\\n                        >\\n                    </where-to-watch-bubble>\\n                \\n            \\n            <where-to-watch-bubble skeleton=\"chip\" slot=\"view-all\"></where-to-watch-bubble>\\n        </bubbles-overflow-container>\\n    \\n\\n    <button class=\"js-reset-btn hide discovery-filters__reset \" data-qa=\"discovery-filters-reset\">\\n        Reset Filters\\n    </button>\\n\\n    \\n        <bottom-sheet-menu data-filter=\"sort\" hidden data-qa=\"discovery-filter-sort-options\">\\n    <span slot=\"title\" class=\"label\" data-qa=\"title\">Sort</span>\\n    <a slot=\"close\" href=\"#\" data-qa=\"close-btn\">\\n        <rt-icon icon=\"close\"></rt-icon>\\n        <span class=\"sr-only\">Close</span>\\n    </a>\\n\\n    <select-radio-group slot=\"content\" ismenu>\\n        \\n            <select-label data-row=\"popular\" slot=\"row\" data-qa=\"option-popular\">\\n                <span slot=\"label\" class=\"label label--small upper\">Most popular</span>\\n                <select-radio slot=\"input\" value=\"popular\"></select-radio>\\n            </select-label>\\n        \\n            <select-label data-row=\"newest\" slot=\"row\" data-qa=\"option-newest\">\\n                <span slot=\"label\" class=\"label label--small upper\">Newest</span>\\n                <select-radio slot=\"input\" value=\"newest\"></select-radio>\\n            </select-label>\\n        \\n            <select-label data-row=\"a_z\" slot=\"row\" data-qa=\"option-a_z\">\\n                <span slot=\"label\" class=\"label label--small upper\">A → Z</span>\\n                <select-radio slot=\"input\" value=\"a_z\"></select-radio>\\n            </select-label>\\n        \\n            <select-label data-row=\"critic_highest\" slot=\"row\" data-qa=\"option-critic_highest\">\\n                <span slot=\"label\" class=\"label label--small upper\">Tomatometer<sup>&reg;</sup> (highest)</span>\\n                <select-radio slot=\"input\" value=\"critic_highest\"></select-radio>\\n            </select-label>\\n        \\n            <select-label data-row=\"critic_lowest\" slot=\"row\" data-qa=\"option-critic_lowest\">\\n                <span slot=\"label\" class=\"label label--small upper\">Tomatometer<sup>&reg;</sup> (lowest)</span>\\n                <select-radio slot=\"input\" value=\"critic_lowest\"></select-radio>\\n            </select-label>\\n        \\n            <select-label data-row=\"audience_highest\" slot=\"row\" data-qa=\"option-audience_highest\">\\n                <span slot=\"label\" class=\"label label--small upper\">Audience score (highest)</span>\\n                <select-radio slot=\"input\" value=\"audience_highest\"></select-radio>\\n            </select-label>\\n        \\n            <select-label data-row=\"audience_lowest\" slot=\"row\" data-qa=\"option-audience_lowest\">\\n                <span slot=\"label\" class=\"label label--small upper\">Audience score (lowest)</span>\\n                <select-radio slot=\"input\" value=\"audience_lowest\"></select-radio>\\n            </select-label>\\n        \\n    </select-radio-group>\\n</bottom-sheet-menu>\\n\\n    \\n\\n    \\n        <bottom-sheet-menu data-filter=\"genres\" hidden data-qa=\"discovery-filter-genres-options\">\\n    <span slot=\"title\" class=\"label\" data-qa=\"title\">Genre</span>\\n    <a slot=\"cta1\" href=\"#\" class=\"a--xshort\" data-qa=\"clear-all-btn\">Clear all</a>\\n    <a slot=\"close\" href=\"#\" data-qa=\"close-btn\">\\n        <rt-icon icon=\"close\"></rt-icon>\\n        <span class=\"sr-only\">Close</span>\\n    </a>\\n\\n    <select-checkbox-group slot=\"content\">\\n        \\n            <select-label slot=\"row\" data-qa=\"option-action\">\\n                <span slot=\"label\" class=\"label label--small upper\">Action</span>\\n                <select-checkbox slot=\"input\" value=\"action\"></select-checkbox>\\n            </select-label>\\n        \\n            <select-label slot=\"row\" data-qa=\"option-adventure\">\\n                <span slot=\"label\" class=\"label label--small upper\">Adventure</span>\\n                <select-checkbox slot=\"input\" value=\"adventure\"></select-checkbox>\\n            </select-label>\\n        \\n            <select-label slot=\"row\" data-qa=\"option-animation\">\\n                <span slot=\"label\" class=\"label label--small upper\">Animation</span>\\n                <select-checkbox slot=\"input\" value=\"animation\"></select-checkbox>\\n            </select-label>\\n        \\n            <select-label slot=\"row\" data-qa=\"option-anime\">\\n                <span slot=\"label\" class=\"label label--small upper\">Anime</span>\\n                <select-checkbox slot=\"input\" value=\"anime\"></select-checkbox>\\n            </select-label>\\n        \\n            <select-label slot=\"row\" data-qa=\"option-biography\">\\n                <span slot=\"label\" class=\"label label--small upper\">Biography</span>\\n                <select-checkbox slot=\"input\" value=\"biography\"></select-checkbox>\\n            </select-label>\\n        \\n            <select-label slot=\"row\" data-qa=\"option-comedy\">\\n                <span slot=\"label\" class=\"label label--small upper\">Comedy</span>\\n                <select-checkbox slot=\"input\" value=\"comedy\"></select-checkbox>\\n            </select-label>\\n        \\n            <select-label slot=\"row\" data-qa=\"option-crime\">\\n                <span slot=\"label\" class=\"label label--small upper\">Crime</span>\\n                <select-checkbox slot=\"input\" value=\"crime\"></select-checkbox>\\n            </select-label>\\n        \\n            <select-label slot=\"row\" data-qa=\"option-documentary\">\\n                <span slot=\"label\" class=\"label label--small upper\">Documentary</span>\\n                <select-checkbox slot=\"input\" value=\"documentary\"></select-checkbox>\\n            </select-label>\\n        \\n            <select-label slot=\"row\" data-qa=\"option-drama\">\\n                <span slot=\"label\" class=\"label label--small upper\">Drama</span>\\n                <select-checkbox slot=\"input\" value=\"drama\"></select-checkbox>\\n            </select-label>\\n        \\n            <select-label slot=\"row\" data-qa=\"option-entertainment\">\\n                <span slot=\"label\" class=\"label label--small upper\">Entertainment</span>\\n                <select-checkbox slot=\"input\" value=\"entertainment\"></select-checkbox>\\n            </select-label>\\n        \\n            <select-label slot=\"row\" data-qa=\"option-faith_and_spirituality\">\\n                <span slot=\"label\" class=\"label label--small upper\">Faith And Spirituality</span>\\n                <select-checkbox slot=\"input\" value=\"faith_and_spirituality\"></select-checkbox>\\n            </select-label>\\n        \\n            <select-label slot=\"row\" data-qa=\"option-fantasy\">\\n                <span slot=\"label\" class=\"label label--small upper\">Fantasy</span>\\n                <select-checkbox slot=\"input\" value=\"fantasy\"></select-checkbox>\\n            </select-label>\\n        \\n            <select-label slot=\"row\" data-qa=\"option-game_show\">\\n                <span slot=\"label\" class=\"label label--small upper\">Game Show</span>\\n                <select-checkbox slot=\"input\" value=\"game_show\"></select-checkbox>\\n            </select-label>\\n        \\n            <select-label slot=\"row\" data-qa=\"option-lgbtq\">\\n                <span slot=\"label\" class=\"label label--small upper\">Lgbtq</span>\\n                <select-checkbox slot=\"input\" value=\"lgbtq\"></select-checkbox>\\n            </select-label>\\n        \\n            <select-label slot=\"row\" data-qa=\"option-health_and_wellness\">\\n                <span slot=\"label\" class=\"label label--small upper\">Health And Wellness</span>\\n                <select-checkbox slot=\"input\" value=\"health_and_wellness\"></select-checkbox>\\n            </select-label>\\n        \\n            <select-label slot=\"row\" data-qa=\"option-history\">\\n                <span slot=\"label\" class=\"label label--small upper\">History</span>\\n                <select-checkbox slot=\"input\" value=\"history\"></select-checkbox>\\n            </select-label>\\n        \\n            <select-label slot=\"row\" data-qa=\"option-holiday\">\\n                <span slot=\"label\" class=\"label label--small upper\">Holiday</span>\\n                <select-checkbox slot=\"input\" value=\"holiday\"></select-checkbox>\\n            </select-label>\\n        \\n            <select-label slot=\"row\" data-qa=\"option-horror\">\\n                <span slot=\"label\" class=\"label label--small upper\">Horror</span>\\n                <select-checkbox slot=\"input\" value=\"horror\"></select-checkbox>\\n            </select-label>\\n        \\n            <select-label slot=\"row\" data-qa=\"option-house_and_garden\">\\n                <span slot=\"label\" class=\"label label--small upper\">House And Garden</span>\\n                <select-checkbox slot=\"input\" value=\"house_and_garden\"></select-checkbox>\\n            </select-label>\\n        \\n            <select-label slot=\"row\" data-qa=\"option-kids_and_family\">\\n                <span slot=\"label\" class=\"label label--small upper\">Kids And Family</span>\\n                <select-checkbox slot=\"input\" value=\"kids_and_family\"></select-checkbox>\\n            </select-label>\\n        \\n            <select-label slot=\"row\" data-qa=\"option-music\">\\n                <span slot=\"label\" class=\"label label--small upper\">Music</span>\\n                <select-checkbox slot=\"input\" value=\"music\"></select-checkbox>\\n            </select-label>\\n        \\n            <select-label slot=\"row\" data-qa=\"option-musical\">\\n                <span slot=\"label\" class=\"label label--small upper\">Musical</span>\\n                <select-checkbox slot=\"input\" value=\"musical\"></select-checkbox>\\n            </select-label>\\n        \\n            <select-label slot=\"row\" data-qa=\"option-mystery_and_thriller\">\\n                <span slot=\"label\" class=\"label label--small upper\">Mystery And Thriller</span>\\n                <select-checkbox slot=\"input\" value=\"mystery_and_thriller\"></select-checkbox>\\n            </select-label>\\n        \\n            <select-label slot=\"row\" data-qa=\"option-nature\">\\n                <span slot=\"label\" class=\"label label--small upper\">Nature</span>\\n                <select-checkbox slot=\"input\" value=\"nature\"></select-checkbox>\\n            </select-label>\\n        \\n            <select-label slot=\"row\" data-qa=\"option-news\">\\n                <span slot=\"label\" class=\"label label--small upper\">News</span>\\n                <select-checkbox slot=\"input\" value=\"news\"></select-checkbox>\\n            </select-label>\\n        \\n            <select-label slot=\"row\" data-qa=\"option-reality\">\\n                <span slot=\"label\" class=\"label label--small upper\">Reality</span>\\n                <select-checkbox slot=\"input\" value=\"reality\"></select-checkbox>\\n            </select-label>\\n        \\n            <select-label slot=\"row\" data-qa=\"option-romance\">\\n                <span slot=\"label\" class=\"label label--small upper\">Romance</span>\\n                <select-checkbox slot=\"input\" value=\"romance\"></select-checkbox>\\n            </select-label>\\n        \\n            <select-label slot=\"row\" data-qa=\"option-sci_fi\">\\n                <span slot=\"label\" class=\"label label--small upper\">Sci Fi</span>\\n                <select-checkbox slot=\"input\" value=\"sci_fi\"></select-checkbox>\\n            </select-label>\\n        \\n            <select-label slot=\"row\" data-qa=\"option-short\">\\n                <span slot=\"label\" class=\"label label--small upper\">Short</span>\\n                <select-checkbox slot=\"input\" value=\"short\"></select-checkbox>\\n            </select-label>\\n        \\n            <select-label slot=\"row\" data-qa=\"option-soap\">\\n                <span slot=\"label\" class=\"label label--small upper\">Soap</span>\\n                <select-checkbox slot=\"input\" value=\"soap\"></select-checkbox>\\n            </select-label>\\n        \\n            <select-label slot=\"row\" data-qa=\"option-special_interest\">\\n                <span slot=\"label\" class=\"label label--small upper\">Special Interest</span>\\n                <select-checkbox slot=\"input\" value=\"special_interest\"></select-checkbox>\\n            </select-label>\\n        \\n            <select-label slot=\"row\" data-qa=\"option-sports\">\\n                <span slot=\"label\" class=\"label label--small upper\">Sports</span>\\n                <select-checkbox slot=\"input\" value=\"sports\"></select-checkbox>\\n            </select-label>\\n        \\n            <select-label slot=\"row\" data-qa=\"option-stand_up\">\\n                <span slot=\"label\" class=\"label label--small upper\">Stand Up</span>\\n                <select-checkbox slot=\"input\" value=\"stand_up\"></select-checkbox>\\n            </select-label>\\n        \\n            <select-label slot=\"row\" data-qa=\"option-talk_show\">\\n                <span slot=\"label\" class=\"label label--small upper\">Talk Show</span>\\n                <select-checkbox slot=\"input\" value=\"talk_show\"></select-checkbox>\\n            </select-label>\\n        \\n            <select-label slot=\"row\" data-qa=\"option-travel\">\\n                <span slot=\"label\" class=\"label label--small upper\">Travel</span>\\n                <select-checkbox slot=\"input\" value=\"travel\"></select-checkbox>\\n            </select-label>\\n        \\n            <select-label slot=\"row\" data-qa=\"option-variety\">\\n                <span slot=\"label\" class=\"label label--small upper\">Variety</span>\\n                <select-checkbox slot=\"input\" value=\"variety\"></select-checkbox>\\n            </select-label>\\n        \\n            <select-label slot=\"row\" data-qa=\"option-war\">\\n                <span slot=\"label\" class=\"label label--small upper\">War</span>\\n                <select-checkbox slot=\"input\" value=\"war\"></select-checkbox>\\n            </select-label>\\n        \\n            <select-label slot=\"row\" data-qa=\"option-western\">\\n                <span slot=\"label\" class=\"label label--small upper\">Western</span>\\n                <select-checkbox slot=\"input\" value=\"western\"></select-checkbox>\\n            </select-label>\\n        \\n    </select-checkbox-group>\\n\\n    <button slot=\"cta2\" data-qa=\"apply-btn\">Apply</button>\\n</bottom-sheet-menu>\\n\\n    \\n\\n    \\n        <bottom-sheet-menu data-filter=\"ratings\" hidden data-qa=\"discovery-filter-ratings-options\">\\n    <span slot=\"title\" class=\"label\" data-qa=\"title\">Rating</span>\\n    <a slot=\"cta1\" href=\"#\" class=\"a--xshort\" data-qa=\"clear-all-btn\">Clear all</a>\\n    <a slot=\"close\" href=\"#\" data-qa=\"close-btn\">\\n        <rt-icon icon=\"close\"></rt-icon>\\n        <span class=\"sr-only\">Close</span>\\n    </a>\\n\\n    <select-checkbox-group slot=\"content\">\\n        \\n            <select-label slot=\"row\" data-qa=\"option-g\">\\n                <span slot=\"label\" class=\"label label--small upper\">G</span>\\n                <select-checkbox slot=\"input\" value=\"g\"></select-checkbox>\\n            </select-label>\\n        \\n            <select-label slot=\"row\" data-qa=\"option-pg\">\\n                <span slot=\"label\" class=\"label label--small upper\">PG</span>\\n                <select-checkbox slot=\"input\" value=\"pg\"></select-checkbox>\\n            </select-label>\\n        \\n            <select-label slot=\"row\" data-qa=\"option-pg_13\">\\n                <span slot=\"label\" class=\"label label--small upper\">PG-13</span>\\n                <select-checkbox slot=\"input\" value=\"pg_13\"></select-checkbox>\\n            </select-label>\\n        \\n            <select-label slot=\"row\" data-qa=\"option-r\">\\n                <span slot=\"label\" class=\"label label--small upper\">R</span>\\n                <select-checkbox slot=\"input\" value=\"r\"></select-checkbox>\\n            </select-label>\\n        \\n            <select-label slot=\"row\" data-qa=\"option-nc_17\">\\n                <span slot=\"label\" class=\"label label--small upper\">NC-17</span>\\n                <select-checkbox slot=\"input\" value=\"nc_17\"></select-checkbox>\\n            </select-label>\\n        \\n            <select-label slot=\"row\" data-qa=\"option-nr\">\\n                <span slot=\"label\" class=\"label label--small upper\">Not rated</span>\\n                <select-checkbox slot=\"input\" value=\"nr\"></select-checkbox>\\n            </select-label>\\n        \\n            <select-label slot=\"row\" data-qa=\"option-ur\">\\n                <span slot=\"label\" class=\"label label--small upper\">Unrated</span>\\n                <select-checkbox slot=\"input\" value=\"ur\"></select-checkbox>\\n            </select-label>\\n        \\n    </select-checkbox-group>\\n\\n    <button slot=\"cta2\" data-qa=\"apply-btn\">Apply</button>\\n</bottom-sheet-menu>\\n\\n    \\n\\n    \\n        <bottom-sheet-menu data-filter=\"audience\" hidden data-qa=\"discovery-filter-audience-options\">\\n    <span slot=\"title\" class=\"label\" data-qa=\"title\">Audience score</span>\\n    <a slot=\"cta1\" href=\"#\" class=\"a--xshort\" data-qa=\"clear-all-btn\">Clear all</a>\\n    <a slot=\"close\" href=\"#\" data-qa=\"close-btn\">\\n        <rt-icon icon=\"close\"></rt-icon>\\n        <span class=\"sr-only\">Close</span>\\n    </a>\\n\\n    <select-checkbox-group slot=\"content\">\\n        \\n            <select-label slot=\"row\" data-qa=\"option-upright\">\\n                <score-icon-audience\\n                    slot=\"score-icon\"\\n                    percentage=\"hide\"\\n                    size=\"small\"\\n                    state=\"upright\"\\n                ></score-icon-audience>\\n                <span slot=\"label\" class=\"label label--small upper\">Fresh</span>\\n                <span slot=\"description\" class=\"label--small\">At least 60% of reviews for a movie or TV show are positive.</span>\\n                <select-checkbox slot=\"input\" value=\"upright\"></select-checkbox>\\n            </select-label>\\n        \\n            <select-label slot=\"row\" data-qa=\"option-spilled\">\\n                <score-icon-audience\\n                    slot=\"score-icon\"\\n                    percentage=\"hide\"\\n                    size=\"small\"\\n                    state=\"spilled\"\\n                ></score-icon-audience>\\n                <span slot=\"label\" class=\"label label--small upper\">Rotten</span>\\n                <span slot=\"description\" class=\"label--small\">Less than 60% of reviews for a movie or TV show are positive.</span>\\n                <select-checkbox slot=\"input\" value=\"spilled\"></select-checkbox>\\n            </select-label>\\n        \\n    </select-checkbox-group>\\n\\n    <button slot=\"cta2\" data-qa=\"apply-btn\">Apply</button>\\n</bottom-sheet-menu>\\n\\n    \\n\\n    \\n        <bottom-sheet-menu data-filter=\"critics\" hidden data-qa=\"discovery-filter-critics-options\">\\n    <span slot=\"title\" class=\"label\" data-qa=\"title\">Tomatometer<sup>&reg;</sup></span>\\n    <a slot=\"cta1\" href=\"#\" class=\"a--xshort\" data-qa=\"clear-all-btn\">Clear all</a>\\n    <a slot=\"close\" href=\"#\" data-qa=\"close-btn\">\\n        <rt-icon icon=\"close\"></rt-icon>\\n        <span class=\"sr-only\">Close</span>\\n    </a>\\n\\n    <select-checkbox-group slot=\"content\">\\n        \\n            <select-label slot=\"row\" data-qa=\"option-certified_fresh\">\\n                <score-icon-critic\\n                    slot=\"score-icon\"\\n                    percentage=\"hide\"\\n                    size=\"small\"\\n                    state=\"certified_fresh\"\\n                ></score-icon-critic>\\n                <span slot=\"label\" class=\"label label--small upper\">Certified fresh</span>\\n                <span slot=\"description\" class=\"label--small\">A special distinction awarded to the best reviewed movies and TV Shows.</span>\\n                <select-checkbox slot=\"input\" value=\"certified_fresh\"></select-checkbox>\\n            </select-label>\\n        \\n            <select-label slot=\"row\" data-qa=\"option-fresh\">\\n                <score-icon-critic\\n                    slot=\"score-icon\"\\n                    percentage=\"hide\"\\n                    size=\"small\"\\n                    state=\"fresh\"\\n                ></score-icon-critic>\\n                <span slot=\"label\" class=\"label label--small upper\">Fresh</span>\\n                <span slot=\"description\" class=\"label--small\">At least 60% of reviews for a movie or TV show are positive.</span>\\n                <select-checkbox slot=\"input\" value=\"fresh\"></select-checkbox>\\n            </select-label>\\n        \\n            <select-label slot=\"row\" data-qa=\"option-rotten\">\\n                <score-icon-critic\\n                    slot=\"score-icon\"\\n                    percentage=\"hide\"\\n                    size=\"small\"\\n                    state=\"rotten\"\\n                ></score-icon-critic>\\n                <span slot=\"label\" class=\"label label--small upper\">Rotten</span>\\n                <span slot=\"description\" class=\"label--small\">Less than 60% of reviews for a movie or TV show are positive.</span>\\n                <select-checkbox slot=\"input\" value=\"rotten\"></select-checkbox>\\n            </select-label>\\n        \\n    </select-checkbox-group>\\n\\n    <button slot=\"cta2\" data-qa=\"apply-btn\">Apply</button>\\n</bottom-sheet-menu>\\n\\n    \\n\\n    \\n        <bottom-sheet-menu data-filter=\"affiliates\" hidden data-qa=\"discovery-filter-affiliates-options\">\\n    <span slot=\"title\" class=\"label\" data-qa=\"title\">Where to watch</span>\\n    <a slot=\"cta1\" href=\"#\" class=\"a--xshort\" data-qa=\"clear-all-btn\">Clear all</a>\\n    <a slot=\"close\" href=\"#\" data-qa=\"close-btn\">\\n        <rt-icon icon=\"close\"></rt-icon>\\n        <span class=\"sr-only\">Close</span>\\n    </a>\\n\\n    <select-checkbox-group slot=\"content\">\\n        \\n        \\n        <select-label slot=\"row\" data-qa=\"option-theaters\">\\n            <affiliate-icon slot=\"score-icon\" name=in-theaters></affiliate-icon>\\n            <span slot=\"label\" class=\"label label--small upper\">Theaters</span>\\n            <select-checkbox slot=\"input\" value=\"theaters\"></select-checkbox>\\n        </select-label>\\n        \\n        <select-label slot=\"row\" data-qa=\"option-vudu\">\\n            <affiliate-icon slot=\"score-icon\" name=vudu></affiliate-icon>\\n            <span slot=\"label\" class=\"label label--small upper\">Vudu</span>\\n            <select-checkbox slot=\"input\" value=\"vudu\"></select-checkbox>\\n        </select-label>\\n        \\n        <select-label slot=\"row\" data-qa=\"option-peacock\">\\n            <affiliate-icon slot=\"score-icon\" name=peacock></affiliate-icon>\\n            <span slot=\"label\" class=\"label label--small upper\">Peacock</span>\\n            <select-checkbox slot=\"input\" value=\"peacock\"></select-checkbox>\\n        </select-label>\\n        \\n        <select-label slot=\"row\" data-qa=\"option-netflix\">\\n            <affiliate-icon slot=\"score-icon\" name=netflix></affiliate-icon>\\n            <span slot=\"label\" class=\"label label--small upper\">Netflix</span>\\n            <select-checkbox slot=\"input\" value=\"netflix\"></select-checkbox>\\n        </select-label>\\n        \\n        <select-label slot=\"row\" data-qa=\"option-hulu\">\\n            <affiliate-icon slot=\"score-icon\" name=hulu></affiliate-icon>\\n            <span slot=\"label\" class=\"label label--small upper\">Hulu</span>\\n            <select-checkbox slot=\"input\" value=\"hulu\"></select-checkbox>\\n        </select-label>\\n        \\n        <select-label slot=\"row\" data-qa=\"option-amazon_prime\">\\n            <affiliate-icon slot=\"score-icon\" name=amazon-prime-video-us></affiliate-icon>\\n            <span slot=\"label\" class=\"label label--small upper\">Prime Video</span>\\n            <select-checkbox slot=\"input\" value=\"amazon_prime\"></select-checkbox>\\n        </select-label>\\n        \\n        <select-label slot=\"row\" data-qa=\"option-disney_plus\">\\n            <affiliate-icon slot=\"score-icon\" name=disney-plus-us></affiliate-icon>\\n            <span slot=\"label\" class=\"label label--small upper\">Disney+</span>\\n            <select-checkbox slot=\"input\" value=\"disney_plus\"></select-checkbox>\\n        </select-label>\\n        \\n        <select-label slot=\"row\" data-qa=\"option-hbo_max\">\\n            <affiliate-icon slot=\"score-icon\" name=hbo-max></affiliate-icon>\\n            <span slot=\"label\" class=\"label label--small upper\">HBO Max</span>\\n            <select-checkbox slot=\"input\" value=\"hbo_max\"></select-checkbox>\\n        </select-label>\\n        \\n        <select-label slot=\"row\" data-qa=\"option-paramount_plus\">\\n            <affiliate-icon slot=\"score-icon\" name=paramount-plus-us></affiliate-icon>\\n            <span slot=\"label\" class=\"label label--small upper\">Paramount Plus</span>\\n            <select-checkbox slot=\"input\" value=\"paramount_plus\"></select-checkbox>\\n        </select-label>\\n        \\n        <select-label slot=\"row\" data-qa=\"option-apple_tv_plus\">\\n            <affiliate-icon slot=\"score-icon\" name=apple-tv-plus-us></affiliate-icon>\\n            <span slot=\"label\" class=\"label label--small upper\">Apple TV+</span>\\n            <select-checkbox slot=\"input\" value=\"apple_tv_plus\"></select-checkbox>\\n        </select-label>\\n        \\n        <select-label slot=\"row\" data-qa=\"option-showtime\">\\n            <affiliate-icon slot=\"score-icon\" name=showtime></affiliate-icon>\\n            <span slot=\"label\" class=\"label label--small upper\">Showtime</span>\\n            <select-checkbox slot=\"input\" value=\"showtime\"></select-checkbox>\\n        </select-label>\\n        \\n        <select-label slot=\"row\" data-qa=\"option-amc_plus\">\\n            <affiliate-icon slot=\"score-icon\" name=amc-plus-us></affiliate-icon>\\n            <span slot=\"label\" class=\"label label--small upper\">AMC+</span>\\n            <select-checkbox slot=\"input\" value=\"amc_plus\"></select-checkbox>\\n        </select-label>\\n        \\n        <select-label slot=\"row\" data-qa=\"option-apple_tv\">\\n            <affiliate-icon slot=\"score-icon\" name=itunes></affiliate-icon>\\n            <span slot=\"label\" class=\"label label--small upper\">Apple TV</span>\\n            <select-checkbox slot=\"input\" value=\"apple_tv\"></select-checkbox>\\n        </select-label>\\n        \\n    </select-checkbox-group>\\n\\n    <button slot=\"cta2\" data-qa=\"apply-btn\">Apply</button>\\n</bottom-sheet-menu>\\n\\n    \\n\\n</div>\\n\\n\\n        <div class=\"discovery-grids-container\">\\n            \\n                <div class=\"discovery-tiles\" data-id=\"movies_at_home_critics:certified_fresh\">\\r\\n    \\r\\n    <div class=\"discovery-tiles__wrap\" data-qa=\"discovery-media-list\">\\r\\n        \\r\\n            <a \\r\\n  class=\"js-tile-link\" \\r\\n  href=\"/m/the_menu\" \\r\\n  data-id=\"a6aa1b12-3ed0-3f9a-834f-23c1eb75d58d\" \\r\\n  data-qa=\"discovery-media-list-item\">\\r\\n\\r\\n  <tile-dynamic skeleton=\"panel\" isvideo=\"true\">\\r\\n    <img\\r\\n        alt=\"The Menu\"\\r\\n        class=\"posterImage\"\\r\\n        loading=\"lazy\"\\r\\n        slot=\"image\"\\r\\n        src=\"https://resizing.flixster.com/jJvkHPPuBR24i8zhk98fu13YPDo=/180x258/v2/https://resizing.flixster.com/ThP55y9O__xdEFFCmmJ0pDy9FeI=/ems.cHJkLWVtcy1hc3NldHMvbW92aWVzL2FlZTkwYTAyLWNkNWYtNDA0ZS04N2FhLTE0NDUwZmM0ODdiOC5qcGc=\"\\r\\n    />\\r\\n    \\r\\n      <button \\r\\n        class=\"transparent\" \\r\\n        slot=\"imageAction\" \\r\\n        \\r\\n          data-video-player-overlay-url=\"https://player.theplatform.com/p/NGweTC/pdk6_y__7B0iQTi4P/embed/select/media/YQGElgBVWMmx\"\\r\\n          data-video-player-overlay-media-url=\"/m/the_menu\"\\r\\n        \\r\\n      >\\r\\n        <span class=\"sr-only\">Watch the trailer for The Menu</span>\\r\\n      </button>\\r\\n    \\r\\n    <div slot=\"caption\" data-track=\"scores\" data-qa=\"discovery-media-list-item-caption\">\\r\\n        <score-pairs\\r\\n            audiencesentiment=\"positive\"\\r\\n            audiencescore=\"76\"\\r\\n            criticssentiment=\"positive\"\\r\\n            criticsscore=\"88\"\\r\\n            criticscertified=\"criticscertified\"\\r\\n        >\\r\\n        </score-pairs>\\r\\n        <span class=\"p--small\" data-qa=\"discovery-media-list-item-title\">\\r\\n            The Menu\\r\\n        </span>\\r\\n        \\r\\n          <span class=\"smaller\" data-qa=\"discovery-media-list-item-start-date\">\\r\\n            Streaming Jan 3, 2023 \\r\\n          </span>\\r\\n        \\r\\n    </div>\\r\\n  </tile-dynamic>\\r\\n</a>\\r\\n\\r\\n\\r\\n\\r\\n\\r\\n        \\r\\n            <a \\r\\n  class=\"js-tile-link\" \\r\\n  href=\"/m/puss_in_boots_the_last_wish\" \\r\\n  data-id=\"de9ba2bd-3fdd-4b12-a519-a0a07bc30bf4\" \\r\\n  data-qa=\"discovery-media-list-item\">\\r\\n\\r\\n  <tile-dynamic skeleton=\"panel\" isvideo=\"true\">\\r\\n    <img\\r\\n        alt=\"Puss in Boots: The Last Wish\"\\r\\n        class=\"posterImage\"\\r\\n        loading=\"lazy\"\\r\\n        slot=\"image\"\\r\\n        src=\"https://resizing.flixster.com/7TqHTXZS36wi0cPwfdLO3kQMXH0=/180x258/v2/https://resizing.flixster.com/vtIcjOYiM-QBXQyXhTFFgQoRkDw=/ems.cHJkLWVtcy1hc3NldHMvbW92aWVzL2JmNjM3ZTc2LTk5ZmMtNGJhNy04MDAzLWI3M2IxNmExNDNkYi5qcGc=\"\\r\\n    />\\r\\n    \\r\\n      <button \\r\\n        class=\"transparent\" \\r\\n        slot=\"imageAction\" \\r\\n        \\r\\n          data-video-player-overlay-url=\"https://player.theplatform.com/p/NGweTC/pdk6_y__7B0iQTi4P/embed/select/media/YMzcw_6eTw67\"\\r\\n          data-video-player-overlay-media-url=\"/m/puss_in_boots_the_last_wish\"\\r\\n        \\r\\n      >\\r\\n        <span class=\"sr-only\">Watch the trailer for Puss in Boots: The Last Wish</span>\\r\\n      </button>\\r\\n    \\r\\n    <div slot=\"caption\" data-track=\"scores\" data-qa=\"discovery-media-list-item-caption\">\\r\\n        <score-pairs\\r\\n            audiencesentiment=\"positive\"\\r\\n            audiencescore=\"93\"\\r\\n            criticssentiment=\"positive\"\\r\\n            criticsscore=\"95\"\\r\\n            criticscertified=\"criticscertified\"\\r\\n        >\\r\\n        </score-pairs>\\r\\n        <span class=\"p--small\" data-qa=\"discovery-media-list-item-title\">\\r\\n            Puss in Boots: The Last Wish\\r\\n        </span>\\r\\n        \\r\\n          <span class=\"smaller\" data-qa=\"discovery-media-list-item-start-date\">\\r\\n            Streaming Jan 6, 2023 \\r\\n          </span>\\r\\n        \\r\\n    </div>\\r\\n  </tile-dynamic>\\r\\n</a>\\r\\n\\r\\n\\r\\n\\r\\n\\r\\n        \\r\\n            <a \\r\\n  class=\"js-tile-link\" \\r\\n  href=\"/m/the_banshees_of_inisherin\" \\r\\n  data-id=\"76aaa1b9-6545-3fd2-a495-b00d4ef9911d\" \\r\\n  data-qa=\"discovery-media-list-item\">\\r\\n\\r\\n  <tile-dynamic skeleton=\"panel\" isvideo=\"true\">\\r\\n    <img\\r\\n        alt=\"The Banshees of Inisherin\"\\r\\n        class=\"posterImage\"\\r\\n        loading=\"lazy\"\\r\\n        slot=\"image\"\\r\\n        src=\"https://resizing.flixster.com/g75SmYnr5OmzMH2poVBHMtkhQuc=/180x258/v2/https://resizing.flixster.com/SqYohHz5ela5G1qTZ8aKYunK2Oo=/ems.cHJkLWVtcy1hc3NldHMvbW92aWVzLzc4ZjI3ZDBiLTkwMDktNDVkZC1hZmI5LTJiNDdjNWRmZDVjOC5qcGc=\"\\r\\n    />\\r\\n    \\r\\n      <button \\r\\n        class=\"transparent\" \\r\\n        slot=\"imageAction\" \\r\\n        \\r\\n          data-video-player-overlay-url=\"https://player.theplatform.com/p/NGweTC/pdk6_y__7B0iQTi4P/embed/select/media/wtyELTmV1I_I\"\\r\\n          data-video-player-overlay-media-url=\"/m/the_banshees_of_inisherin\"\\r\\n        \\r\\n      >\\r\\n        <span class=\"sr-only\">Watch the trailer for The Banshees of Inisherin</span>\\r\\n      </button>\\r\\n    \\r\\n    <div slot=\"caption\" data-track=\"scores\" data-qa=\"discovery-media-list-item-caption\">\\r\\n        <score-pairs\\r\\n            audiencesentiment=\"positive\"\\r\\n            audiencescore=\"76\"\\r\\n            criticssentiment=\"positive\"\\r\\n            criticsscore=\"97\"\\r\\n            criticscertified=\"criticscertified\"\\r\\n        >\\r\\n        </score-pairs>\\r\\n        <span class=\"p--small\" data-qa=\"discovery-media-list-item-title\">\\r\\n            The Banshees of Inisherin\\r\\n        </span>\\r\\n        \\r\\n          <span class=\"smaller\" data-qa=\"discovery-media-list-item-start-date\">\\r\\n            Streaming Dec 13, 2022 \\r\\n          </span>\\r\\n        \\r\\n    </div>\\r\\n  </tile-dynamic>\\r\\n</a>\\r\\n\\r\\n\\r\\n\\r\\n\\r\\n        \\r\\n            <a \\r\\n  class=\"js-tile-link\" \\r\\n  href=\"/m/everything_everywhere_all_at_once\" \\r\\n  data-id=\"c5a8fbaa-39aa-3caa-80a4-e94975665a8a\" \\r\\n  data-qa=\"discovery-media-list-item\">\\r\\n\\r\\n  <tile-dynamic skeleton=\"panel\" isvideo=\"true\">\\r\\n    <img\\r\\n        alt=\"Everything Everywhere All at Once\"\\r\\n        class=\"posterImage\"\\r\\n        loading=\"lazy\"\\r\\n        slot=\"image\"\\r\\n        src=\"https://resizing.flixster.com/EfEP4ibneaDRhBY_i9fsO3Gxa0Y=/180x258/v2/https://resizing.flixster.com/mx-agGjjsUK1QMyuv3AJhHI3hgo=/ems.cHJkLWVtcy1hc3NldHMvbW92aWVzLzA3ZjU2MGU1LWMxODItNDlkMC1hYzJhLTY2YzMwOGZkMDhiZi5qcGc=\"\\r\\n    />\\r\\n    \\r\\n      <button \\r\\n        class=\"transparent\" \\r\\n        slot=\"imageAction\" \\r\\n        \\r\\n          data-video-player-overlay-url=\"https://player.theplatform.com/p/NGweTC/pdk6_y__7B0iQTi4P/embed/select/media/CNmblp1eZf83\"\\r\\n          data-video-player-overlay-media-url=\"/m/everything_everywhere_all_at_once\"\\r\\n        \\r\\n      >\\r\\n        <span class=\"sr-only\">Watch the trailer for Everything Everywhere All at Once</span>\\r\\n      </button>\\r\\n    \\r\\n    <div slot=\"caption\" data-track=\"scores\" data-qa=\"discovery-media-list-item-caption\">\\r\\n        <score-pairs\\r\\n            audiencesentiment=\"positive\"\\r\\n            audiencescore=\"89\"\\r\\n            criticssentiment=\"positive\"\\r\\n            criticsscore=\"95\"\\r\\n            criticscertified=\"criticscertified\"\\r\\n        >\\r\\n        </score-pairs>\\r\\n        <span class=\"p--small\" data-qa=\"discovery-media-list-item-title\">\\r\\n            Everything Everywhere All at Once\\r\\n        </span>\\r\\n        \\r\\n          <span class=\"smaller\" data-qa=\"discovery-media-list-item-start-date\">\\r\\n            Streaming Jun 7, 2022 \\r\\n          </span>\\r\\n        \\r\\n    </div>\\r\\n  </tile-dynamic>\\r\\n</a>\\r\\n\\r\\n\\r\\n\\r\\n\\r\\n        \\r\\n            <a \\r\\n  class=\"js-tile-link\" \\r\\n  href=\"/m/the_fabelmans\" \\r\\n  data-id=\"8a6be44d-63a4-34af-96b3-a40c0f03abaa\" \\r\\n  data-qa=\"discovery-media-list-item\">\\r\\n\\r\\n  <tile-dynamic skeleton=\"panel\" isvideo=\"true\">\\r\\n    <img\\r\\n        alt=\"The Fabelmans\"\\r\\n        class=\"posterImage\"\\r\\n        loading=\"lazy\"\\r\\n        slot=\"image\"\\r\\n        src=\"https://resizing.flixster.com/c0UaF5wT35zDl_bCLSI6nAcvSus=/180x258/v2/https://resizing.flixster.com/sHWlKXB2LojbyFEGXuLICWYopdI=/ems.cHJkLWVtcy1hc3NldHMvbW92aWVzLzA3Y2Y3MTk3LWZkMWUtNGNjNS04YzY0LWI0YjNlNDNmYTRhNC5qcGc=\"\\r\\n    />\\r\\n    \\r\\n      <button \\r\\n        class=\"transparent\" \\r\\n        slot=\"imageAction\" \\r\\n        \\r\\n          data-video-player-overlay-url=\"https://player.theplatform.com/p/NGweTC/pdk6_y__7B0iQTi4P/embed/select/media/j4_QHcMwAtU8\"\\r\\n          data-video-player-overlay-media-url=\"/m/the_fabelmans\"\\r\\n        \\r\\n      >\\r\\n        <span class=\"sr-only\">Watch the trailer for The Fabelmans</span>\\r\\n      </button>\\r\\n    \\r\\n    <div slot=\"caption\" data-track=\"scores\" data-qa=\"discovery-media-list-item-caption\">\\r\\n        <score-pairs\\r\\n            audiencesentiment=\"positive\"\\r\\n            audiencescore=\"82\"\\r\\n            criticssentiment=\"positive\"\\r\\n            criticsscore=\"92\"\\r\\n            criticscertified=\"criticscertified\"\\r\\n        >\\r\\n        </score-pairs>\\r\\n        <span class=\"p--small\" data-qa=\"discovery-media-list-item-title\">\\r\\n            The Fabelmans\\r\\n        </span>\\r\\n        \\r\\n          <span class=\"smaller\" data-qa=\"discovery-media-list-item-start-date\">\\r\\n            Streaming Dec 13, 2022 \\r\\n          </span>\\r\\n        \\r\\n    </div>\\r\\n  </tile-dynamic>\\r\\n</a>\\r\\n\\r\\n\\r\\n\\r\\n\\r\\n        \\r\\n            <a \\r\\n  class=\"js-tile-link\" \\r\\n  href=\"/m/sick_2022\" \\r\\n  data-id=\"6089a9c0-8913-4d09-a6b2-0774db849875\" \\r\\n  data-qa=\"discovery-media-list-item\">\\r\\n\\r\\n  <tile-dynamic skeleton=\"panel\" isvideo=\"false\">\\r\\n    <img\\r\\n        alt=\"Sick\"\\r\\n        class=\"posterImage\"\\r\\n        loading=\"lazy\"\\r\\n        slot=\"image\"\\r\\n        src=\"https://resizing.flixster.com/8wymdH43sZoAyqWNdFjibu1YJlA=/180x258/v2/https://resizing.flixster.com/ZNLHYPtAZiy-aViK7D4SBdAlqxw=/ems.cHJkLWVtcy1hc3NldHMvbW92aWVzLzA2MzYzMjhiLThmZGUtNDA4NC04MTRkLWE5NjUyZDYzOTAwOS5qcGc=\"\\r\\n    />\\r\\n    \\r\\n    <div slot=\"caption\" data-track=\"scores\" data-qa=\"discovery-media-list-item-caption\">\\r\\n        <score-pairs\\r\\n            audiencesentiment=\"positive\"\\r\\n            audiencescore=\"67\"\\r\\n            criticssentiment=\"positive\"\\r\\n            criticsscore=\"88\"\\r\\n            criticscertified=\"criticscertified\"\\r\\n        >\\r\\n        </score-pairs>\\r\\n        <span class=\"p--small\" data-qa=\"discovery-media-list-item-title\">\\r\\n            Sick\\r\\n        </span>\\r\\n        \\r\\n          <span class=\"smaller\" data-qa=\"discovery-media-list-item-start-date\">\\r\\n            Streaming Jan 13, 2023 \\r\\n          </span>\\r\\n        \\r\\n    </div>\\r\\n  </tile-dynamic>\\r\\n</a>\\r\\n\\r\\n\\r\\n\\r\\n\\r\\n        \\r\\n            <a \\r\\n  class=\"js-tile-link\" \\r\\n  href=\"/m/glass_onion_a_knives_out_mystery\" \\r\\n  data-id=\"5f120ca0-9089-3cee-84d5-f98e90777e3a\" \\r\\n  data-qa=\"discovery-media-list-item\">\\r\\n\\r\\n  <tile-dynamic skeleton=\"panel\" isvideo=\"true\">\\r\\n    <img\\r\\n        alt=\"Glass Onion: A Knives Out Mystery\"\\r\\n        class=\"posterImage\"\\r\\n        loading=\"lazy\"\\r\\n        slot=\"image\"\\r\\n        src=\"https://resizing.flixster.com/tbJ0JxZXRXYEzs2BqwjI1Mbm90Q=/180x258/v2/https://resizing.flixster.com/Mtg-vEUajN8oamKcLLI7hZT-Rhs=/ems.cHJkLWVtcy1hc3NldHMvbW92aWVzL2FhYTcxNzNkLTExYzItNDk1NC1iNDNmLWViMDRlYjg5NzliNC5qcGc=\"\\r\\n    />\\r\\n    \\r\\n      <button \\r\\n        class=\"transparent\" \\r\\n        slot=\"imageAction\" \\r\\n        \\r\\n          data-video-player-overlay-url=\"https://player.theplatform.com/p/NGweTC/pdk6_y__7B0iQTi4P/embed/select/media/Xaiejods8r1V\"\\r\\n          data-video-player-overlay-media-url=\"/m/glass_onion_a_knives_out_mystery\"\\r\\n        \\r\\n      >\\r\\n        <span class=\"sr-only\">Watch the trailer for Glass Onion: A Knives Out Mystery</span>\\r\\n      </button>\\r\\n    \\r\\n    <div slot=\"caption\" data-track=\"scores\" data-qa=\"discovery-media-list-item-caption\">\\r\\n        <score-pairs\\r\\n            audiencesentiment=\"positive\"\\r\\n            audiencescore=\"93\"\\r\\n            criticssentiment=\"positive\"\\r\\n            criticsscore=\"92\"\\r\\n            criticscertified=\"criticscertified\"\\r\\n        >\\r\\n        </score-pairs>\\r\\n        <span class=\"p--small\" data-qa=\"discovery-media-list-item-title\">\\r\\n            Glass Onion: A Knives Out Mystery\\r\\n        </span>\\r\\n        \\r\\n          <span class=\"smaller\" data-qa=\"discovery-media-list-item-start-date\">\\r\\n            Streaming Dec 23, 2022 \\r\\n          </span>\\r\\n        \\r\\n    </div>\\r\\n  </tile-dynamic>\\r\\n</a>\\r\\n\\r\\n\\r\\n\\r\\n\\r\\n        \\r\\n            <a \\r\\n  class=\"js-tile-link\" \\r\\n  href=\"/m/devotion_2022\" \\r\\n  data-id=\"8ea3ab6f-56f7-42b2-b31e-5ccfda84bdec\" \\r\\n  data-qa=\"discovery-media-list-item\">\\r\\n\\r\\n  <tile-dynamic skeleton=\"panel\" isvideo=\"true\">\\r\\n    <img\\r\\n        alt=\"Devotion\"\\r\\n        class=\"posterImage\"\\r\\n        loading=\"lazy\"\\r\\n        slot=\"image\"\\r\\n        src=\"https://resizing.flixster.com/IOXq6IJZjoPsv6EDNWD1MBbYakU=/180x258/v2/https://resizing.flixster.com/bewkINYSfH_9LYdcxDC2LNLEbQA=/ems.cHJkLWVtcy1hc3NldHMvbW92aWVzL2I3NTc0OTI3LTgzNDQtNGE1MS1iMDMzLTk5OWQ2MjU0NmUzNC5qcGc=\"\\r\\n    />\\r\\n    \\r\\n      <button \\r\\n        class=\"transparent\" \\r\\n        slot=\"imageAction\" \\r\\n        \\r\\n          data-video-player-overlay-url=\"https://player.theplatform.com/p/NGweTC/pdk6_y__7B0iQTi4P/embed/select/media/eCVrateE3_Jl\"\\r\\n          data-video-player-overlay-media-url=\"/m/devotion_2022\"\\r\\n        \\r\\n      >\\r\\n        <span class=\"sr-only\">Watch the trailer for Devotion</span>\\r\\n      </button>\\r\\n    \\r\\n    <div slot=\"caption\" data-track=\"scores\" data-qa=\"discovery-media-list-item-caption\">\\r\\n        <score-pairs\\r\\n            audiencesentiment=\"positive\"\\r\\n            audiencescore=\"92\"\\r\\n            criticssentiment=\"positive\"\\r\\n            criticsscore=\"81\"\\r\\n            criticscertified=\"criticscertified\"\\r\\n        >\\r\\n        </score-pairs>\\r\\n        <span class=\"p--small\" data-qa=\"discovery-media-list-item-title\">\\r\\n            Devotion\\r\\n        </span>\\r\\n        \\r\\n          <span class=\"smaller\" data-qa=\"discovery-media-list-item-start-date\">\\r\\n            Streaming Jan 8, 2023 \\r\\n          </span>\\r\\n        \\r\\n    </div>\\r\\n  </tile-dynamic>\\r\\n</a>\\r\\n\\r\\n\\r\\n\\r\\n\\r\\n        \\r\\n            <a \\r\\n  class=\"js-tile-link\" \\r\\n  href=\"/m/aftersun\" \\r\\n  data-id=\"5fc9923c-0a38-46e7-a324-4ffde49a280c\" \\r\\n  data-qa=\"discovery-media-list-item\">\\r\\n\\r\\n  <tile-dynamic skeleton=\"panel\" isvideo=\"true\">\\r\\n    <img\\r\\n        alt=\"Aftersun\"\\r\\n        class=\"posterImage\"\\r\\n        loading=\"lazy\"\\r\\n        slot=\"image\"\\r\\n        src=\"https://resizing.flixster.com/BvnA4LfxGe8DSkd6PpUkdiPNxlM=/180x258/v2/https://resizing.flixster.com/dLAtEC7GySsgPdWZKx-cPCV6KBY=/ems.cHJkLWVtcy1hc3NldHMvbW92aWVzL2Q3NWQwM2U2LWJkNTctNDNjOC04ODhiLTNlYjI1MGI0YmI4ZS5qcGc=\"\\r\\n    />\\r\\n    \\r\\n      <button \\r\\n        class=\"transparent\" \\r\\n        slot=\"imageAction\" \\r\\n        \\r\\n          data-video-player-overlay-url=\"https://player.theplatform.com/p/NGweTC/pdk6_y__7B0iQTi4P/embed/select/media/49eh01qmwyv1\"\\r\\n          data-video-player-overlay-media-url=\"/m/aftersun\"\\r\\n        \\r\\n      >\\r\\n        <span class=\"sr-only\">Watch the trailer for Aftersun</span>\\r\\n      </button>\\r\\n    \\r\\n    <div slot=\"caption\" data-track=\"scores\" data-qa=\"discovery-media-list-item-caption\">\\r\\n        <score-pairs\\r\\n            audiencesentiment=\"positive\"\\r\\n            audiencescore=\"81\"\\r\\n            criticssentiment=\"positive\"\\r\\n            criticsscore=\"96\"\\r\\n            criticscertified=\"criticscertified\"\\r\\n        >\\r\\n        </score-pairs>\\r\\n        <span class=\"p--small\" data-qa=\"discovery-media-list-item-title\">\\r\\n            Aftersun\\r\\n        </span>\\r\\n        \\r\\n          <span class=\"smaller\" data-qa=\"discovery-media-list-item-start-date\">\\r\\n            Streaming Dec 20, 2022 \\r\\n          </span>\\r\\n        \\r\\n    </div>\\r\\n  </tile-dynamic>\\r\\n</a>\\r\\n\\r\\n\\r\\n\\r\\n\\r\\n        \\r\\n            <a \\r\\n  class=\"js-tile-link\" \\r\\n  href=\"/m/emily_the_criminal\" \\r\\n  data-id=\"c8a86978-2e52-478b-8496-6dad46e051e8\" \\r\\n  data-qa=\"discovery-media-list-item\">\\r\\n\\r\\n  <tile-dynamic skeleton=\"panel\" isvideo=\"true\">\\r\\n    <img\\r\\n        alt=\"Emily the Criminal\"\\r\\n        class=\"posterImage\"\\r\\n        loading=\"lazy\"\\r\\n        slot=\"image\"\\r\\n        src=\"https://resizing.flixster.com/uyywbBK3z6ZhZjZ-Lwy7YTbwofM=/180x258/v2/https://resizing.flixster.com/qtYisqOwDStnpo2P22PRTHC53Uk=/ems.cHJkLWVtcy1hc3NldHMvbW92aWVzL2NmMmQ0ZTRiLWVkOGYtNDllNS05ZjRiLWYyY2RhMjk1YzRjYi5qcGc=\"\\r\\n    />\\r\\n    \\r\\n      <button \\r\\n        class=\"transparent\" \\r\\n        slot=\"imageAction\" \\r\\n        \\r\\n          data-video-player-overlay-url=\"https://player.theplatform.com/p/NGweTC/pdk6_y__7B0iQTi4P/embed/select/media/is5WJhJAqHeQ\"\\r\\n          data-video-player-overlay-media-url=\"/m/emily_the_criminal\"\\r\\n        \\r\\n      >\\r\\n        <span class=\"sr-only\">Watch the trailer for Emily the Criminal</span>\\r\\n      </button>\\r\\n    \\r\\n    <div slot=\"caption\" data-track=\"scores\" data-qa=\"discovery-media-list-item-caption\">\\r\\n        <score-pairs\\r\\n            audiencesentiment=\"positive\"\\r\\n            audiencescore=\"79\"\\r\\n            criticssentiment=\"positive\"\\r\\n            criticsscore=\"94\"\\r\\n            criticscertified=\"criticscertified\"\\r\\n        >\\r\\n        </score-pairs>\\r\\n        <span class=\"p--small\" data-qa=\"discovery-media-list-item-title\">\\r\\n            Emily the Criminal\\r\\n        </span>\\r\\n        \\r\\n          <span class=\"smaller\" data-qa=\"discovery-media-list-item-start-date\">\\r\\n            Streaming Oct 28, 2022 \\r\\n          </span>\\r\\n        \\r\\n    </div>\\r\\n  </tile-dynamic>\\r\\n</a>\\r\\n\\r\\n\\r\\n\\r\\n\\r\\n        \\r\\n            <a \\r\\n  class=\"js-tile-link\" \\r\\n  href=\"/m/elvis\" \\r\\n  data-id=\"040e8619-9198-3e84-a1f7-9963f52f2726\" \\r\\n  data-qa=\"discovery-media-list-item\">\\r\\n\\r\\n  <tile-dynamic skeleton=\"panel\" isvideo=\"true\">\\r\\n    <img\\r\\n        alt=\"Elvis\"\\r\\n        class=\"posterImage\"\\r\\n        loading=\"lazy\"\\r\\n        slot=\"image\"\\r\\n        src=\"https://resizing.flixster.com/__1jLNztzEXGUPlcq8fzs82Zu58=/180x258/v2/https://resizing.flixster.com/mYfU74jKBCV9KA_O7ktmk5exwu4=/ems.cHJkLWVtcy1hc3NldHMvbW92aWVzLzczNjAwNTk0LTRlZWEtNDY5Ni1iYWM1LWRhZjI1OWUzODNhNy5qcGc=\"\\r\\n    />\\r\\n    \\r\\n      <button \\r\\n        class=\"transparent\" \\r\\n        slot=\"imageAction\" \\r\\n        \\r\\n          data-video-player-overlay-url=\"https://player.theplatform.com/p/NGweTC/pdk6_y__7B0iQTi4P/embed/select/media/YAmzhJ35t98X\"\\r\\n          data-video-player-overlay-media-url=\"/m/elvis\"\\r\\n        \\r\\n      >\\r\\n        <span class=\"sr-only\">Watch the trailer for Elvis</span>\\r\\n      </button>\\r\\n    \\r\\n    <div slot=\"caption\" data-track=\"scores\" data-qa=\"discovery-media-list-item-caption\">\\r\\n        <score-pairs\\r\\n            audiencesentiment=\"positive\"\\r\\n            audiencescore=\"94\"\\r\\n            criticssentiment=\"positive\"\\r\\n            criticsscore=\"77\"\\r\\n            criticscertified=\"criticscertified\"\\r\\n        >\\r\\n        </score-pairs>\\r\\n        <span class=\"p--small\" data-qa=\"discovery-media-list-item-title\">\\r\\n            Elvis\\r\\n        </span>\\r\\n        \\r\\n          <span class=\"smaller\" data-qa=\"discovery-media-list-item-start-date\">\\r\\n            Streaming Aug 9, 2022 \\r\\n          </span>\\r\\n        \\r\\n    </div>\\r\\n  </tile-dynamic>\\r\\n</a>\\r\\n\\r\\n\\r\\n\\r\\n\\r\\n        \\r\\n            <a \\r\\n  class=\"js-tile-link\" \\r\\n  href=\"/m/barbarian_2022\" \\r\\n  data-id=\"7ad6a959-bd25-45ac-83cb-f84366374d95\" \\r\\n  data-qa=\"discovery-media-list-item\">\\r\\n\\r\\n  <tile-dynamic skeleton=\"panel\" isvideo=\"true\">\\r\\n    <img\\r\\n        alt=\"Barbarian\"\\r\\n        class=\"posterImage\"\\r\\n        loading=\"lazy\"\\r\\n        slot=\"image\"\\r\\n        src=\"https://resizing.flixster.com/dmwr8LUltpSD7LvW3OQUM90Jlok=/180x258/v2/https://resizing.flixster.com/Ym6ucXdlZjGTqRWEMVr0r3H16Ro=/ems.cHJkLWVtcy1hc3NldHMvbW92aWVzLzA3ZGY2MjgxLTI1NjEtNGFhMC1iYzQ0LTllOGFhYTczNzYxNy5qcGc=\"\\r\\n    />\\r\\n    \\r\\n      <button \\r\\n        class=\"transparent\" \\r\\n        slot=\"imageAction\" \\r\\n        \\r\\n          data-video-player-overlay-url=\"https://player.theplatform.com/p/NGweTC/pdk6_y__7B0iQTi4P/embed/select/media/_bgKcESnd3t_\"\\r\\n          data-video-player-overlay-media-url=\"/m/barbarian_2022\"\\r\\n        \\r\\n      >\\r\\n        <span class=\"sr-only\">Watch the trailer for Barbarian</span>\\r\\n      </button>\\r\\n    \\r\\n    <div slot=\"caption\" data-track=\"scores\" data-qa=\"discovery-media-list-item-caption\">\\r\\n        <score-pairs\\r\\n            audiencesentiment=\"positive\"\\r\\n            audiencescore=\"71\"\\r\\n            criticssentiment=\"positive\"\\r\\n            criticsscore=\"92\"\\r\\n            criticscertified=\"criticscertified\"\\r\\n        >\\r\\n        </score-pairs>\\r\\n        <span class=\"p--small\" data-qa=\"discovery-media-list-item-title\">\\r\\n            Barbarian\\r\\n        </span>\\r\\n        \\r\\n          <span class=\"smaller\" data-qa=\"discovery-media-list-item-start-date\">\\r\\n            Streaming Oct 25, 2022 \\r\\n          </span>\\r\\n        \\r\\n    </div>\\r\\n  </tile-dynamic>\\r\\n</a>\\r\\n\\r\\n\\r\\n\\r\\n\\r\\n        \\r\\n            <a \\r\\n  class=\"js-tile-link\" \\r\\n  href=\"/m/x_2022\" \\r\\n  data-id=\"fda6d2d7-9587-4090-94d8-0e08ddfcf2a7\" \\r\\n  data-qa=\"discovery-media-list-item\">\\r\\n\\r\\n  <tile-dynamic skeleton=\"panel\" isvideo=\"true\">\\r\\n    <img\\r\\n        alt=\"X\"\\r\\n        class=\"posterImage\"\\r\\n        loading=\"lazy\"\\r\\n        slot=\"image\"\\r\\n        src=\"https://resizing.flixster.com/3z0Y9dEFKVm81xMe3hnHKEP70iQ=/180x258/v2/https://resizing.flixster.com/-Ius_N-ltCTKSsVCP_h4zcw5ixs=/ems.cHJkLWVtcy1hc3NldHMvbW92aWVzLzI5Y2VlMDIwLTJhMTgtNDAwOC05YTZkLTFkNWI1ZTQ2MGI4OC5qcGc=\"\\r\\n    />\\r\\n    \\r\\n      <button \\r\\n        class=\"transparent\" \\r\\n        slot=\"imageAction\" \\r\\n        \\r\\n          data-video-player-overlay-url=\"https://player.theplatform.com/p/NGweTC/pdk6_y__7B0iQTi4P/embed/select/media/fJUX4S9QpCKK\"\\r\\n          data-video-player-overlay-media-url=\"/m/x_2022\"\\r\\n        \\r\\n      >\\r\\n        <span class=\"sr-only\">Watch the trailer for X</span>\\r\\n      </button>\\r\\n    \\r\\n    <div slot=\"caption\" data-track=\"scores\" data-qa=\"discovery-media-list-item-caption\">\\r\\n        <score-pairs\\r\\n            audiencesentiment=\"positive\"\\r\\n            audiencescore=\"75\"\\r\\n            criticssentiment=\"positive\"\\r\\n            criticsscore=\"94\"\\r\\n            criticscertified=\"criticscertified\"\\r\\n        >\\r\\n        </score-pairs>\\r\\n        <span class=\"p--small\" data-qa=\"discovery-media-list-item-title\">\\r\\n            X\\r\\n        </span>\\r\\n        \\r\\n          <span class=\"smaller\" data-qa=\"discovery-media-list-item-start-date\">\\r\\n            Streaming Apr 14, 2022 \\r\\n          </span>\\r\\n        \\r\\n    </div>\\r\\n  </tile-dynamic>\\r\\n</a>\\r\\n\\r\\n\\r\\n\\r\\n\\r\\n        \\r\\n            <a \\r\\n  class=\"js-tile-link\" \\r\\n  href=\"/m/guillermo_del_toros_pinocchio\" \\r\\n  data-id=\"07fa8a49-4c8c-3b3a-872b-779d070f6c24\" \\r\\n  data-qa=\"discovery-media-list-item\">\\r\\n\\r\\n  <tile-dynamic skeleton=\"panel\" isvideo=\"true\">\\r\\n    <img\\r\\n        alt=\"Guillermo del Toro&#39;s Pinocchio\"\\r\\n        class=\"posterImage\"\\r\\n        loading=\"lazy\"\\r\\n        slot=\"image\"\\r\\n        src=\"https://resizing.flixster.com/4nWFJLNFCGRYpJ06c2OhlkaHIso=/180x258/v2/https://resizing.flixster.com/21j7kYKcSY89f0BqEBs-MUCmfkk=/ems.cHJkLWVtcy1hc3NldHMvbW92aWVzL2FiZWNkNjYzLTRkYTAtNGI2My05NmUzLWNkZmM0ZjI2NDk4Zi5qcGc=\"\\r\\n    />\\r\\n    \\r\\n      <button \\r\\n        class=\"transparent\" \\r\\n        slot=\"imageAction\" \\r\\n        \\r\\n          data-video-player-overlay-url=\"https://player.theplatform.com/p/NGweTC/pdk6_y__7B0iQTi4P/embed/select/media/a9MSdCnrXpXo\"\\r\\n          data-video-player-overlay-media-url=\"/m/guillermo_del_toros_pinocchio\"\\r\\n        \\r\\n      >\\r\\n        <span class=\"sr-only\">Watch the trailer for Guillermo del Toro&#39;s Pinocchio</span>\\r\\n      </button>\\r\\n    \\r\\n    <div slot=\"caption\" data-track=\"scores\" data-qa=\"discovery-media-list-item-caption\">\\r\\n        <score-pairs\\r\\n            audiencesentiment=\"positive\"\\r\\n            audiencescore=\"91\"\\r\\n            criticssentiment=\"positive\"\\r\\n            criticsscore=\"97\"\\r\\n            criticscertified=\"criticscertified\"\\r\\n        >\\r\\n        </score-pairs>\\r\\n        <span class=\"p--small\" data-qa=\"discovery-media-list-item-title\">\\r\\n            Guillermo del Toro&#39;s Pinocchio\\r\\n        </span>\\r\\n        \\r\\n          <span class=\"smaller\" data-qa=\"discovery-media-list-item-start-date\">\\r\\n            Streaming Dec 9, 2022 \\r\\n          </span>\\r\\n        \\r\\n    </div>\\r\\n  </tile-dynamic>\\r\\n</a>\\r\\n\\r\\n\\r\\n\\r\\n\\r\\n        \\r\\n            <a \\r\\n  class=\"js-tile-link\" \\r\\n  href=\"/m/top_gun_maverick\" \\r\\n  data-id=\"db97d08b-0855-3d42-890f-829fddbdb1fa\" \\r\\n  data-qa=\"discovery-media-list-item\">\\r\\n\\r\\n  <tile-dynamic skeleton=\"panel\" isvideo=\"true\">\\r\\n    <img\\r\\n        alt=\"Top Gun: Maverick\"\\r\\n        class=\"posterImage\"\\r\\n        loading=\"lazy\"\\r\\n        slot=\"image\"\\r\\n        src=\"https://resizing.flixster.com/muQdl8QOTaRQCfedkh-NQYfaGxs=/180x258/v2/https://resizing.flixster.com/TIM4kfHTVZrfpF0tYt9LIU69A5s=/ems.cHJkLWVtcy1hc3NldHMvbW92aWVzLzU1OWIwMWQwLWYyZDItNDk4Yi04MDIxLWI3OTJlNDI1NjA3NS5qcGc=\"\\r\\n    />\\r\\n    \\r\\n      <button \\r\\n        class=\"transparent\" \\r\\n        slot=\"imageAction\" \\r\\n        \\r\\n          data-video-player-overlay-url=\"https://player.theplatform.com/p/NGweTC/pdk6_y__7B0iQTi4P/embed/select/media/BKI9tT9Xpk4y\"\\r\\n          data-video-player-overlay-media-url=\"/m/top_gun_maverick\"\\r\\n        \\r\\n      >\\r\\n        <span class=\"sr-only\">Watch the trailer for Top Gun: Maverick</span>\\r\\n      </button>\\r\\n    \\r\\n    <div slot=\"caption\" data-track=\"scores\" data-qa=\"discovery-media-list-item-caption\">\\r\\n        <score-pairs\\r\\n            audiencesentiment=\"positive\"\\r\\n            audiencescore=\"99\"\\r\\n            criticssentiment=\"positive\"\\r\\n            criticsscore=\"96\"\\r\\n            criticscertified=\"criticscertified\"\\r\\n        >\\r\\n        </score-pairs>\\r\\n        <span class=\"p--small\" data-qa=\"discovery-media-list-item-title\">\\r\\n            Top Gun: Maverick\\r\\n        </span>\\r\\n        \\r\\n          <span class=\"smaller\" data-qa=\"discovery-media-list-item-start-date\">\\r\\n            Streaming Aug 22, 2022 \\r\\n          </span>\\r\\n        \\r\\n    </div>\\r\\n  </tile-dynamic>\\r\\n</a>\\r\\n\\r\\n\\r\\n\\r\\n\\r\\n        \\r\\n            <a \\r\\n  class=\"js-tile-link\" \\r\\n  href=\"/m/avatar\" \\r\\n  data-id=\"f7970b0e-0f4c-391b-a841-1bf29e368b3e\" \\r\\n  data-qa=\"discovery-media-list-item\">\\r\\n\\r\\n  <tile-dynamic skeleton=\"panel\" isvideo=\"true\">\\r\\n    <img\\r\\n        alt=\"Avatar\"\\r\\n        class=\"posterImage\"\\r\\n        loading=\"lazy\"\\r\\n        slot=\"image\"\\r\\n        src=\"https://resizing.flixster.com/pKjszAQ5z07ondE2foX8gAiQtBg=/180x258/v2/https://resizing.flixster.com/f0bXqQUdQ0m6fyqZjI1OXSEia9E=/ems.cHJkLWVtcy1hc3NldHMvbW92aWVzLzEzYmY3ZmZiLWMzYjEtNDQxMy05NTAxLTc2YTRlNmE3NWY2MC5qcGc=\"\\r\\n    />\\r\\n    \\r\\n      <button \\r\\n        class=\"transparent\" \\r\\n        slot=\"imageAction\" \\r\\n        \\r\\n          data-video-player-overlay-url=\"https://player.theplatform.com/p/NGweTC/pdk6_y__7B0iQTi4P/embed/select/media/69zq6bLLuMOm\"\\r\\n          data-video-player-overlay-media-url=\"/m/avatar\"\\r\\n        \\r\\n      >\\r\\n        <span class=\"sr-only\">Watch the trailer for Avatar</span>\\r\\n      </button>\\r\\n    \\r\\n    <div slot=\"caption\" data-track=\"scores\" data-qa=\"discovery-media-list-item-caption\">\\r\\n        <score-pairs\\r\\n            audiencesentiment=\"positive\"\\r\\n            audiencescore=\"82\"\\r\\n            criticssentiment=\"positive\"\\r\\n            criticsscore=\"82\"\\r\\n            criticscertified=\"criticscertified\"\\r\\n        >\\r\\n        </score-pairs>\\r\\n        <span class=\"p--small\" data-qa=\"discovery-media-list-item-title\">\\r\\n            Avatar\\r\\n        </span>\\r\\n        \\r\\n          <span class=\"smaller\" data-qa=\"discovery-media-list-item-start-date\">\\r\\n            Streaming Feb 10, 2016 \\r\\n          </span>\\r\\n        \\r\\n    </div>\\r\\n  </tile-dynamic>\\r\\n</a>\\r\\n\\r\\n\\r\\n\\r\\n\\r\\n        \\r\\n            <a \\r\\n  class=\"js-tile-link\" \\r\\n  href=\"/m/the_woman_king\" \\r\\n  data-id=\"0a7e441c-2fa0-3e58-95f1-93c3592f94bb\" \\r\\n  data-qa=\"discovery-media-list-item\">\\r\\n\\r\\n  <tile-dynamic skeleton=\"panel\" isvideo=\"true\">\\r\\n    <img\\r\\n        alt=\"The Woman King\"\\r\\n        class=\"posterImage\"\\r\\n        loading=\"lazy\"\\r\\n        slot=\"image\"\\r\\n        src=\"https://resizing.flixster.com/RxOwvg8L_rDc9PjE7zjqOfxpbvA=/180x258/v2/https://resizing.flixster.com/BwXaeEZJNNzzduc8EaebjKl2aGc=/ems.cHJkLWVtcy1hc3NldHMvbW92aWVzLzY4YTIwMGI3LTk1YjUtNDY1ZC1hYmMyLTIwM2UwZjc2OTY4Mi5qcGc=\"\\r\\n    />\\r\\n    \\r\\n      <button \\r\\n        class=\"transparent\" \\r\\n        slot=\"imageAction\" \\r\\n        \\r\\n          data-video-player-overlay-url=\"https://player.theplatform.com/p/NGweTC/pdk6_y__7B0iQTi4P/embed/select/media/DXmAdOykwyYZ\"\\r\\n          data-video-player-overlay-media-url=\"/m/the_woman_king\"\\r\\n        \\r\\n      >\\r\\n        <span class=\"sr-only\">Watch the trailer for The Woman King</span>\\r\\n      </button>\\r\\n    \\r\\n    <div slot=\"caption\" data-track=\"scores\" data-qa=\"discovery-media-list-item-caption\">\\r\\n        <score-pairs\\r\\n            audiencesentiment=\"positive\"\\r\\n            audiencescore=\"99\"\\r\\n            criticssentiment=\"positive\"\\r\\n            criticsscore=\"94\"\\r\\n            criticscertified=\"criticscertified\"\\r\\n        >\\r\\n        </score-pairs>\\r\\n        <span class=\"p--small\" data-qa=\"discovery-media-list-item-title\">\\r\\n            The Woman King\\r\\n        </span>\\r\\n        \\r\\n          <span class=\"smaller\" data-qa=\"discovery-media-list-item-start-date\">\\r\\n            Streaming Dec 13, 2022 \\r\\n          </span>\\r\\n        \\r\\n    </div>\\r\\n  </tile-dynamic>\\r\\n</a>\\r\\n\\r\\n\\r\\n\\r\\n\\r\\n        \\r\\n            <a \\r\\n  class=\"js-tile-link\" \\r\\n  href=\"/m/nope\" \\r\\n  data-id=\"6de3b2af-ef38-3d26-ae60-82d87e4dcbb9\" \\r\\n  data-qa=\"discovery-media-list-item\">\\r\\n\\r\\n  <tile-dynamic skeleton=\"panel\" isvideo=\"true\">\\r\\n    <img\\r\\n        alt=\"Nope\"\\r\\n        class=\"posterImage\"\\r\\n        loading=\"lazy\"\\r\\n        slot=\"image\"\\r\\n        src=\"https://resizing.flixster.com/l1ZLcJex3o9HyCsxa2r8kZu-h0s=/180x258/v2/https://resizing.flixster.com/6EeYrywKueOFue9uRSQqLxfGKI0=/ems.cHJkLWVtcy1hc3NldHMvbW92aWVzLzA0NzZhZTk0LTI3NjctNGZiNi04Yjg4LWRiN2RkNTJiYWZlNy5qcGc=\"\\r\\n    />\\r\\n    \\r\\n      <button \\r\\n        class=\"transparent\" \\r\\n        slot=\"imageAction\" \\r\\n        \\r\\n          data-video-player-overlay-url=\"https://player.theplatform.com/p/NGweTC/pdk6_y__7B0iQTi4P/embed/select/media/h0p3IyF_CMq_\"\\r\\n          data-video-player-overlay-media-url=\"/m/nope\"\\r\\n        \\r\\n      >\\r\\n        <span class=\"sr-only\">Watch the trailer for Nope</span>\\r\\n      </button>\\r\\n    \\r\\n    <div slot=\"caption\" data-track=\"scores\" data-qa=\"discovery-media-list-item-caption\">\\r\\n        <score-pairs\\r\\n            audiencesentiment=\"positive\"\\r\\n            audiencescore=\"69\"\\r\\n            criticssentiment=\"positive\"\\r\\n            criticsscore=\"83\"\\r\\n            criticscertified=\"criticscertified\"\\r\\n        >\\r\\n        </score-pairs>\\r\\n        <span class=\"p--small\" data-qa=\"discovery-media-list-item-title\">\\r\\n            Nope\\r\\n        </span>\\r\\n        \\r\\n          <span class=\"smaller\" data-qa=\"discovery-media-list-item-start-date\">\\r\\n            Streaming Nov 18, 2022 \\r\\n          </span>\\r\\n        \\r\\n    </div>\\r\\n  </tile-dynamic>\\r\\n</a>\\r\\n\\r\\n\\r\\n\\r\\n\\r\\n        \\r\\n            <a \\r\\n  class=\"js-tile-link\" \\r\\n  href=\"/m/hellbender\" \\r\\n  data-id=\"e2df4a5b-4db2-3adf-a86e-8d311c013140\" \\r\\n  data-qa=\"discovery-media-list-item\">\\r\\n\\r\\n  <tile-dynamic skeleton=\"panel\" isvideo=\"true\">\\r\\n    <img\\r\\n        alt=\"Hellbender\"\\r\\n        class=\"posterImage\"\\r\\n        loading=\"lazy\"\\r\\n        slot=\"image\"\\r\\n        src=\"https://resizing.flixster.com/S6aGue8SYNWfHEvNNaHDDVwX0T4=/180x258/v2/https://resizing.flixster.com/P3Ri6b9aMGyXGoQq2fAC0W42ZuM=/ems.cHJkLWVtcy1hc3NldHMvbW92aWVzLzljOTY4NjE5LWVhNTctNDNmYS05YTk4LWY1Y2Q5NzkyNTlmMy5qcGc=\"\\r\\n    />\\r\\n    \\r\\n      <button \\r\\n        class=\"transparent\" \\r\\n        slot=\"imageAction\" \\r\\n        \\r\\n          data-video-player-overlay-url=\"https://player.theplatform.com/p/NGweTC/pdk6_y__7B0iQTi4P/embed/select/media/Xww2x45qCxfX\"\\r\\n          data-video-player-overlay-media-url=\"/m/hellbender\"\\r\\n        \\r\\n      >\\r\\n        <span class=\"sr-only\">Watch the trailer for Hellbender</span>\\r\\n      </button>\\r\\n    \\r\\n    <div slot=\"caption\" data-track=\"scores\" data-qa=\"discovery-media-list-item-caption\">\\r\\n        <score-pairs\\r\\n            audiencesentiment=\"negative\"\\r\\n            audiencescore=\"56\"\\r\\n            criticssentiment=\"positive\"\\r\\n            criticsscore=\"97\"\\r\\n            criticscertified=\"criticscertified\"\\r\\n        >\\r\\n        </score-pairs>\\r\\n        <span class=\"p--small\" data-qa=\"discovery-media-list-item-title\">\\r\\n            Hellbender\\r\\n        </span>\\r\\n        \\r\\n          <span class=\"smaller\" data-qa=\"discovery-media-list-item-start-date\">\\r\\n            Streaming Feb 24, 2022 \\r\\n          </span>\\r\\n        \\r\\n    </div>\\r\\n  </tile-dynamic>\\r\\n</a>\\r\\n\\r\\n\\r\\n\\r\\n\\r\\n        \\r\\n            <a \\r\\n  class=\"js-tile-link\" \\r\\n  href=\"/m/knives_out\" \\r\\n  data-id=\"8a363780-1f11-340c-8ecb-cf0487ff47f2\" \\r\\n  data-qa=\"discovery-media-list-item\">\\r\\n\\r\\n  <tile-dynamic skeleton=\"panel\" isvideo=\"true\">\\r\\n    <img\\r\\n        alt=\"Knives Out\"\\r\\n        class=\"posterImage\"\\r\\n        loading=\"lazy\"\\r\\n        slot=\"image\"\\r\\n        src=\"https://resizing.flixster.com/Iu3qp_DzJPCc7IpQwVtHYadPUQY=/180x258/v2/https://resizing.flixster.com/9siv752L7VqwwTJVHg1KENr6wlU=/ems.cHJkLWVtcy1hc3NldHMvbW92aWVzLzhmNTdjMmU2LTczODctNDUzOS05ODhjLWU0MDRhY2M4ZjMxMy53ZWJw\"\\r\\n    />\\r\\n    \\r\\n      <button \\r\\n        class=\"transparent\" \\r\\n        slot=\"imageAction\" \\r\\n        \\r\\n          data-video-player-overlay-url=\"https://player.theplatform.com/p/NGweTC/pdk6_y__7B0iQTi4P/embed/select/media/AdLF2zYUJHSU\"\\r\\n          data-video-player-overlay-media-url=\"/m/knives_out\"\\r\\n        \\r\\n      >\\r\\n        <span class=\"sr-only\">Watch the trailer for Knives Out</span>\\r\\n      </button>\\r\\n    \\r\\n    <div slot=\"caption\" data-track=\"scores\" data-qa=\"discovery-media-list-item-caption\">\\r\\n        <score-pairs\\r\\n            audiencesentiment=\"positive\"\\r\\n            audiencescore=\"92\"\\r\\n            criticssentiment=\"positive\"\\r\\n            criticsscore=\"97\"\\r\\n            criticscertified=\"criticscertified\"\\r\\n        >\\r\\n        </score-pairs>\\r\\n        <span class=\"p--small\" data-qa=\"discovery-media-list-item-title\">\\r\\n            Knives Out\\r\\n        </span>\\r\\n        \\r\\n          <span class=\"smaller\" data-qa=\"discovery-media-list-item-start-date\">\\r\\n            Streaming Jun 12, 2020 \\r\\n          </span>\\r\\n        \\r\\n    </div>\\r\\n  </tile-dynamic>\\r\\n</a>\\r\\n\\r\\n\\r\\n\\r\\n\\r\\n        \\r\\n            <a \\r\\n  class=\"js-tile-link\" \\r\\n  href=\"/m/the_wonder_2022\" \\r\\n  data-id=\"57a179be-4652-40ae-bcea-55f06650373b\" \\r\\n  data-qa=\"discovery-media-list-item\">\\r\\n\\r\\n  <tile-dynamic skeleton=\"panel\" isvideo=\"true\">\\r\\n    <img\\r\\n        alt=\"The Wonder\"\\r\\n        class=\"posterImage\"\\r\\n        loading=\"lazy\"\\r\\n        slot=\"image\"\\r\\n        src=\"https://resizing.flixster.com/jbaGDpX3cKCpeoYEDAqFzMFFgAQ=/180x258/v2/https://resizing.flixster.com/qNgYL7ZczPf4k6U1L40bTT2Ba6w=/ems.cHJkLWVtcy1hc3NldHMvbW92aWVzLzBjNTUyNzhjLTIyNjEtNGZhNy1hNDY2LTJjMjY3MzExZDVjMi5qcGc=\"\\r\\n    />\\r\\n    \\r\\n      <button \\r\\n        class=\"transparent\" \\r\\n        slot=\"imageAction\" \\r\\n        \\r\\n          data-video-player-overlay-url=\"https://player.theplatform.com/p/NGweTC/pdk6_y__7B0iQTi4P/embed/select/media/8onXMF_9p9yf\"\\r\\n          data-video-player-overlay-media-url=\"/m/the_wonder_2022\"\\r\\n        \\r\\n      >\\r\\n        <span class=\"sr-only\">Watch the trailer for The Wonder</span>\\r\\n      </button>\\r\\n    \\r\\n    <div slot=\"caption\" data-track=\"scores\" data-qa=\"discovery-media-list-item-caption\">\\r\\n        <score-pairs\\r\\n            audiencesentiment=\"positive\"\\r\\n            audiencescore=\"73\"\\r\\n            criticssentiment=\"positive\"\\r\\n            criticsscore=\"87\"\\r\\n            criticscertified=\"criticscertified\"\\r\\n        >\\r\\n        </score-pairs>\\r\\n        <span class=\"p--small\" data-qa=\"discovery-media-list-item-title\">\\r\\n            The Wonder\\r\\n        </span>\\r\\n        \\r\\n          <span class=\"smaller\" data-qa=\"discovery-media-list-item-start-date\">\\r\\n            Streaming Nov 16, 2022 \\r\\n          </span>\\r\\n        \\r\\n    </div>\\r\\n  </tile-dynamic>\\r\\n</a>\\r\\n\\r\\n\\r\\n\\r\\n\\r\\n        \\r\\n            <a \\r\\n  class=\"js-tile-link\" \\r\\n  href=\"/m/all_quiet_on_the_western_front_2022\" \\r\\n  data-id=\"5911bdca-999f-4f3f-a17e-f3f7245b16b8\" \\r\\n  data-qa=\"discovery-media-list-item\">\\r\\n\\r\\n  <tile-dynamic skeleton=\"panel\" isvideo=\"true\">\\r\\n    <img\\r\\n        alt=\"All Quiet on the Western Front\"\\r\\n        class=\"posterImage\"\\r\\n        loading=\"lazy\"\\r\\n        slot=\"image\"\\r\\n        src=\"https://resizing.flixster.com/23LHxfziaVb6n9imP-2Q9KnlK5E=/180x258/v2/https://resizing.flixster.com/Tv-nj_XzcvU5GZthFm-0xrSvvjo=/ems.cHJkLWVtcy1hc3NldHMvbW92aWVzLzljM2U3Mjk3LWExNzgtNGE2NS05OTMxLWVlZmU1NzNlZWM5MS5qcGc=\"\\r\\n    />\\r\\n    \\r\\n      <button \\r\\n        class=\"transparent\" \\r\\n        slot=\"imageAction\" \\r\\n        \\r\\n          data-video-player-overlay-url=\"https://player.theplatform.com/p/NGweTC/pdk6_y__7B0iQTi4P/embed/select/media/A5ylyqaZF0UL\"\\r\\n          data-video-player-overlay-media-url=\"/m/all_quiet_on_the_western_front_2022\"\\r\\n        \\r\\n      >\\r\\n        <span class=\"sr-only\">Watch the trailer for All Quiet on the Western Front</span>\\r\\n      </button>\\r\\n    \\r\\n    <div slot=\"caption\" data-track=\"scores\" data-qa=\"discovery-media-list-item-caption\">\\r\\n        <score-pairs\\r\\n            audiencesentiment=\"positive\"\\r\\n            audiencescore=\"90\"\\r\\n            criticssentiment=\"positive\"\\r\\n            criticsscore=\"92\"\\r\\n            criticscertified=\"criticscertified\"\\r\\n        >\\r\\n        </score-pairs>\\r\\n        <span class=\"p--small\" data-qa=\"discovery-media-list-item-title\">\\r\\n            All Quiet on the Western Front\\r\\n        </span>\\r\\n        \\r\\n          <span class=\"smaller\" data-qa=\"discovery-media-list-item-start-date\">\\r\\n            Streaming Oct 28, 2022 \\r\\n          </span>\\r\\n        \\r\\n    </div>\\r\\n  </tile-dynamic>\\r\\n</a>\\r\\n\\r\\n\\r\\n\\r\\n\\r\\n        \\r\\n            <a \\r\\n  class=\"js-tile-link\" \\r\\n  href=\"/m/the_innocents_2022\" \\r\\n  data-id=\"b1444013-92e0-333a-a377-1bc8d3eeffec\" \\r\\n  data-qa=\"discovery-media-list-item\">\\r\\n\\r\\n  <tile-dynamic skeleton=\"panel\" isvideo=\"true\">\\r\\n    <img\\r\\n        alt=\"The Innocents\"\\r\\n        class=\"posterImage\"\\r\\n        loading=\"lazy\"\\r\\n        slot=\"image\"\\r\\n        src=\"https://resizing.flixster.com/3pvQEbVCHQL9fEibfJc-0QNDEwI=/180x258/v2/https://resizing.flixster.com/pzEH03_uZD07e512pw3H76yU4Pg=/ems.cHJkLWVtcy1hc3NldHMvbW92aWVzLzJhZTQ4ZTA1LWZkZDctNGE3Yy05OGVhLTMxZjU5MzFlNzYzNy5wbmc=\"\\r\\n    />\\r\\n    \\r\\n      <button \\r\\n        class=\"transparent\" \\r\\n        slot=\"imageAction\" \\r\\n        \\r\\n          data-video-player-overlay-url=\"https://player.theplatform.com/p/NGweTC/pdk6_y__7B0iQTi4P/embed/select/media/g96nIOtUtKTI\"\\r\\n          data-video-player-overlay-media-url=\"/m/the_innocents_2022\"\\r\\n        \\r\\n      >\\r\\n        <span class=\"sr-only\">Watch the trailer for The Innocents</span>\\r\\n      </button>\\r\\n    \\r\\n    <div slot=\"caption\" data-track=\"scores\" data-qa=\"discovery-media-list-item-caption\">\\r\\n        <score-pairs\\r\\n            audiencesentiment=\"positive\"\\r\\n            audiencescore=\"73\"\\r\\n            criticssentiment=\"positive\"\\r\\n            criticsscore=\"96\"\\r\\n            criticscertified=\"criticscertified\"\\r\\n        >\\r\\n        </score-pairs>\\r\\n        <span class=\"p--small\" data-qa=\"discovery-media-list-item-title\">\\r\\n            The Innocents\\r\\n        </span>\\r\\n        \\r\\n          <span class=\"smaller\" data-qa=\"discovery-media-list-item-start-date\">\\r\\n            Streaming May 13, 2022 \\r\\n          </span>\\r\\n        \\r\\n    </div>\\r\\n  </tile-dynamic>\\r\\n</a>\\r\\n\\r\\n\\r\\n\\r\\n\\r\\n        \\r\\n            <a \\r\\n  class=\"js-tile-link\" \\r\\n  href=\"/m/smile_2022\" \\r\\n  data-id=\"809e1312-04ea-46f7-9d06-07ea43d3812d\" \\r\\n  data-qa=\"discovery-media-list-item\">\\r\\n\\r\\n  <tile-dynamic skeleton=\"panel\" isvideo=\"true\">\\r\\n    <img\\r\\n        alt=\"Smile\"\\r\\n        class=\"posterImage\"\\r\\n        loading=\"lazy\"\\r\\n        slot=\"image\"\\r\\n        src=\"https://resizing.flixster.com/jqM--MZEccdjjWAYg-8gIyK51YI=/180x258/v2/https://resizing.flixster.com/6Ce6e_0XkidJuYJN0kCXykPDezo=/ems.cHJkLWVtcy1hc3NldHMvbW92aWVzL2M2ODA3YzkwLWYyM2MtNGFhYS04MGViLTYzN2ZhYWIyYmU1Yi5qcGc=\"\\r\\n    />\\r\\n    \\r\\n      <button \\r\\n        class=\"transparent\" \\r\\n        slot=\"imageAction\" \\r\\n        \\r\\n          data-video-player-overlay-url=\"https://player.theplatform.com/p/NGweTC/pdk6_y__7B0iQTi4P/embed/select/media/MePAWPWGYXWQ\"\\r\\n          data-video-player-overlay-media-url=\"/m/smile_2022\"\\r\\n        \\r\\n      >\\r\\n        <span class=\"sr-only\">Watch the trailer for Smile</span>\\r\\n      </button>\\r\\n    \\r\\n    <div slot=\"caption\" data-track=\"scores\" data-qa=\"discovery-media-list-item-caption\">\\r\\n        <score-pairs\\r\\n            audiencesentiment=\"positive\"\\r\\n            audiencescore=\"77\"\\r\\n            criticssentiment=\"positive\"\\r\\n            criticsscore=\"80\"\\r\\n            criticscertified=\"criticscertified\"\\r\\n        >\\r\\n        </score-pairs>\\r\\n        <span class=\"p--small\" data-qa=\"discovery-media-list-item-title\">\\r\\n            Smile\\r\\n        </span>\\r\\n        \\r\\n          <span class=\"smaller\" data-qa=\"discovery-media-list-item-start-date\">\\r\\n            Streaming Nov 15, 2022 \\r\\n          </span>\\r\\n        \\r\\n    </div>\\r\\n  </tile-dynamic>\\r\\n</a>\\r\\n\\r\\n\\r\\n\\r\\n\\r\\n        \\r\\n            <a \\r\\n  class=\"js-tile-link\" \\r\\n  href=\"/m/1209933-puss_in_boots\" \\r\\n  data-id=\"cdd96ba1-f962-3524-85b3-0b6d07653be3\" \\r\\n  data-qa=\"discovery-media-list-item\">\\r\\n\\r\\n  <tile-dynamic skeleton=\"panel\" isvideo=\"true\">\\r\\n    <img\\r\\n        alt=\"Puss in Boots\"\\r\\n        class=\"posterImage\"\\r\\n        loading=\"lazy\"\\r\\n        slot=\"image\"\\r\\n        src=\"https://resizing.flixster.com/rjg6NTKGnZ_m7pCONPGnFVPbmBE=/180x258/v2/https://flxt.tmsimg.com/NowShowing/105384/105384_aa.jpg\"\\r\\n    />\\r\\n    \\r\\n      <button \\r\\n        class=\"transparent\" \\r\\n        slot=\"imageAction\" \\r\\n        \\r\\n          data-video-player-overlay-url=\"https://player.theplatform.com/p/NGweTC/pdk6_y__7B0iQTi4P/embed/select/media/5czW21CwN33B\"\\r\\n          data-video-player-overlay-media-url=\"/m/1209933-puss_in_boots\"\\r\\n        \\r\\n      >\\r\\n        <span class=\"sr-only\">Watch the trailer for Puss in Boots</span>\\r\\n      </button>\\r\\n    \\r\\n    <div slot=\"caption\" data-track=\"scores\" data-qa=\"discovery-media-list-item-caption\">\\r\\n        <score-pairs\\r\\n            audiencesentiment=\"positive\"\\r\\n            audiencescore=\"68\"\\r\\n            criticssentiment=\"positive\"\\r\\n            criticsscore=\"86\"\\r\\n            criticscertified=\"criticscertified\"\\r\\n        >\\r\\n        </score-pairs>\\r\\n        <span class=\"p--small\" data-qa=\"discovery-media-list-item-title\">\\r\\n            Puss in Boots\\r\\n        </span>\\r\\n        \\r\\n          <span class=\"smaller\" data-qa=\"discovery-media-list-item-start-date\">\\r\\n            Streaming Nov 25, 2015 \\r\\n          </span>\\r\\n        \\r\\n    </div>\\r\\n  </tile-dynamic>\\r\\n</a>\\r\\n\\r\\n\\r\\n\\r\\n\\r\\n        \\r\\n            <a \\r\\n  class=\"js-tile-link\" \\r\\n  href=\"/m/the_northman\" \\r\\n  data-id=\"331878af-b880-421f-aaa3-a43f78697721\" \\r\\n  data-qa=\"discovery-media-list-item\">\\r\\n\\r\\n  <tile-dynamic skeleton=\"panel\" isvideo=\"true\">\\r\\n    <img\\r\\n        alt=\"The Northman\"\\r\\n        class=\"posterImage\"\\r\\n        loading=\"lazy\"\\r\\n        slot=\"image\"\\r\\n        src=\"https://resizing.flixster.com/zIkbVkN5bQvl5gF2br-TeBMGxHM=/180x258/v2/https://resizing.flixster.com/xqdmTbHQwYWwsybacb-L96GdF1M=/ems.cHJkLWVtcy1hc3NldHMvbW92aWVzLzNhNmY3YTRmLTMzNTMtNDAxOS04ZGEwLWMyNzRmNmI4Y2NlOC5qcGc=\"\\r\\n    />\\r\\n    \\r\\n      <button \\r\\n        class=\"transparent\" \\r\\n        slot=\"imageAction\" \\r\\n        \\r\\n          data-video-player-overlay-url=\"https://player.theplatform.com/p/NGweTC/pdk6_y__7B0iQTi4P/embed/select/media/dS09VkXsDka2\"\\r\\n          data-video-player-overlay-media-url=\"/m/the_northman\"\\r\\n        \\r\\n      >\\r\\n        <span class=\"sr-only\">Watch the trailer for The Northman</span>\\r\\n      </button>\\r\\n    \\r\\n    <div slot=\"caption\" data-track=\"scores\" data-qa=\"discovery-media-list-item-caption\">\\r\\n        <score-pairs\\r\\n            audiencesentiment=\"positive\"\\r\\n            audiencescore=\"64\"\\r\\n            criticssentiment=\"positive\"\\r\\n            criticsscore=\"89\"\\r\\n            criticscertified=\"criticscertified\"\\r\\n        >\\r\\n        </score-pairs>\\r\\n        <span class=\"p--small\" data-qa=\"discovery-media-list-item-title\">\\r\\n            The Northman\\r\\n        </span>\\r\\n        \\r\\n          <span class=\"smaller\" data-qa=\"discovery-media-list-item-start-date\">\\r\\n            Streaming May 13, 2022 \\r\\n          </span>\\r\\n        \\r\\n    </div>\\r\\n  </tile-dynamic>\\r\\n</a>\\r\\n\\r\\n\\r\\n\\r\\n\\r\\n        \\r\\n            <a \\r\\n  class=\"js-tile-link\" \\r\\n  href=\"/m/hereditary\" \\r\\n  data-id=\"14e2fd18-c40e-329f-8d0a-15137ca7e85c\" \\r\\n  data-qa=\"discovery-media-list-item\">\\r\\n\\r\\n  <tile-dynamic skeleton=\"panel\" isvideo=\"true\">\\r\\n    <img\\r\\n        alt=\"Hereditary\"\\r\\n        class=\"posterImage\"\\r\\n        loading=\"lazy\"\\r\\n        slot=\"image\"\\r\\n        src=\"https://resizing.flixster.com/rWaijuY3qKTEMwAMRvJKO3sILkw=/180x258/v2/https://resizing.flixster.com/lL6dYMMSqVqDTaPgas1mzRy3bSw=/ems.cHJkLWVtcy1hc3NldHMvbW92aWVzL2NmNjIyZjE1LWI4ZTctNDhhNy1hMTdiLTMwY2QyODRhNjJiNy53ZWJw\"\\r\\n    />\\r\\n    \\r\\n      <button \\r\\n        class=\"transparent\" \\r\\n        slot=\"imageAction\" \\r\\n        \\r\\n          data-video-player-overlay-url=\"https://player.theplatform.com/p/NGweTC/pdk6_y__7B0iQTi4P/embed/select/media/lCsQRzCrBnqt\"\\r\\n          data-video-player-overlay-media-url=\"/m/hereditary\"\\r\\n        \\r\\n      >\\r\\n        <span class=\"sr-only\">Watch the trailer for Hereditary</span>\\r\\n      </button>\\r\\n    \\r\\n    <div slot=\"caption\" data-track=\"scores\" data-qa=\"discovery-media-list-item-caption\">\\r\\n        <score-pairs\\r\\n            audiencesentiment=\"positive\"\\r\\n            audiencescore=\"69\"\\r\\n            criticssentiment=\"positive\"\\r\\n            criticsscore=\"90\"\\r\\n            criticscertified=\"criticscertified\"\\r\\n        >\\r\\n        </score-pairs>\\r\\n        <span class=\"p--small\" data-qa=\"discovery-media-list-item-title\">\\r\\n            Hereditary\\r\\n        </span>\\r\\n        \\r\\n          <span class=\"smaller\" data-qa=\"discovery-media-list-item-start-date\">\\r\\n            Streaming Aug 21, 2018 \\r\\n          </span>\\r\\n        \\r\\n    </div>\\r\\n  </tile-dynamic>\\r\\n</a>\\r\\n\\r\\n\\r\\n\\r\\n\\r\\n        \\r\\n            <a \\r\\n  class=\"js-tile-link\" \\r\\n  href=\"/m/she_said\" \\r\\n  data-id=\"2900cdd3-731a-3be8-ba98-8c5d4e513e7c\" \\r\\n  data-qa=\"discovery-media-list-item\">\\r\\n\\r\\n  <tile-dynamic skeleton=\"panel\" isvideo=\"true\">\\r\\n    <img\\r\\n        alt=\"She Said\"\\r\\n        class=\"posterImage\"\\r\\n        loading=\"lazy\"\\r\\n        slot=\"image\"\\r\\n        src=\"https://resizing.flixster.com/fbxPKwbalbCg9ZUvnU7QF9I3_FU=/180x258/v2/https://resizing.flixster.com/Iph412fBRqDz1ImxKUQwn9iX4jg=/ems.cHJkLWVtcy1hc3NldHMvbW92aWVzL2RjYTA4MTI3LTk1ZTktNDdjYi1hNzUyLTcxY2Y3NjJiOTFhYy5qcGc=\"\\r\\n    />\\r\\n    \\r\\n      <button \\r\\n        class=\"transparent\" \\r\\n        slot=\"imageAction\" \\r\\n        \\r\\n          data-video-player-overlay-url=\"https://player.theplatform.com/p/NGweTC/pdk6_y__7B0iQTi4P/embed/select/media/DNLZdzTiJhZO\"\\r\\n          data-video-player-overlay-media-url=\"/m/she_said\"\\r\\n        \\r\\n      >\\r\\n        <span class=\"sr-only\">Watch the trailer for She Said</span>\\r\\n      </button>\\r\\n    \\r\\n    <div slot=\"caption\" data-track=\"scores\" data-qa=\"discovery-media-list-item-caption\">\\r\\n        <score-pairs\\r\\n            audiencesentiment=\"positive\"\\r\\n            audiencescore=\"91\"\\r\\n            criticssentiment=\"positive\"\\r\\n            criticsscore=\"88\"\\r\\n            criticscertified=\"criticscertified\"\\r\\n        >\\r\\n        </score-pairs>\\r\\n        <span class=\"p--small\" data-qa=\"discovery-media-list-item-title\">\\r\\n            She Said\\r\\n        </span>\\r\\n        \\r\\n          <span class=\"smaller\" data-qa=\"discovery-media-list-item-start-date\">\\r\\n            Streaming Jan 6, 2023 \\r\\n          </span>\\r\\n        \\r\\n    </div>\\r\\n  </tile-dynamic>\\r\\n</a>\\r\\n\\r\\n\\r\\n\\r\\n\\r\\n        \\r\\n            <a \\r\\n  class=\"js-tile-link\" \\r\\n  href=\"/m/the_batman\" \\r\\n  data-id=\"60f1eca0-6a51-3cb2-95b6-3ab959ba6e87\" \\r\\n  data-qa=\"discovery-media-list-item\">\\r\\n\\r\\n  <tile-dynamic skeleton=\"panel\" isvideo=\"true\">\\r\\n    <img\\r\\n        alt=\"The Batman\"\\r\\n        class=\"posterImage\"\\r\\n        loading=\"lazy\"\\r\\n        slot=\"image\"\\r\\n        src=\"https://resizing.flixster.com/BikXRtSCwawHFNqQXx4cBsZ_QC4=/180x258/v2/https://resizing.flixster.com/HUwAlW1QAya1vlIePUDv3kdzhIE=/ems.cHJkLWVtcy1hc3NldHMvbW92aWVzLzc1OGFlMDI0LTE1ZTEtNDE4ZS04Y2RmLWNjYzcyOWQyZmMyNi5qcGc=\"\\r\\n    />\\r\\n    \\r\\n      <button \\r\\n        class=\"transparent\" \\r\\n        slot=\"imageAction\" \\r\\n        \\r\\n          data-video-player-overlay-url=\"https://player.theplatform.com/p/NGweTC/pdk6_y__7B0iQTi4P/embed/select/media/lx9CmrH6IrYj\"\\r\\n          data-video-player-overlay-media-url=\"/m/the_batman\"\\r\\n        \\r\\n      >\\r\\n        <span class=\"sr-only\">Watch the trailer for The Batman</span>\\r\\n      </button>\\r\\n    \\r\\n    <div slot=\"caption\" data-track=\"scores\" data-qa=\"discovery-media-list-item-caption\">\\r\\n        <score-pairs\\r\\n            audiencesentiment=\"positive\"\\r\\n            audiencescore=\"87\"\\r\\n            criticssentiment=\"positive\"\\r\\n            criticsscore=\"85\"\\r\\n            criticscertified=\"criticscertified\"\\r\\n        >\\r\\n        </score-pairs>\\r\\n        <span class=\"p--small\" data-qa=\"discovery-media-list-item-title\">\\r\\n            The Batman\\r\\n        </span>\\r\\n        \\r\\n          <span class=\"smaller\" data-qa=\"discovery-media-list-item-start-date\">\\r\\n            Streaming Apr 19, 2022 \\r\\n          </span>\\r\\n        \\r\\n    </div>\\r\\n  </tile-dynamic>\\r\\n</a>\\r\\n\\r\\n\\r\\n\\r\\n\\r\\n        \\r\\n            <a \\r\\n  class=\"js-tile-link\" \\r\\n  href=\"/m/argentina_1985\" \\r\\n  data-id=\"a2703647-415c-3ba2-8ee2-35cd14795866\" \\r\\n  data-qa=\"discovery-media-list-item\">\\r\\n\\r\\n  <tile-dynamic skeleton=\"panel\" isvideo=\"false\">\\r\\n    <img\\r\\n        alt=\"Argentina, 1985\"\\r\\n        class=\"posterImage\"\\r\\n        loading=\"lazy\"\\r\\n        slot=\"image\"\\r\\n        src=\"https://resizing.flixster.com/H1tK5ldakifLjPaZxIkxiCX9mRM=/180x258/v2/https://resizing.flixster.com/szJdELts6jHjw_8fuZN3OupeZPY=/ems.cHJkLWVtcy1hc3NldHMvbW92aWVzL2M5Y2QyODk1LWNmMmQtNGUwYS1hMTQyLWNjNzhkMGM2NThlNS5qcGc=\"\\r\\n    />\\r\\n    \\r\\n    <div slot=\"caption\" data-track=\"scores\" data-qa=\"discovery-media-list-item-caption\">\\r\\n        <score-pairs\\r\\n            audiencesentiment=\"positive\"\\r\\n            audiencescore=\"94\"\\r\\n            criticssentiment=\"positive\"\\r\\n            criticsscore=\"98\"\\r\\n            criticscertified=\"criticscertified\"\\r\\n        >\\r\\n        </score-pairs>\\r\\n        <span class=\"p--small\" data-qa=\"discovery-media-list-item-title\">\\r\\n            Argentina, 1985\\r\\n        </span>\\r\\n        \\r\\n          <span class=\"smaller\" data-qa=\"discovery-media-list-item-start-date\">\\r\\n            Streaming Oct 21, 2022 \\r\\n          </span>\\r\\n        \\r\\n    </div>\\r\\n  </tile-dynamic>\\r\\n</a>\\r\\n\\r\\n\\r\\n\\r\\n\\r\\n        \\r\\n    </div>\\r\\n</div>\\n            \\n        </div>\\n\\n        <div class=\"discovery__no-results hide\">\\n            <span>No results</span>\\n            <button class=\"discovery-filters__reset\">\\n                Reset Filters\\n            </button>\\n        </div>\\n\\n        <div class=\"discovery__actions\">\\n            <button class=\"hide\">Load more</button>\\n        </div>\\n    </div>\\n\\n    \\n\\n    <overlay-base hidden>\\n        <video-player-overlay bounding=\".discovery-grids-container\" class=\"video-overlay-wrap\" slot=\"content\" data-qa=\"video-overlay\">\\n            <div slot=\"header\">\\n                <button class=\"close-btn rt-icon rt-icon__close\" disabled data-qa=\"video-close-btn\">\\n                    <span class=\"sr-only\">Close video</span>\\n                </button>\\n                <a class=\"cta-btn header-cta button hide\">See Details</a>\\n            </div>\\n\\n            <video-player slot=\"content\" autoplay></video-player>\\n\\n            <a slot=\"footer\" class=\"cta-btn footer-cta button hide\">See Details</a>\\n        </video-player-overlay>\\n    </overlay-base>\\n\\n    \\n\\n                </div>\\n            </main>\\n\\n            \\n    \\n    \\n    <div class=\"sleaderboard_wrapper hidden-xs mobile-hidden\">\\n    <div id=\"leaderboard_bottom_ad\" style=\"margin-left:auto;margin-right:auto;display:inline-block\"> </div>\\n    <script>\\n        var mps = mps||{}; mps._queue = mps._queue||{}; mps._queue.gptloaded = mps._queue.gptloaded||[];\\n        mps._queue.gptloaded.push(function () {\\n            if (mps.getResponsiveSet() != \\'0\\') { //DESKTOP or TABLET\\n                mps.insertAd(\\'#leaderboard_bottom_ad\\',\\'bottombanner\\');\\n            }\\n        });\\n    </script>\\n    </div>\\n\\n\\n            \\n                \\n    \\n        \\n    \\n    \\n    <!--\\n    <c:set var=\"onloadJs\">\\n    if(!$(\"#[skin]_ad\").is(\":visible\")){$(\"body\").removeAttr(\"style\");}\\n    </c:set>\\n     -->\\n    <style>#[skin]_ad { height:0px !important; }</style>\\n    \\n    <div id=\"[skin]_ad\"></div>\\n\\n\\n            \\n\\n            <footer class=\"footer container\">\\n    <div class=\"footer__content-desktop-block\" data-qa=\"footer:section\">\\n        <div class=\"footer__content-group\">\\n            <ul class=\"footer__links-list\">\\n                <li class=\"footer__links-list-item\">\\n                    <a href=\"/help_desk\" data-qa=\"footer:link-helpdesk\">Help</a>\\n                </li>\\n                <li class=\"footer__links-list-item\">\\n                    <a href=\"/about\" data-qa=\"footer:link-about\">About Rotten Tomatoes</a>\\n                </li>\\n                <li class=\"footer__links-list-item\">\\n                    <a href=\"/about#whatisthetomatometer\" data-qa=\"footer:link-whats-tmeter\">What\\'s the Tomatometer<sup>&reg;</sup>?</a>\\n                </li>\\n                <li id=\"footer-feedback\" class=\"footer__links-list-item\">\\n                    \\n                </li>\\n            </ul>\\n        </div>\\n        <div class=\"footer__content-group\">\\n            <ul class=\"footer__links-list\">\\n                <li class=\"footer__links-list-item\">\\n                    <a href=\"/critics/criteria\" data-qa=\"footer:link-critic-submission\">Critic Submission</a>\\n                </li>\\n                <li class=\"footer__links-list-item\">\\n                    <a href=\"/help_desk/licensing\" data-qa=\"footer:link-licensing\">Licensing</a>\\n                </li>\\n                <li class=\"footer__links-list-item\">\\n                    <a href=\"https://together.nbcuni.com/advertise/?utm_source=rotten_tomatoes&amp;utm_medium=referral&amp;utm_campaign=property_ad_pages&amp;utm_content=footer\" target=\"_blank\" data-qa=\"footer:link-ads\">Advertise With Us</a>\\n                </li>\\n                <li class=\"footer__links-list-item\">\\n                    <a href=\"//www.fandango.com/careers\" target=\"_blank\" data-qa=\"footer:link-careers\">Careers</a>\\n                </li>\\n            </ul>\\n        </div>\\n        <div class=\"footer__content-group footer__newsletter-block\">\\n            <p class=\"h3 footer__content-group-title\"><span class=\"rt-icon rt-icon__mail footer__newsletter-icon\"></span>Join The Newsletter</p>\\n            <p class=\"footer__newsletter-copy\">Get the freshest reviews, news, and more delivered right to your inbox!</p>\\n            <button class=\"js-cognito-join-newsletter button footer__newsletter-btn\" data-qa=\"footer:newsletter-btn\">Join The Newsletter</button>\\n            <a href=\"https://optout.services.fandango.com/rottentomatoes\" class=\"button footer__newsletter-btn hide\" data-qa=\"footer:newsletter-btn-signed-in\"><span>Join The Newsletter</span></a>\\n        </div>\\n        <div class=\"footer__content-group footer__social-block\" data-qa=\"footer:social\">\\n            <p class=\"h3 footer__content-group-title\">Follow Us</p>\\n            <ul class=\"footer__links-list list-inline\">\\n                <li class=\"footer__links-list-item\">\\n                    <a href=\"//www.facebook.com/rottentomatoes\" aria-label=\"Facebook\" target=\"_blank\" data-qa=\"footer:social-fb\">\\n                        <rt-icon icon=\"facebook-squared\"></rt-icon>\\n                    </a>\\n                </li>\\n                <li class=\"footer__links-list-item\">\\n                    <a href=\"//twitter.com/rottentomatoes\" aria-label=\"Twitter\" target=\"_blank\" data-qa=\"footer:social-twitter\">\\n                        <rt-icon icon=\"twitter\"></rt-icon>\\n                    </a>\\n                </li>\\n                <li class=\"footer__links-list-item\">\\n                    <a href=\"//www.instagram.com/rottentomatoes/\" aria-label=\"Instagram\" target=\"_blank\" data-qa=\"footer:social-instagram\">\\n                        <rt-icon icon=\"instagram\"></rt-icon>\\n                    </a>\\n                </li>\\n                <li class=\"footer__links-list-item\">\\n                    <a href=\"https://www.pinterest.com/rottentomatoes\" aria-label=\"Pinterest\" target=\"_blank\" data-qa=\"footer:social-pinterest\">\\n                        <rt-icon icon=\"pinterest\"></rt-icon>\\n                    </a>\\n                </li>\\n                <li class=\"footer__links-list-item\">\\n                    <a href=\"//www.youtube.com/user/rottentomatoes\" aria-label=\"YouTube\" target=\"_blank\" data-qa=\"footer:social-yt\">\\n                        <rt-icon icon=\"youtube-play\"></rt-icon>\\n                    </a>\\n                </li>\\n            </ul>\\n        </div>\\n    </div>\\n    <div class=\"footer__content-mobile-block\" data-qa=\"mfooter:section\">\\n        <div class=\"footer__content-group\">\\n            <p class=\"footer__copyright-legal\" data-qa=\"mfooter:copyright\">Copyright &copy; Fandango. All rights reserved.</p>\\n            <button class=\"js-cognito-join-newsletter button footer__newsletter-btn\" data-qa=\"mfooter:newsletter-btn\">Join Newsletter</button>\\n            <a href=\"https://optout.services.fandango.com/rottentomatoes\" class=\"button footer__newsletter-btn hide\" data-qa=\"mfooter:newsletter-btn-signed-in\">Join Newsletter</a>\\n            <ul class=\"footer__links-list list-inline\">\\n                <li class=\"footer__links-list-item\">\\n                    <a href=\"//www.fandango.com/policies/privacy-policy\" target=\"_blank\" data-qa=\"mfooter:link-privacy-policy\">\\n                        Privacy Policy\\n                    </a>\\n                </li>\\n                <li class=\"footer__links-list-item\">\\n                    <a href=\"//www.fandango.com/policies/terms-and-policies\" target=\"_blank\" data-qa=\"mfooter:link-terms-policies\">Terms and Policies</a>\\n                </li>\\n                <li class=\"footer__links-list-item\">\\n                    <img src=\"https://images.fandango.com/cms/assets/266533e0-7afb-11ed-83f2-4f600722b564--privacyoptions.svg\" class=\"footer__ccpa-icon\" loading=\"lazy\" alt=\"CCPA icon\" />\\n                    <!-- OneTrust Cookies Settings button start -->\\n                    <a href=\"javascript:void(0)\" id=\"ot-sdk-btn\" class=\"ot-sdk-show-settings mobile\">Cookie Settings</a>\\n                    <!-- OneTrust Cookies Settings button end -->\\n                </li>\\n                <li class=\"footer__links-list-item\">\\n                    <a href=\"//www.fandango.com/californianotice\" target=\"_blank\" data-qa=\"mfooter:link-california-notice\">California Notice</a>\\n                </li>\\n                <li class=\"footer__links-list-item\">\\n                    <a href=\"//www.fandango.com/policies/cookies-and-tracking#cookie_management\" target=\"_blank\" data-qa=\"mfooter:link-adChoices\">Ad Choices</a>\\n                </li>\\n                <li id=\"footer-feedback-mobile\" class=\"footer__links-list-item\">\\n                    \\n                </li>\\n                <li class=\"footer__links-list-item\">\\n                    <a href=\"/faq#accessibility\" data-qa=\"mfooter:link-accessibility\">Accessibility</a>\\n                </li>\\n            </ul>\\n        </div>\\n    </div>\\n    <div class=\"footer__copyright\">\\n        <ul class=\"footer__links-list list-inline list-inline--separator\" data-qa=\"footer:links-list-privacy\">\\n            <li class=\"footer__links-list-item version\" data-qa=\"footer:version\">\\n                <span>V3.1</span>\\n            </li>\\n            <li class=\"footer__links-list-item\">\\n                <a href=\"//www.fandango.com/policies/privacy-policy\" target=\"_blank\" data-qa=\"footer:link-privacy-policy\">\\n                    Privacy Policy\\n                </a>\\n            </li>\\n            <li class=\"footer__links-list-item\">\\n                <a href=\"//www.fandango.com/policies/terms-and-policies\" target=\"_blank\" data-qa=\"footer:link-terms-policies\">Terms and Policies</a>\\n            </li>\\n            <li class=\"footer__links-list-item\">\\n                <img src=\"https://images.fandango.com/cms/assets/266533e0-7afb-11ed-83f2-4f600722b564--privacyoptions.svg\" class=\"footer__ccpa-icon\" loading=\"lazy\" alt=\"CCPA icon\" />\\n                <!-- OneTrust Cookies Settings button start -->\\n                <a href=\"javascript:void(0)\" id=\"ot-sdk-btn\" class=\"ot-sdk-show-settings\">Cookie Settings</a>\\n                <!-- OneTrust Cookies Settings button end -->\\n            </li>\\n            <li class=\"footer__links-list-item\">\\n                <a href=\"//www.fandango.com/californianotice\" target=\"_blank\" data-qa=\"footer:link-california-notice\">California Notice</a>\\n            </li>\\n            <li class=\"footer__links-list-item\">\\n                <a href=\"//www.fandango.com/policies/cookies-and-tracking#cookie_management\" target=\"_blank\" data-qa=\"footer:link-adChoices\">Ad Choices</a>\\n            </li>\\n            <li class=\"footer__links-list-item\">\\n                <a href=\"/faq#accessibility\" data-qa=\"footer:link-accessibility\">Accessibility</a>\\n            </li>\\n        </ul>\\n        <span class=\"footer__copyright-legal\" data-qa=\"footer:copyright\">Copyright &copy; Fandango. All rights reserved.</span>\\n    </div>\\n</footer>\\n\\n        </div>\\n\\n        <!-- PDK -->\\n        <script src=\"//pdk.theplatform.com/current/pdk/tpPdkController.js\"></script>\\n        <!-- End PDK -->\\n\\n        \\n    \\n        <script type=\"text/javascript\">\\n(function (root) {\\n/* -- Data -- */\\nroot.RottenTomatoes || (root.RottenTomatoes = {});\\nroot.RottenTomatoes.context = {\"_routes\":{\"adminManagePeople\":{\"path\":\"https:\\\\u002F\\\\u002Fadmin.flixster.com\\\\u002Fadmin\\\\u002Fmanage-people?id=:id\",\"tokens\":[{\"literal\":\"https:\\\\u002F\\\\u002Fadmin.flixster.com\\\\u002Fadmin\\\\u002Fmanage-people?id=\"},{\"key\":\"id\"}]},\"adminMerge\":{\"path\":\"https:\\\\u002F\\\\u002Fadmin.flixster.com\\\\u002Factor\\\\u002Fmerge?from=:id\",\"tokens\":[{\"literal\":\"https:\\\\u002F\\\\u002Fadmin.flixster.com\\\\u002Factor\\\\u002Fmerge?from=\"},{\"key\":\"id\"}]},\"baseCanonicalUrl\":{\"path\":\"https:\\\\u002F\\\\u002Fwww.rottentomatoes.com\",\"tokens\":[{\"literal\":\"https:\\\\u002F\\\\u002Fwww.rottentomatoes.com\"}]},\"webCriticSourceReviewsNapi\":{\"path\":\"\\\\u002Fnapi\\\\u002Fcritics\\\\u002Fsource\\\\u002F:publicationId\\\\u002F:type(movies|tv)\",\"tokens\":[{\"literal\":\"\\\\u002Fnapi\\\\u002Fcritics\\\\u002Fsource\\\\u002F\"},{\"key\":\"publicationId\"},{\"literal\":\"\\\\u002F\"},{\"key\":\"type\"}]},\"editorialPageCodeOfConduct\":{\"path\":\"https:\\\\u002F\\\\u002Feditorial.rottentomatoes.com\\\\u002Fotg-article\\\\u002Fcommunity-code-of-conduct\",\"tokens\":[{\"literal\":\"https:\\\\u002F\\\\u002Feditorial.rottentomatoes.com\\\\u002Fotg-article\\\\u002Fcommunity-code-of-conduct\"}]},\"editorialPageProductBlog\":{\"path\":\"https:\\\\u002F\\\\u002Feditorial.rottentomatoes.com\\\\u002Frt-product-blog\",\"tokens\":[{\"literal\":\"https:\\\\u002F\\\\u002Feditorial.rottentomatoes.com\\\\u002Frt-product-blog\"}]},\"flixsterGeoLocationApi\":{\"path\":\"https:\\\\u002F\\\\u002Fapi.flixster.com\\\\u002Fticketing\\\\u002Fapi\\\\u002Fv1\\\\u002Fgeoip\",\"tokens\":[{\"literal\":\"https:\\\\u002F\\\\u002Fapi.flixster.com\\\\u002Fticketing\\\\u002Fapi\\\\u002Fv1\\\\u002Fgeoip\"}]},\"commonAutocompleteNapi\":{\"path\":\"\\\\u002Fnapi\\\\u002Flocation\\\\u002Fautocomplete\\\\u002F:text\",\"tokens\":[{\"literal\":\"\\\\u002Fnapi\\\\u002Flocation\\\\u002Fautocomplete\\\\u002F\"},{\"key\":\"text\"}]},\"commonGetLocationFromTextNapi\":{\"path\":\"\\\\u002Fnapi\\\\u002Flocation\\\\u002Ftext\",\"tokens\":[{\"literal\":\"\\\\u002Fnapi\\\\u002Flocation\\\\u002Ftext\"}]},\"webMovieReviewsGetAudienceReviewNapi\":{\"path\":\"\\\\u002Fnapi\\\\u002Fmovie\\\\u002F:movieId\\\\u002Freviews\\\\u002F:type(user|verified_audience)\",\"tokens\":[{\"literal\":\"\\\\u002Fnapi\\\\u002Fmovie\\\\u002F\"},{\"key\":\"movieId\"},{\"literal\":\"\\\\u002Freviews\\\\u002F\"},{\"key\":\"type\"}]},\"webMovieReviewsGetCriticsReviewNapi\":{\"path\":\"\\\\u002Fnapi\\\\u002Fmovie\\\\u002F:movieId\\\\u002FcriticsReviews\\\\u002F:type(all|top_critics)\\\\u002F:sort?\",\"tokens\":[{\"literal\":\"\\\\u002Fnapi\\\\u002Fmovie\\\\u002F\"},{\"key\":\"movieId\"},{\"literal\":\"\\\\u002FcriticsReviews\\\\u002F\"},{\"key\":\"type\"},{\"literal\":\"\\\\u002F\"},{\"key\":\"sort\"},{\"literal\":\"?\"}]},\"commonTrackingFreewheelPixelSyncNapi\":{\"path\":\"\\\\u002Fnapi\\\\u002Ftracking\\\\u002Ffreewheel\\\\u002Fpixelsync\",\"tokens\":[{\"literal\":\"\\\\u002Fnapi\\\\u002Ftracking\\\\u002Ffreewheel\\\\u002Fpixelsync\"}]},\"webTvEpisodeGetReviewsNapi\":{\"path\":\"\\\\u002Fnapi\\\\u002Ftv\\\\u002F:vanity\\\\u002F:tvSeason\\\\u002F:tvEpisode\\\\u002Freviews\\\\u002F:type(all|top_critics)\",\"tokens\":[{\"literal\":\"\\\\u002Fnapi\\\\u002Ftv\\\\u002F\"},{\"key\":\"vanity\"},{\"literal\":\"\\\\u002F\"},{\"key\":\"tvSeason\"},{\"literal\":\"\\\\u002F\"},{\"key\":\"tvEpisode\"},{\"literal\":\"\\\\u002Freviews\\\\u002F\"},{\"key\":\"type\"}]},\"webSeasonReviewsGetReviewsNapi\":{\"path\":\"\\\\u002Fnapi\\\\u002FseasonReviews\\\\u002F:id\",\"tokens\":[{\"literal\":\"\\\\u002Fnapi\\\\u002FseasonReviews\\\\u002F\"},{\"key\":\"id\"}]},\"webTvSeasonGetEpisodesNapi\":{\"path\":\"\\\\u002Fnapi\\\\u002Ftv\\\\u002F:vanity\\\\u002F:tvSeason\\\\u002Fepisodes\",\"tokens\":[{\"literal\":\"\\\\u002Fnapi\\\\u002Ftv\\\\u002F\"},{\"key\":\"vanity\"},{\"literal\":\"\\\\u002F\"},{\"key\":\"tvSeason\"},{\"literal\":\"\\\\u002Fepisodes\"}]},\"commonUserWTSCreateNapi\":{\"path\":\"\\\\u002Fnapi\\\\u002Fuser\\\\u002Fwts\",\"tokens\":[{\"literal\":\"\\\\u002Fnapi\\\\u002Fuser\\\\u002Fwts\"}]},\"commonUserWTSDeleteNapi\":{\"path\":\"\\\\u002Fnapi\\\\u002Fuser\\\\u002Fwts\\\\u002Fdelete\",\"tokens\":[{\"literal\":\"\\\\u002Fnapi\\\\u002Fuser\\\\u002Fwts\\\\u002Fdelete\"}]},\"commonUserRatingCreateNapi\":{\"path\":\"\\\\u002Fnapi\\\\u002Fuser\\\\u002Frating\",\"tokens\":[{\"literal\":\"\\\\u002Fnapi\\\\u002Fuser\\\\u002Frating\"}]},\"commonUserGetWTSNapi\":{\"path\":\"\\\\u002Fnapi\\\\u002Fuser\\\\u002Fwts\",\"tokens\":[{\"literal\":\"\\\\u002Fnapi\\\\u002Fuser\\\\u002Fwts\"}]},\"commonUserGetRatingNapi\":{\"path\":\"\\\\u002Fnapi\\\\u002Fuser\\\\u002Frating\",\"tokens\":[{\"literal\":\"\\\\u002Fnapi\\\\u002Fuser\\\\u002Frating\"}]},\"webUserProfileMovieRatingsNapi\":{\"path\":\"\\\\u002Fnapi\\\\u002FuserProfile\\\\u002FmovieRatings\\\\u002F:userId\",\"tokens\":[{\"literal\":\"\\\\u002Fnapi\\\\u002FuserProfile\\\\u002FmovieRatings\\\\u002F\"},{\"key\":\"userId\"}]},\"webUserProfileTVRatingsNapi\":{\"path\":\"\\\\u002Fnapi\\\\u002FuserProfile\\\\u002FtvRatings\\\\u002F:userId\",\"tokens\":[{\"literal\":\"\\\\u002Fnapi\\\\u002FuserProfile\\\\u002FtvRatings\\\\u002F\"},{\"key\":\"userId\"}]},\"webUserProfileWTSNapi\":{\"path\":\"\\\\u002Fnapi\\\\u002FuserProfile\\\\u002Fwts\\\\u002F:userId\",\"tokens\":[{\"literal\":\"\\\\u002Fnapi\\\\u002FuserProfile\\\\u002Fwts\\\\u002F\"},{\"key\":\"userId\"}]},\"mediaHoundRecommendations\":{\"path\":\"https:\\\\u002F\\\\u002Fapi.mediahound.net\\\\u002Fgraph\\\\u002Frelate\",\"tokens\":[{\"literal\":\"https:\\\\u002F\\\\u002Fapi.mediahound.net\\\\u002Fgraph\\\\u002Frelate\"}]},\"resetClient\":{\"path\":\"\\\\u002Freset-client\",\"tokens\":[{\"literal\":\"\\\\u002Freset-client\"}]},\"tvSeasonCriticAddArticle\":{\"path\":\"https:\\\\u002F\\\\u002Fwww.rottentomatoes.com\\\\u002Fcritics\\\\u002Ftools\\\\u002Ftv\\\\u002F?reviewableId=:seasonId\",\"tokens\":[{\"literal\":\"https:\\\\u002F\\\\u002Fwww.rottentomatoes.com\\\\u002Fcritics\\\\u002Ftools\\\\u002Ftv\\\\u002F?reviewableId=\"},{\"key\":\"seasonId\"}]},\"userAccount\":{\"path\":\"\\\\u002Fuser\\\\u002Faccount\",\"tokens\":[{\"literal\":\"\\\\u002Fuser\\\\u002Faccount\"}]},\"userAccountEmailPrefs\":{\"path\":\"https:\\\\u002F\\\\u002Foptout.services.fandango.com\\\\u002Frottentomatoes\",\"tokens\":[{\"literal\":\"https:\\\\u002F\\\\u002Foptout.services.fandango.com\\\\u002Frottentomatoes\"}]},\"redirectorTheatersTopBoxOffice\":{\"path\":\"\\\\u002Fbrowse\\\\u002Fin-theaters\",\"tokens\":[{\"literal\":\"\\\\u002Fbrowse\\\\u002Fin-theaters\"}]},\"webCritic\":{\"path\":\"\\\\u002Fcritics\\\\u002F:vanity\\\\u002F:type(movies|tv)\",\"tokens\":[{\"literal\":\"\\\\u002Fcritics\\\\u002F\"},{\"key\":\"vanity\"},{\"literal\":\"\\\\u002F\"},{\"key\":\"type\"}]},\"webCriticLanding\":{\"path\":\"\\\\u002Fcritics\\\\u002F:vanity\",\"tokens\":[{\"literal\":\"\\\\u002Fcritics\\\\u002F\"},{\"key\":\"vanity\"}]},\"webSearchResults\":{\"path\":\"\\\\u002Fsearch\\\\u002F\",\"tokens\":[{\"literal\":\"\\\\u002Fsearch\\\\u002F\"}]},\"webShowtimes\":{\"path\":\"\\\\u002F\\\\u002Fwww.fandango.com\\\\u002Fmovies-in-theaters\",\"tokens\":[{\"literal\":\"\\\\u002F\\\\u002Fwww.fandango.com\\\\u002Fmovies-in-theaters\"}]},\"webCriticSource\":{\"path\":\"\\\\u002Fcritics\\\\u002Fsource\\\\u002F:publicationId\",\"tokens\":[{\"literal\":\"\\\\u002Fcritics\\\\u002Fsource\\\\u002F\"},{\"key\":\"publicationId\"}]}}};\\nroot.RottenTomatoes.context || (root.RottenTomatoes.context = {});\\nroot.RottenTomatoes.context.layout = {\"header\":{\"editorial\":{\"bestAndWorstNews\":[{\"ID\":77012,\"author\":20,\"featured_image\":{\"source\":\"https:\\\\u002F\\\\u002Fprd-rteditorial.s3.us-west-2.amazonaws.com\\\\u002Fwp-content\\\\u002Fuploads\\\\u002F2018\\\\u002F02\\\\u002F14193805\\\\u002FMarvel-Movies-Recall2.jpg\"},\"link\":\"https:\\\\u002F\\\\u002Feditorial.rottentomatoes.com\\\\u002Fguide\\\\u002Fall-marvel-cinematic-universe-movies-ranked\\\\u002F\",\"promo_order\":\"\",\"status\":\"publish\",\"title\":\"Marvel Movies Ranked Worst to Best by Tomatometer\",\"type\":\"article\"},{\"ID\":19933,\"author\":20,\"featured_image\":{\"source\":\"https:\\\\u002F\\\\u002Fprd-rteditorial.s3.us-west-2.amazonaws.com\\\\u002Fwp-content\\\\u002Fuploads\\\\u002F2015\\\\u002F06\\\\u002F19171851\\\\u002FJurassic-Park-Franchise-Recall.jpg\"},\"link\":\"https:\\\\u002F\\\\u002Feditorial.rottentomatoes.com\\\\u002Fguide\\\\u002Fjurassic-park-world-movies\\\\u002F\",\"promo_order\":\"\",\"status\":\"publish\",\"title\":\"\\\\u003Cem\\\\u003EJurassic Park\\\\u003C\\\\u002Fem\\\\u003E Movies Ranked By Tomatometer\",\"type\":\"article\"}],\"guides\":[{\"ID\":229910,\"author\":{\"ID\":7,\"username\":\"RT Staff\",\"name\":\"RT Staff\",\"first_name\":\"RT\",\"last_name\":\"Staff\",\"nickname\":\"RT Staff\",\"slug\":\"rt-staff\",\"URL\":\"http:\\\\u002F\\\\u002Fwww.rottentomatoes.com\",\"avatar\":\"https:\\\\u002F\\\\u002Fsecure.gravatar.com\\\\u002Favatar\\\\u002F1da0327e91516c500afa31e67da2395a?s=96\",\"description\":\"Rotten Tomatoes every day.\",\"registered\":\"2015-05-01T22:36:17+00:00\",\"meta\":{\"links\":{\"self\":\"https:\\\\u002F\\\\u002Feditorial.rottentomatoes.com\\\\u002Fwp-json\\\\u002Fusers\\\\u002F7\",\"archives\":\"https:\\\\u002F\\\\u002Feditorial.rottentomatoes.com\\\\u002Fwp-json\\\\u002Fusers\\\\u002F7\\\\u002Fposts\"}}},\"featured_image\":{\"source\":\"https:\\\\u002F\\\\u002Fprd-rteditorial.s3.us-west-2.amazonaws.com\\\\u002Fwp-content\\\\u002Fuploads\\\\u002F2022\\\\u002F01\\\\u002F12130451\\\\u002F660GTA.jpg\"},\"link\":\"https:\\\\u002F\\\\u002Feditorial.rottentomatoes.com\\\\u002Frt-hub\\\\u002Fgolden-tomato-awards-2022\\\\u002F\",\"status\":\"publish\",\"title\":\"Golden Tomato Awards: Best Movies &#038; TV of 2022\",\"type\":\"rt-hub\"},{\"ID\":140214,\"author\":{\"ID\":12,\"username\":\"alex.vo\",\"name\":\"Alex Vo\",\"first_name\":\"Alex\",\"last_name\":\"Vo\",\"nickname\":\"alex.vo\",\"slug\":\"alex-vo\",\"URL\":\"\",\"avatar\":\"https:\\\\u002F\\\\u002Fsecure.gravatar.com\\\\u002Favatar\\\\u002F818ade2039d2a711e0cd70ae46f14952?s=96\",\"description\":\"\",\"registered\":\"2015-05-12T20:00:23+00:00\",\"meta\":{\"links\":{\"self\":\"https:\\\\u002F\\\\u002Feditorial.rottentomatoes.com\\\\u002Fwp-json\\\\u002Fusers\\\\u002F12\",\"archives\":\"https:\\\\u002F\\\\u002Feditorial.rottentomatoes.com\\\\u002Fwp-json\\\\u002Fusers\\\\u002F12\\\\u002Fposts\"}}},\"featured_image\":{\"source\":\"https:\\\\u002F\\\\u002Fprd-rteditorial.s3.us-west-2.amazonaws.com\\\\u002Fwp-content\\\\u002Fuploads\\\\u002F2022\\\\u002F09\\\\u002F12091739\\\\u002FRT_AwardsTour_Thumbnail_600x314_Gradient.jpg\"},\"link\":\"https:\\\\u002F\\\\u002Feditorial.rottentomatoes.com\\\\u002Frt-hub\\\\u002Fawards-tour\\\\u002F\",\"status\":\"publish\",\"title\":\"Awards Tour\",\"type\":\"rt-hub\"}],\"newsItems\":[{\"ID\":227978,\"author\":814,\"featured_image\":{\"source\":\"https:\\\\u002F\\\\u002Fprd-rteditorial.s3.us-west-2.amazonaws.com\\\\u002Fwp-content\\\\u002Fuploads\\\\u002F2023\\\\u002F01\\\\u002F18142257\\\\u002FTedLasso_304_600x314.jpg\"},\"link\":\"https:\\\\u002F\\\\u002Feditorial.rottentomatoes.com\\\\u002Farticle\\\\u002Ftv-premiere-dates-2023\\\\u002F\",\"promo_order\":\"\",\"status\":\"publish\",\"title\":\"TV Premiere Dates 2023\",\"type\":\"article\"},{\"ID\":231537,\"author\":851,\"featured_image\":{\"source\":\"https:\\\\u002F\\\\u002Fprd-rteditorial.s3.us-west-2.amazonaws.com\\\\u002Fwp-content\\\\u002Fuploads\\\\u002F2023\\\\u002F01\\\\u002F17174920\\\\u002FWTF_Horror_2023-Rep.jpg\"},\"link\":\"https:\\\\u002F\\\\u002Feditorial.rottentomatoes.com\\\\u002Farticle\\\\u002F10-wtf-horror-movies-to-watch-if-you-loved-m3gan\\\\u002F\",\"promo_order\":\"\",\"status\":\"publish\",\"title\":\"10 WTF Horror Movies to Watch if You Loved \\\\u003Cem\\\\u003EM3GAN\\\\u003C\\\\u002Fem\\\\u003E\",\"type\":\"article\"}]},\"trendingTarsSlug\":\"rt-nav-trending\",\"trending\":[{\"header\":\"The Last Of Us\",\"url\":\"https:\\\\u002F\\\\u002Fwww.rottentomatoes.com\\\\u002Ftv\\\\u002Fthe_last_of_us\"},{\"header\":\"M3GAN\",\"url\":\"https:\\\\u002F\\\\u002Fwww.rottentomatoes.com\\\\u002Fm\\\\u002Fm3gan\"},{\"header\":\"That \\'90s Show\",\"url\":\"https:\\\\u002F\\\\u002Fwww.rottentomatoes.com\\\\u002Ftv\\\\u002Fthat_90s_show\\\\u002F\"},{\"header\":\"Velma\",\"url\":\"https:\\\\u002F\\\\u002Fwww.rottentomatoes.com\\\\u002Ftv\\\\u002Fvelma\\\\u002Fs01\"}],\"certifiedMedia\":{\"certifiedFreshTvSeason\":{\"header\":null,\"media\":{\"url\":\"\\\\u002Ftv\\\\u002Fthe_last_of_us\\\\u002Fs01\",\"name\":\"The Last of Us: Season 1\",\"score\":99,\"posterImg\":\"https:\\\\u002F\\\\u002Fresizing.flixster.com\\\\u002FEQwjsJzvAePoD3yc8_F4tnKxepw=\\\\u002Ffit-in\\\\u002F180x240\\\\u002Fv2\\\\u002Fhttps:\\\\u002F\\\\u002Fresizing.flixster.com\\\\u002F1t3h8KAxIMmKUCU09OoqpfqD6R0=\\\\u002Fems.cHJkLWVtcy1hc3NldHMvdHZzZWFzb24vZjU3YTRlYjItOTAzNC00MzFjLTg0NGQtODA1ZGU2OWY1NzY1LmpwZw==\"},\"tarsSlug\":\"rt-nav-list-cf-picks\"},\"certifiedFreshMovieInTheater\":{\"header\":null,\"media\":{\"url\":\"\\\\u002Fm\\\\u002Fm3gan\",\"name\":\"M3GAN\",\"score\":95,\"posterImg\":\"https:\\\\u002F\\\\u002Fresizing.flixster.com\\\\u002FLMbScjDLUzsQLgeeoOF0FAhNcC8=\\\\u002Ffit-in\\\\u002F180x240\\\\u002Fv2\\\\u002Fhttps:\\\\u002F\\\\u002Fresizing.flixster.com\\\\u002FrPJASTXFjLpmiVTi3D6RGcq-skM=\\\\u002Fems.cHJkLWVtcy1hc3NldHMvbW92aWVzLzhjYjA0ODBiLTNlNmUtNDlhOS05ZWRlLThlOGQ2MmEyZjlmYS5qcGc=\"}},\"certifiedFreshMovieInTheater4\":{\"header\":null,\"media\":{\"url\":\"\\\\u002Fm\\\\u002Falcarras\",\"name\":\"Alcarràs\",\"score\":90,\"posterImg\":\"https:\\\\u002F\\\\u002Fresizing.flixster.com\\\\u002FH5I6FWEXKIZcT_qxE0bG-xLomFY=\\\\u002Ffit-in\\\\u002F180x240\\\\u002Fv2\\\\u002Fhttps:\\\\u002F\\\\u002Fresizing.flixster.com\\\\u002FPbbehNpv3rq_TDm3xvFqgqqNo54=\\\\u002Fems.cHJkLWVtcy1hc3NldHMvbW92aWVzLzY5ZTBlNjBmLThiMDMtNGJiMC1hNTViLWRkZDkxZjMwMDcwOC5wbmc=\"}},\"certifiedFreshMovieAtHome\":{\"header\":null,\"media\":{\"url\":\"\\\\u002Fm\\\\u002Fspoiler_alert_2022\",\"name\":\"Spoiler Alert\",\"score\":84,\"posterImg\":\"https:\\\\u002F\\\\u002Fresizing.flixster.com\\\\u002F4ENdWq4-hrE7Sj1qrEDIeizlD5g=\\\\u002Ffit-in\\\\u002F180x240\\\\u002Fv2\\\\u002Fhttps:\\\\u002F\\\\u002Fresizing.flixster.com\\\\u002FS52STbZpNjjH3_XQK2Aks1uJkHc=\\\\u002Fems.cHJkLWVtcy1hc3NldHMvbW92aWVzLzExYmIwOTA1LTY4MzQtNDMzZS1hYzA1LWI3ZmZhNmY4NjczNC5qcGc=\"}},\"tarsSlug\":\"rt-nav-list-cf-picks\"},\"tvLists\":{\"newTvTonight\":{\"tarsSlug\":\"rt-hp-text-list-new-tv-this-week\",\"title\":\"New TV Tonight\",\"shows\":[{\"title\":\"The Last of Us: Season 1\",\"tomatometer\":{\"tomatometer\":99,\"state\":\"certified_fresh\",\"certifiedFresh\":true},\"tvPageUrl\":\"\\\\u002Ftv\\\\u002Fthe_last_of_us\\\\u002Fs01\"},{\"title\":\"That \\'90s Show: Season 1\",\"tomatometer\":{\"tomatometer\":72,\"state\":\"fresh\",\"certifiedFresh\":false},\"tvPageUrl\":\"\\\\u002Ftv\\\\u002Fthat_90s_show\\\\u002Fs01\"},{\"title\":\"Night Court: Season 1\",\"tomatometer\":{\"tomatometer\":70,\"state\":\"fresh\",\"certifiedFresh\":false},\"tvPageUrl\":\"\\\\u002Ftv\\\\u002Fnight_court_2023\\\\u002Fs01\"},{\"title\":\"Murf the Surf: Jewels, Jesus, and Mayhem in the USA: Season 1\",\"tomatometer\":{\"tomatometer\":null,\"state\":\"\",\"certifiedFresh\":false},\"tvPageUrl\":\"\\\\u002Ftv\\\\u002Fmurf_the_surf_jewels_jesus_and_mayhem_in_the_usa\\\\u002Fs01\"},{\"title\":\"Mayor of Kingstown: Season 2\",\"tomatometer\":{\"tomatometer\":33,\"state\":\"rotten\",\"certifiedFresh\":false},\"tvPageUrl\":\"\\\\u002Ftv\\\\u002Fmayor_of_kingstown\\\\u002Fs02\"},{\"title\":\"Godfather of Harlem: Season 3\",\"tomatometer\":{\"tomatometer\":null,\"state\":\"\",\"certifiedFresh\":false},\"tvPageUrl\":\"\\\\u002Ftv\\\\u002Fgodfather_of_harlem\\\\u002Fs03\"},{\"title\":\"Truth Be Told: Season 3\",\"tomatometer\":{\"tomatometer\":null,\"state\":\"\",\"certifiedFresh\":false},\"tvPageUrl\":\"\\\\u002Ftv\\\\u002Ftruth_be_told_2019\\\\u002Fs03\"},{\"title\":\"9-1-1: Lone Star: Season 4\",\"tomatometer\":{\"tomatometer\":null,\"state\":\"\",\"certifiedFresh\":false},\"tvPageUrl\":\"\\\\u002Ftv\\\\u002F9_1_1_lone_star\\\\u002Fs04\"},{\"title\":\"Fauda: Season 4\",\"tomatometer\":{\"tomatometer\":null,\"state\":\"\",\"certifiedFresh\":false},\"tvPageUrl\":\"\\\\u002Ftv\\\\u002Ffauda\\\\u002Fs04\"},{\"title\":\"The Legend of Vox Machina: Season 2\",\"tomatometer\":{\"tomatometer\":100,\"state\":\"fresh\",\"certifiedFresh\":false},\"tvPageUrl\":\"\\\\u002Ftv\\\\u002Fthe_legend_of_vox_machina\\\\u002Fs02\"}]},\"mostPopularTvOnRt\":{\"tarsSlug\":\"rt-hp-text-list-most-popular-tv-on-rt\",\"title\":\"Most Popular TV on RT\",\"shows\":[{\"title\":\"The Last of Us: Season 1\",\"tomatometer\":{\"tomatometer\":99,\"state\":\"certified_fresh\",\"certifiedFresh\":true},\"tvPageUrl\":\"\\\\u002Ftv\\\\u002Fthe_last_of_us\\\\u002Fs01\"},{\"title\":\"Velma: Season 1\",\"tomatometer\":{\"tomatometer\":50,\"state\":\"rotten\",\"certifiedFresh\":false},\"tvPageUrl\":\"\\\\u002Ftv\\\\u002Fvelma\\\\u002Fs01\"},{\"title\":\"Servant: Season 4\",\"tomatometer\":{\"tomatometer\":100,\"state\":\"fresh\",\"certifiedFresh\":false},\"tvPageUrl\":\"\\\\u002Ftv\\\\u002Fservant\\\\u002Fs04\"},{\"title\":\"Mayor of Kingstown: Season 2\",\"tomatometer\":{\"tomatometer\":33,\"state\":\"rotten\",\"certifiedFresh\":false},\"tvPageUrl\":\"\\\\u002Ftv\\\\u002Fmayor_of_kingstown\\\\u002Fs02\"},{\"title\":\"Will Trent: Season 1\",\"tomatometer\":{\"tomatometer\":100,\"state\":\"fresh\",\"certifiedFresh\":false},\"tvPageUrl\":\"\\\\u002Ftv\\\\u002Fwill_trent\\\\u002Fs01\"},{\"title\":\"The White Lotus: Season 2\",\"tomatometer\":{\"tomatometer\":94,\"state\":\"certified_fresh\",\"certifiedFresh\":true},\"tvPageUrl\":\"\\\\u002Ftv\\\\u002Fthe_white_lotus\\\\u002Fs02\"},{\"title\":\"Vikings: Valhalla: Season 2\",\"tomatometer\":{\"tomatometer\":100,\"state\":\"fresh\",\"certifiedFresh\":false},\"tvPageUrl\":\"\\\\u002Ftv\\\\u002Fvikings_valhalla\\\\u002Fs02\"},{\"title\":\"Kaleidoscope: Season 1\",\"tomatometer\":{\"tomatometer\":48,\"state\":\"rotten\",\"certifiedFresh\":false},\"tvPageUrl\":\"\\\\u002Ftv\\\\u002Fkaleidoscope\\\\u002Fs01\"},{\"title\":\"Night Court: Season 1\",\"tomatometer\":{\"tomatometer\":70,\"state\":\"fresh\",\"certifiedFresh\":false},\"tvPageUrl\":\"\\\\u002Ftv\\\\u002Fnight_court_2023\\\\u002Fs01\"}]}},\"legacyItems\":{\"tarsSlug\":\"rt-nav-list-tv-episodic-reviews\",\"tv\":{\"mediaLists\":[{},{},{},{\"title\":\"Episodic Reviews\",\"shows\":[{\"link\":\"\\\\u002Ftv\\\\u002Fandor\\\\u002Fs01\",\"showTitle\":\"Andor: Season 1\"},{\"link\":\"\\\\u002Ftv\\\\u002Fshe_hulk_attorney_at_law\\\\u002Fs01\",\"showTitle\":\"She-Hulk: Attorney at Law: Season 1\"},{\"link\":\"\\\\u002Ftv\\\\u002Fhouse_of_the_dragon\\\\u002Fs01\",\"showTitle\":\"House of the Dragon: Season 1\"},{\"link\":\"\\\\u002Ftv\\\\u002Fthe_lord_of_the_rings_the_rings_of_power\\\\u002Fs01\",\"showTitle\":\"The Lord of the Rings: The Rings of Power: Season 1\"},{\"link\":\"\\\\u002Ftv\\\\u002Fatlanta\\\\u002Fs04\",\"showTitle\":\"Atlanta: Season 4\"}]}]}}},\"links\":{\"moviesInTheaters\":{\"certifiedFresh\":\"\\\\u002Fbrowse\\\\u002Fcf-in-theaters\",\"comingSoon\":\"\\\\u002Fbrowse\\\\u002Fupcoming\",\"openingThisWeek\":\"\\\\u002Fbrowse\\\\u002Fopening\",\"title\":\"\\\\u002Fbrowse\\\\u002Fin-theaters\",\"topBoxOffice\":\"\\\\u002Fbrowse\\\\u002Fin-theaters\"},\"onDvdAndStreaming\":{\"all\":\"\\\\u002Fbrowse\\\\u002Fdvd-streaming-all\",\"certifiedFresh\":\"\\\\u002Fbrowse\\\\u002Fcf-dvd-streaming-all\",\"title\":\"\\\\u002Fdvd\",\"top\":\"\\\\u002Fbrowse\\\\u002Ftop-dvd-streaming\"},\"moreMovies\":{\"topMovies\":\"\\\\u002Ftop\",\"trailers\":\"\\\\u002Ftrailers\"},\"tvTonight\":\"\\\\u002Fbrowse\\\\u002Ftv-list-1\",\"tvPopular\":\"\\\\u002Fbrowse\\\\u002Ftv-list-2\",\"moreTv\":{\"topTv\":\"https:\\\\u002F\\\\u002Fwww.rottentomatoes.com\\\\u002Ftop-tv\",\"certifiedFresh\":\"\\\\u002Fbrowse\\\\u002Ftv-list-3\"},\"editorial\":{\"allTimeLists\":\"https:\\\\u002F\\\\u002Feditorial.rottentomatoes.com\\\\u002Fall-time-lists\\\\u002F\",\"bingeGuide\":\"https:\\\\u002F\\\\u002Feditorial.rottentomatoes.com\\\\u002Fbinge-guide\\\\u002F\",\"comicsOnTv\":\"https:\\\\u002F\\\\u002Feditorial.rottentomatoes.com\\\\u002Fcomics-on-tv\\\\u002F\",\"countdown\":\"https:\\\\u002F\\\\u002Feditorial.rottentomatoes.com\\\\u002Fcountdown\\\\u002F\",\"criticsConsensus\":\"https:\\\\u002F\\\\u002Feditorial.rottentomatoes.com\\\\u002Fcritics-consensus\\\\u002F\",\"fiveFavoriteFilms\":\"https:\\\\u002F\\\\u002Feditorial.rottentomatoes.com\\\\u002Ffive-favorite-films\\\\u002F\",\"guidesHome\":\"https:\\\\u002F\\\\u002Feditorial.rottentomatoes.com\\\\u002Frt-hubs\\\\u002F\",\"home\":\"https:\\\\u002F\\\\u002Feditorial.rottentomatoes.com\\\\u002F\",\"news\":\"https:\\\\u002F\\\\u002Feditorial.rottentomatoes.com\\\\u002Fnews\\\\u002F\",\"nowStreaming\":\"https:\\\\u002F\\\\u002Feditorial.rottentomatoes.com\\\\u002Fnow-streaming\\\\u002F\",\"parentalGuidance\":\"https:\\\\u002F\\\\u002Feditorial.rottentomatoes.com\\\\u002Fparental-guidance\\\\u002F\",\"podcast\":\"https:\\\\u002F\\\\u002Feditorial.rottentomatoes.com\\\\u002Farticle\\\\u002Frotten-tomatoes-is-wrong-a-podcast-from-rotten-tomatoes\\\\u002F\",\"redCarpetRoundup\":\"https:\\\\u002F\\\\u002Feditorial.rottentomatoes.com\\\\u002Fred-carpet-roundup\\\\u002F\",\"scorecards\":\"https:\\\\u002F\\\\u002Feditorial.rottentomatoes.com\\\\u002Fmovie-tv-scorecards\\\\u002F\",\"subCult\":\"https:\\\\u002F\\\\u002Feditorial.rottentomatoes.com\\\\u002Fsub-cult\\\\u002F\",\"theZeros\":\"https:\\\\u002F\\\\u002Feditorial.rottentomatoes.com\\\\u002Fthe-zeros\\\\u002F\",\"totalRecall\":\"https:\\\\u002F\\\\u002Feditorial.rottentomatoes.com\\\\u002Ftotal-recall\\\\u002F\",\"twentyFourFrames\":\"https:\\\\u002F\\\\u002Feditorial.rottentomatoes.com\\\\u002F24-frames\\\\u002F\",\"videoInterviews\":\"https:\\\\u002F\\\\u002Feditorial.rottentomatoes.com\\\\u002Fvideo-interviews\\\\u002F\",\"weekendBoxOffice\":\"https:\\\\u002F\\\\u002Feditorial.rottentomatoes.com\\\\u002Fweekend-box-office\\\\u002F\",\"weeklyKetchup\":\"https:\\\\u002F\\\\u002Feditorial.rottentomatoes.com\\\\u002Fweekly-ketchup\\\\u002F\",\"whatToWatch\":\"https:\\\\u002F\\\\u002Feditorial.rottentomatoes.com\\\\u002Fwhat-to-watch\\\\u002F\"}}};\\nroot.BK = {\"PageName\":\"http:\\\\u002F\\\\u002Fwww.rottentomatoes.com\\\\u002Fbrowse\\\\u002Fmovies_at_home\\\\u002Fcritics:certified_fresh\",\"SiteID\":37528,\"SiteSection\":\"\"};\\nroot.RottenTomatoes.thirdParty = {\"chartBeat\":{\"auth\":\"64558\",\"domain\":\"rottentomatoes.com\"},\"facebook\":{\"appId\":\"326803741017\",\"version\":\"v6.0\",\"appName\":\"flixstertomatoes\"},\"mpx\":{\"accountPid\":\"NGweTC\",\"playerPid\":\"y__7B0iQTi4P\",\"playerPidPDK6\":\"pdk6_y__7B0iQTi4P\",\"accountId\":\"2474312077\"},\"algoliaSearch\":{\"aId\":\"79FRDP12PN\",\"sId\":\"175588f6e5f8319b27702e4cc4013561\"},\"cognito\":{\"upId\":\"us-west-2_4L0ZX4b1U\",\"clientId\":\"7pu48v8i2n25t4vhes0edck31c\"}};\\nroot.RottenTomatoes.serviceWorker = {\"isServiceWokerOn\":true};\\nroot.__RT__ || (root.__RT__ = {});\\nroot.__RT__.featureFlags = {\"adsCarouselActiveName\":\"rt-sponsored-carousel-list-hulu\",\"adsCarouselHP\":false,\"adsCarouselOP\":false,\"adsHub\":false,\"adsMockDLP\":false,\"adsVideoSpotlightHP\":false,\"amcVas\":false,\"authManagerOptimized\":true,\"authVerboseLogs\":false,\"disableFeatureDetection\":true,\"disableReviewSubmission\":false,\"layoutsMoviePage\":false,\"layoutsMovieReviewsPage\":false,\"layoutsTvEpisodePage\":false,\"layoutsTvEpisodeReviewsPage\":false,\"layoutsTvSeasonPage\":false,\"layoutsTvSeasonReviewsPage\":false,\"layoutsTvSeriesPage\":false,\"legacyBridge\":true,\"modelsCriticsArchivePage\":true,\"modelsCriticsCriteriaPage\":true,\"modelsHomePage\":true,\"modelsPicturesPages\":false,\"modelsTrailersPage\":true,\"mopUseEMSCriticService\":false,\"scoreIntroCard\":false,\"showVerification\":false,\"useCognito\":true,\"useCognitoAccountUpdate\":true,\"useFacebookLogin\":false,\"useOneTrust\":true,\"videoJWP\":false};\\nroot.RottenTomatoes.context.adsMockDLP = false;\\nroot.RottenTomatoes.context.useFacebookLogin = false;\\nroot.RottenTomatoes.context.disableFeatureDetection = true;\\nroot.RottenTomatoes.context.req = {\"params\":{\"vanity\":\"movies_at_home\",\"filter\":\"critics:certified_fresh\"},\"queries\":{},\"route\":{},\"url\":\"\\\\u002Fbrowse\\\\u002Fmovies_at_home\\\\u002Fcritics:certified_fresh\",\"secure\":false,\"buildVersion\":undefined};\\nroot.RottenTomatoes.context.config = {};\\nroot.RottenTomatoes.context.gptSite = \"dvd\";\\nroot.RottenTomatoes.dtmData = {\"webVersion\":\"node\",\"rtVersion\":3.1,\"loggedInStatus\":\"\",\"customerId\":\"\",\"pageName\":\"rt | browse | list page | movies at home\"};\\n}(this));\\n</script>\\n\\n        <!--[if IE]>\\n        <script src=\"/assets/pizza-pie/javascripts/roma/common/polyfills.js\"></script>\\n        <![endif]-->\\n\\n        <script src=\"/assets/pizza-pie/javascripts/bundles/roma/vendors.3b4c93a4652.js\"></script>\\n\\n        \\n            <script src=\"/assets/pizza-pie/javascripts/bundles/roma/micromodal.0554523c3ba.js\"></script>\\n        \\n\\n        <script src=\"/assets/pizza-pie/javascripts/bundles/roma/templates.af3ccb5710e.js\"></script>\\n\\n        <script src=\"/assets/pizza-pie/javascripts/bundles/roma/default.1cec1657294.js\"></script>\\n\\n        <script src=\"https://cdn.jsdelivr.net/npm/algoliasearch@4/dist/algoliasearch-lite.umd.js\"></script>\\n\\n        <script src=\"/assets/pizza-pie/javascripts/bundles/roma/search-algolia.d8af7fdea81.js\"></script>\\n        \\n    <script src=\"/assets/pizza-pie/javascripts/bundles/discovery.938f79b1bb6.js\"></script>\\n\\n\\n        \\n            <script>\\n                if (window.mps && typeof window.mps.writeFooter === \\'function\\') {\\n                    window.mps.writeFooter();\\n                }\\n            </script>\\n        \\n\\n        <script>\\n            window._satellite && _satellite.pageBottom();\\n        </script>\\n\\n        \\n    </body>\\n</html>\\n'"
      ]
     },
     "execution_count": 3,
     "metadata": {},
     "output_type": "execute_result"
    }
   ],
   "source": [
    "page = requests.get(url).text\n",
    "page"
   ]
  },
  {
   "cell_type": "code",
   "execution_count": 4,
   "id": "40b32f4d",
   "metadata": {},
   "outputs": [],
   "source": [
    "soup = BeautifulSoup(page, \"html.parser\")"
   ]
  },
  {
   "cell_type": "code",
   "execution_count": 5,
   "id": "d2b98613",
   "metadata": {},
   "outputs": [
    {
     "data": {
      "text/plain": [
       "['Rotten Tomatoes']"
      ]
     },
     "execution_count": 5,
     "metadata": {},
     "output_type": "execute_result"
    }
   ],
   "source": [
    "result = soup.select('a img[alt =\"Rotten Tomatoes\"]')\n",
    "page_title = [r['alt'].strip() for r in result]\n",
    "page_title"
   ]
  },
  {
   "cell_type": "code",
   "execution_count": 6,
   "id": "5474ad5c",
   "metadata": {},
   "outputs": [
    {
     "data": {
      "text/plain": [
       "['vudu',\n",
       " 'peacock',\n",
       " 'netflix',\n",
       " 'hulu',\n",
       " 'amazon_prime',\n",
       " 'disney_plus',\n",
       " 'hbo_max',\n",
       " 'paramount_plus',\n",
       " 'apple_tv_plus',\n",
       " 'showtime',\n",
       " 'apple_tv']"
      ]
     },
     "execution_count": 6,
     "metadata": {},
     "output_type": "execute_result"
    }
   ],
   "source": [
    "result = soup.select('where-to-watch-bubble[value]')\n",
    "movie_tv = [r['value'] for r in result]\n",
    "movie_tv"
   ]
  },
  {
   "cell_type": "code",
   "execution_count": 7,
   "id": "d8db1366",
   "metadata": {},
   "outputs": [
    {
     "data": {
      "text/plain": [
       "['https://resizing.flixster.com/LMbScjDLUzsQLgeeoOF0FAhNcC8=/fit-in/180x240/v2/https://resizing.flixster.com/rPJASTXFjLpmiVTi3D6RGcq-skM=/ems.cHJkLWVtcy1hc3NldHMvbW92aWVzLzhjYjA0ODBiLTNlNmUtNDlhOS05ZWRlLThlOGQ2MmEyZjlmYS5qcGc=',\n",
       " 'https://resizing.flixster.com/H5I6FWEXKIZcT_qxE0bG-xLomFY=/fit-in/180x240/v2/https://resizing.flixster.com/PbbehNpv3rq_TDm3xvFqgqqNo54=/ems.cHJkLWVtcy1hc3NldHMvbW92aWVzLzY5ZTBlNjBmLThiMDMtNGJiMC1hNTViLWRkZDkxZjMwMDcwOC5wbmc=',\n",
       " 'https://resizing.flixster.com/4ENdWq4-hrE7Sj1qrEDIeizlD5g=/fit-in/180x240/v2/https://resizing.flixster.com/S52STbZpNjjH3_XQK2Aks1uJkHc=/ems.cHJkLWVtcy1hc3NldHMvbW92aWVzLzExYmIwOTA1LTY4MzQtNDMzZS1hYzA1LWI3ZmZhNmY4NjczNC5qcGc=',\n",
       " 'https://resizing.flixster.com/EQwjsJzvAePoD3yc8_F4tnKxepw=/fit-in/180x240/v2/https://resizing.flixster.com/1t3h8KAxIMmKUCU09OoqpfqD6R0=/ems.cHJkLWVtcy1hc3NldHMvdHZzZWFzb24vZjU3YTRlYjItOTAzNC00MzFjLTg0NGQtODA1ZGU2OWY1NzY1LmpwZw==',\n",
       " 'https://prd-rteditorial.s3.us-west-2.amazonaws.com/wp-content/uploads/2018/02/14193805/Marvel-Movies-Recall2.jpg',\n",
       " 'https://prd-rteditorial.s3.us-west-2.amazonaws.com/wp-content/uploads/2015/06/19171851/Jurassic-Park-Franchise-Recall.jpg',\n",
       " 'https://prd-rteditorial.s3.us-west-2.amazonaws.com/wp-content/uploads/2022/01/12130451/660GTA.jpg',\n",
       " 'https://prd-rteditorial.s3.us-west-2.amazonaws.com/wp-content/uploads/2022/09/12091739/RT_AwardsTour_Thumbnail_600x314_Gradient.jpg',\n",
       " 'https://prd-rteditorial.s3.us-west-2.amazonaws.com/wp-content/uploads/2023/01/18142257/TedLasso_304_600x314.jpg',\n",
       " 'https://prd-rteditorial.s3.us-west-2.amazonaws.com/wp-content/uploads/2023/01/17174920/WTF_Horror_2023-Rep.jpg',\n",
       " 'https://resizing.flixster.com/jJvkHPPuBR24i8zhk98fu13YPDo=/180x258/v2/https://resizing.flixster.com/ThP55y9O__xdEFFCmmJ0pDy9FeI=/ems.cHJkLWVtcy1hc3NldHMvbW92aWVzL2FlZTkwYTAyLWNkNWYtNDA0ZS04N2FhLTE0NDUwZmM0ODdiOC5qcGc=',\n",
       " 'https://resizing.flixster.com/7TqHTXZS36wi0cPwfdLO3kQMXH0=/180x258/v2/https://resizing.flixster.com/vtIcjOYiM-QBXQyXhTFFgQoRkDw=/ems.cHJkLWVtcy1hc3NldHMvbW92aWVzL2JmNjM3ZTc2LTk5ZmMtNGJhNy04MDAzLWI3M2IxNmExNDNkYi5qcGc=',\n",
       " 'https://resizing.flixster.com/g75SmYnr5OmzMH2poVBHMtkhQuc=/180x258/v2/https://resizing.flixster.com/SqYohHz5ela5G1qTZ8aKYunK2Oo=/ems.cHJkLWVtcy1hc3NldHMvbW92aWVzLzc4ZjI3ZDBiLTkwMDktNDVkZC1hZmI5LTJiNDdjNWRmZDVjOC5qcGc=',\n",
       " 'https://resizing.flixster.com/EfEP4ibneaDRhBY_i9fsO3Gxa0Y=/180x258/v2/https://resizing.flixster.com/mx-agGjjsUK1QMyuv3AJhHI3hgo=/ems.cHJkLWVtcy1hc3NldHMvbW92aWVzLzA3ZjU2MGU1LWMxODItNDlkMC1hYzJhLTY2YzMwOGZkMDhiZi5qcGc=',\n",
       " 'https://resizing.flixster.com/c0UaF5wT35zDl_bCLSI6nAcvSus=/180x258/v2/https://resizing.flixster.com/sHWlKXB2LojbyFEGXuLICWYopdI=/ems.cHJkLWVtcy1hc3NldHMvbW92aWVzLzA3Y2Y3MTk3LWZkMWUtNGNjNS04YzY0LWI0YjNlNDNmYTRhNC5qcGc=',\n",
       " 'https://resizing.flixster.com/8wymdH43sZoAyqWNdFjibu1YJlA=/180x258/v2/https://resizing.flixster.com/ZNLHYPtAZiy-aViK7D4SBdAlqxw=/ems.cHJkLWVtcy1hc3NldHMvbW92aWVzLzA2MzYzMjhiLThmZGUtNDA4NC04MTRkLWE5NjUyZDYzOTAwOS5qcGc=',\n",
       " 'https://resizing.flixster.com/tbJ0JxZXRXYEzs2BqwjI1Mbm90Q=/180x258/v2/https://resizing.flixster.com/Mtg-vEUajN8oamKcLLI7hZT-Rhs=/ems.cHJkLWVtcy1hc3NldHMvbW92aWVzL2FhYTcxNzNkLTExYzItNDk1NC1iNDNmLWViMDRlYjg5NzliNC5qcGc=',\n",
       " 'https://resizing.flixster.com/IOXq6IJZjoPsv6EDNWD1MBbYakU=/180x258/v2/https://resizing.flixster.com/bewkINYSfH_9LYdcxDC2LNLEbQA=/ems.cHJkLWVtcy1hc3NldHMvbW92aWVzL2I3NTc0OTI3LTgzNDQtNGE1MS1iMDMzLTk5OWQ2MjU0NmUzNC5qcGc=',\n",
       " 'https://resizing.flixster.com/BvnA4LfxGe8DSkd6PpUkdiPNxlM=/180x258/v2/https://resizing.flixster.com/dLAtEC7GySsgPdWZKx-cPCV6KBY=/ems.cHJkLWVtcy1hc3NldHMvbW92aWVzL2Q3NWQwM2U2LWJkNTctNDNjOC04ODhiLTNlYjI1MGI0YmI4ZS5qcGc=',\n",
       " 'https://resizing.flixster.com/uyywbBK3z6ZhZjZ-Lwy7YTbwofM=/180x258/v2/https://resizing.flixster.com/qtYisqOwDStnpo2P22PRTHC53Uk=/ems.cHJkLWVtcy1hc3NldHMvbW92aWVzL2NmMmQ0ZTRiLWVkOGYtNDllNS05ZjRiLWYyY2RhMjk1YzRjYi5qcGc=',\n",
       " 'https://resizing.flixster.com/__1jLNztzEXGUPlcq8fzs82Zu58=/180x258/v2/https://resizing.flixster.com/mYfU74jKBCV9KA_O7ktmk5exwu4=/ems.cHJkLWVtcy1hc3NldHMvbW92aWVzLzczNjAwNTk0LTRlZWEtNDY5Ni1iYWM1LWRhZjI1OWUzODNhNy5qcGc=',\n",
       " 'https://resizing.flixster.com/dmwr8LUltpSD7LvW3OQUM90Jlok=/180x258/v2/https://resizing.flixster.com/Ym6ucXdlZjGTqRWEMVr0r3H16Ro=/ems.cHJkLWVtcy1hc3NldHMvbW92aWVzLzA3ZGY2MjgxLTI1NjEtNGFhMC1iYzQ0LTllOGFhYTczNzYxNy5qcGc=',\n",
       " 'https://resizing.flixster.com/3z0Y9dEFKVm81xMe3hnHKEP70iQ=/180x258/v2/https://resizing.flixster.com/-Ius_N-ltCTKSsVCP_h4zcw5ixs=/ems.cHJkLWVtcy1hc3NldHMvbW92aWVzLzI5Y2VlMDIwLTJhMTgtNDAwOC05YTZkLTFkNWI1ZTQ2MGI4OC5qcGc=',\n",
       " 'https://resizing.flixster.com/4nWFJLNFCGRYpJ06c2OhlkaHIso=/180x258/v2/https://resizing.flixster.com/21j7kYKcSY89f0BqEBs-MUCmfkk=/ems.cHJkLWVtcy1hc3NldHMvbW92aWVzL2FiZWNkNjYzLTRkYTAtNGI2My05NmUzLWNkZmM0ZjI2NDk4Zi5qcGc=',\n",
       " 'https://resizing.flixster.com/muQdl8QOTaRQCfedkh-NQYfaGxs=/180x258/v2/https://resizing.flixster.com/TIM4kfHTVZrfpF0tYt9LIU69A5s=/ems.cHJkLWVtcy1hc3NldHMvbW92aWVzLzU1OWIwMWQwLWYyZDItNDk4Yi04MDIxLWI3OTJlNDI1NjA3NS5qcGc=',\n",
       " 'https://resizing.flixster.com/pKjszAQ5z07ondE2foX8gAiQtBg=/180x258/v2/https://resizing.flixster.com/f0bXqQUdQ0m6fyqZjI1OXSEia9E=/ems.cHJkLWVtcy1hc3NldHMvbW92aWVzLzEzYmY3ZmZiLWMzYjEtNDQxMy05NTAxLTc2YTRlNmE3NWY2MC5qcGc=',\n",
       " 'https://resizing.flixster.com/RxOwvg8L_rDc9PjE7zjqOfxpbvA=/180x258/v2/https://resizing.flixster.com/BwXaeEZJNNzzduc8EaebjKl2aGc=/ems.cHJkLWVtcy1hc3NldHMvbW92aWVzLzY4YTIwMGI3LTk1YjUtNDY1ZC1hYmMyLTIwM2UwZjc2OTY4Mi5qcGc=',\n",
       " 'https://resizing.flixster.com/l1ZLcJex3o9HyCsxa2r8kZu-h0s=/180x258/v2/https://resizing.flixster.com/6EeYrywKueOFue9uRSQqLxfGKI0=/ems.cHJkLWVtcy1hc3NldHMvbW92aWVzLzA0NzZhZTk0LTI3NjctNGZiNi04Yjg4LWRiN2RkNTJiYWZlNy5qcGc=',\n",
       " 'https://resizing.flixster.com/S6aGue8SYNWfHEvNNaHDDVwX0T4=/180x258/v2/https://resizing.flixster.com/P3Ri6b9aMGyXGoQq2fAC0W42ZuM=/ems.cHJkLWVtcy1hc3NldHMvbW92aWVzLzljOTY4NjE5LWVhNTctNDNmYS05YTk4LWY1Y2Q5NzkyNTlmMy5qcGc=',\n",
       " 'https://resizing.flixster.com/Iu3qp_DzJPCc7IpQwVtHYadPUQY=/180x258/v2/https://resizing.flixster.com/9siv752L7VqwwTJVHg1KENr6wlU=/ems.cHJkLWVtcy1hc3NldHMvbW92aWVzLzhmNTdjMmU2LTczODctNDUzOS05ODhjLWU0MDRhY2M4ZjMxMy53ZWJw',\n",
       " 'https://resizing.flixster.com/jbaGDpX3cKCpeoYEDAqFzMFFgAQ=/180x258/v2/https://resizing.flixster.com/qNgYL7ZczPf4k6U1L40bTT2Ba6w=/ems.cHJkLWVtcy1hc3NldHMvbW92aWVzLzBjNTUyNzhjLTIyNjEtNGZhNy1hNDY2LTJjMjY3MzExZDVjMi5qcGc=',\n",
       " 'https://resizing.flixster.com/23LHxfziaVb6n9imP-2Q9KnlK5E=/180x258/v2/https://resizing.flixster.com/Tv-nj_XzcvU5GZthFm-0xrSvvjo=/ems.cHJkLWVtcy1hc3NldHMvbW92aWVzLzljM2U3Mjk3LWExNzgtNGE2NS05OTMxLWVlZmU1NzNlZWM5MS5qcGc=',\n",
       " 'https://resizing.flixster.com/3pvQEbVCHQL9fEibfJc-0QNDEwI=/180x258/v2/https://resizing.flixster.com/pzEH03_uZD07e512pw3H76yU4Pg=/ems.cHJkLWVtcy1hc3NldHMvbW92aWVzLzJhZTQ4ZTA1LWZkZDctNGE3Yy05OGVhLTMxZjU5MzFlNzYzNy5wbmc=',\n",
       " 'https://resizing.flixster.com/jqM--MZEccdjjWAYg-8gIyK51YI=/180x258/v2/https://resizing.flixster.com/6Ce6e_0XkidJuYJN0kCXykPDezo=/ems.cHJkLWVtcy1hc3NldHMvbW92aWVzL2M2ODA3YzkwLWYyM2MtNGFhYS04MGViLTYzN2ZhYWIyYmU1Yi5qcGc=',\n",
       " 'https://resizing.flixster.com/rjg6NTKGnZ_m7pCONPGnFVPbmBE=/180x258/v2/https://flxt.tmsimg.com/NowShowing/105384/105384_aa.jpg',\n",
       " 'https://resizing.flixster.com/zIkbVkN5bQvl5gF2br-TeBMGxHM=/180x258/v2/https://resizing.flixster.com/xqdmTbHQwYWwsybacb-L96GdF1M=/ems.cHJkLWVtcy1hc3NldHMvbW92aWVzLzNhNmY3YTRmLTMzNTMtNDAxOS04ZGEwLWMyNzRmNmI4Y2NlOC5qcGc=',\n",
       " 'https://resizing.flixster.com/rWaijuY3qKTEMwAMRvJKO3sILkw=/180x258/v2/https://resizing.flixster.com/lL6dYMMSqVqDTaPgas1mzRy3bSw=/ems.cHJkLWVtcy1hc3NldHMvbW92aWVzL2NmNjIyZjE1LWI4ZTctNDhhNy1hMTdiLTMwY2QyODRhNjJiNy53ZWJw',\n",
       " 'https://resizing.flixster.com/fbxPKwbalbCg9ZUvnU7QF9I3_FU=/180x258/v2/https://resizing.flixster.com/Iph412fBRqDz1ImxKUQwn9iX4jg=/ems.cHJkLWVtcy1hc3NldHMvbW92aWVzL2RjYTA4MTI3LTk1ZTktNDdjYi1hNzUyLTcxY2Y3NjJiOTFhYy5qcGc=',\n",
       " 'https://resizing.flixster.com/BikXRtSCwawHFNqQXx4cBsZ_QC4=/180x258/v2/https://resizing.flixster.com/HUwAlW1QAya1vlIePUDv3kdzhIE=/ems.cHJkLWVtcy1hc3NldHMvbW92aWVzLzc1OGFlMDI0LTE1ZTEtNDE4ZS04Y2RmLWNjYzcyOWQyZmMyNi5qcGc=',\n",
       " 'https://resizing.flixster.com/H1tK5ldakifLjPaZxIkxiCX9mRM=/180x258/v2/https://resizing.flixster.com/szJdELts6jHjw_8fuZN3OupeZPY=/ems.cHJkLWVtcy1hc3NldHMvbW92aWVzL2M5Y2QyODk1LWNmMmQtNGUwYS1hMTQyLWNjNzhkMGM2NThlNS5qcGc=']"
      ]
     },
     "execution_count": 7,
     "metadata": {},
     "output_type": "execute_result"
    }
   ],
   "source": [
    "result = soup.select('tile-dynamic img[src]')   ## i found out it returned ten extra movies img\n",
    "img = [r['src'] for r in result]\n",
    "img"
   ]
  },
  {
   "cell_type": "code",
   "execution_count": 15,
   "id": "9eee5d1f",
   "metadata": {},
   "outputs": [],
   "source": [
    "from IPython.display import Image, display"
   ]
  },
  {
   "cell_type": "code",
   "execution_count": 20,
   "id": "68474a34",
   "metadata": {},
   "outputs": [
    {
     "data": {
      "text/html": [
       "<img src=\"https://resizing.flixster.com/LMbScjDLUzsQLgeeoOF0FAhNcC8=/fit-in/180x240/v2/https://resizing.flixster.com/rPJASTXFjLpmiVTi3D6RGcq-skM=/ems.cHJkLWVtcy1hc3NldHMvbW92aWVzLzhjYjA0ODBiLTNlNmUtNDlhOS05ZWRlLThlOGQ2MmEyZjlmYS5qcGc=\" width=\"200\"/>"
      ],
      "text/plain": [
       "<IPython.core.display.Image object>"
      ]
     },
     "metadata": {},
     "output_type": "display_data"
    },
    {
     "name": "stdout",
     "output_type": "stream",
     "text": [
      "\n"
     ]
    },
    {
     "data": {
      "text/html": [
       "<img src=\"https://resizing.flixster.com/H5I6FWEXKIZcT_qxE0bG-xLomFY=/fit-in/180x240/v2/https://resizing.flixster.com/PbbehNpv3rq_TDm3xvFqgqqNo54=/ems.cHJkLWVtcy1hc3NldHMvbW92aWVzLzY5ZTBlNjBmLThiMDMtNGJiMC1hNTViLWRkZDkxZjMwMDcwOC5wbmc=\" width=\"200\"/>"
      ],
      "text/plain": [
       "<IPython.core.display.Image object>"
      ]
     },
     "metadata": {},
     "output_type": "display_data"
    },
    {
     "name": "stdout",
     "output_type": "stream",
     "text": [
      "\n"
     ]
    },
    {
     "data": {
      "text/html": [
       "<img src=\"https://resizing.flixster.com/4ENdWq4-hrE7Sj1qrEDIeizlD5g=/fit-in/180x240/v2/https://resizing.flixster.com/S52STbZpNjjH3_XQK2Aks1uJkHc=/ems.cHJkLWVtcy1hc3NldHMvbW92aWVzLzExYmIwOTA1LTY4MzQtNDMzZS1hYzA1LWI3ZmZhNmY4NjczNC5qcGc=\" width=\"200\"/>"
      ],
      "text/plain": [
       "<IPython.core.display.Image object>"
      ]
     },
     "metadata": {},
     "output_type": "display_data"
    },
    {
     "name": "stdout",
     "output_type": "stream",
     "text": [
      "\n"
     ]
    },
    {
     "data": {
      "text/html": [
       "<img src=\"https://resizing.flixster.com/EQwjsJzvAePoD3yc8_F4tnKxepw=/fit-in/180x240/v2/https://resizing.flixster.com/1t3h8KAxIMmKUCU09OoqpfqD6R0=/ems.cHJkLWVtcy1hc3NldHMvdHZzZWFzb24vZjU3YTRlYjItOTAzNC00MzFjLTg0NGQtODA1ZGU2OWY1NzY1LmpwZw==\" width=\"200\"/>"
      ],
      "text/plain": [
       "<IPython.core.display.Image object>"
      ]
     },
     "metadata": {},
     "output_type": "display_data"
    },
    {
     "name": "stdout",
     "output_type": "stream",
     "text": [
      "\n"
     ]
    },
    {
     "data": {
      "text/html": [
       "<img src=\"https://prd-rteditorial.s3.us-west-2.amazonaws.com/wp-content/uploads/2018/02/14193805/Marvel-Movies-Recall2.jpg\" width=\"200\"/>"
      ],
      "text/plain": [
       "<IPython.core.display.Image object>"
      ]
     },
     "metadata": {},
     "output_type": "display_data"
    },
    {
     "name": "stdout",
     "output_type": "stream",
     "text": [
      "\n"
     ]
    },
    {
     "data": {
      "text/html": [
       "<img src=\"https://prd-rteditorial.s3.us-west-2.amazonaws.com/wp-content/uploads/2015/06/19171851/Jurassic-Park-Franchise-Recall.jpg\" width=\"200\"/>"
      ],
      "text/plain": [
       "<IPython.core.display.Image object>"
      ]
     },
     "metadata": {},
     "output_type": "display_data"
    },
    {
     "name": "stdout",
     "output_type": "stream",
     "text": [
      "\n"
     ]
    },
    {
     "data": {
      "text/html": [
       "<img src=\"https://prd-rteditorial.s3.us-west-2.amazonaws.com/wp-content/uploads/2022/01/12130451/660GTA.jpg\" width=\"200\"/>"
      ],
      "text/plain": [
       "<IPython.core.display.Image object>"
      ]
     },
     "metadata": {},
     "output_type": "display_data"
    },
    {
     "name": "stdout",
     "output_type": "stream",
     "text": [
      "\n"
     ]
    },
    {
     "data": {
      "text/html": [
       "<img src=\"https://prd-rteditorial.s3.us-west-2.amazonaws.com/wp-content/uploads/2022/09/12091739/RT_AwardsTour_Thumbnail_600x314_Gradient.jpg\" width=\"200\"/>"
      ],
      "text/plain": [
       "<IPython.core.display.Image object>"
      ]
     },
     "metadata": {},
     "output_type": "display_data"
    },
    {
     "name": "stdout",
     "output_type": "stream",
     "text": [
      "\n"
     ]
    },
    {
     "data": {
      "text/html": [
       "<img src=\"https://prd-rteditorial.s3.us-west-2.amazonaws.com/wp-content/uploads/2023/01/18142257/TedLasso_304_600x314.jpg\" width=\"200\"/>"
      ],
      "text/plain": [
       "<IPython.core.display.Image object>"
      ]
     },
     "metadata": {},
     "output_type": "display_data"
    },
    {
     "name": "stdout",
     "output_type": "stream",
     "text": [
      "\n"
     ]
    },
    {
     "data": {
      "text/html": [
       "<img src=\"https://prd-rteditorial.s3.us-west-2.amazonaws.com/wp-content/uploads/2023/01/17174920/WTF_Horror_2023-Rep.jpg\" width=\"200\"/>"
      ],
      "text/plain": [
       "<IPython.core.display.Image object>"
      ]
     },
     "metadata": {},
     "output_type": "display_data"
    },
    {
     "name": "stdout",
     "output_type": "stream",
     "text": [
      "\n"
     ]
    },
    {
     "data": {
      "text/html": [
       "<img src=\"https://resizing.flixster.com/jJvkHPPuBR24i8zhk98fu13YPDo=/180x258/v2/https://resizing.flixster.com/ThP55y9O__xdEFFCmmJ0pDy9FeI=/ems.cHJkLWVtcy1hc3NldHMvbW92aWVzL2FlZTkwYTAyLWNkNWYtNDA0ZS04N2FhLTE0NDUwZmM0ODdiOC5qcGc=\" width=\"200\"/>"
      ],
      "text/plain": [
       "<IPython.core.display.Image object>"
      ]
     },
     "metadata": {},
     "output_type": "display_data"
    },
    {
     "name": "stdout",
     "output_type": "stream",
     "text": [
      "\n"
     ]
    },
    {
     "data": {
      "text/html": [
       "<img src=\"https://resizing.flixster.com/7TqHTXZS36wi0cPwfdLO3kQMXH0=/180x258/v2/https://resizing.flixster.com/vtIcjOYiM-QBXQyXhTFFgQoRkDw=/ems.cHJkLWVtcy1hc3NldHMvbW92aWVzL2JmNjM3ZTc2LTk5ZmMtNGJhNy04MDAzLWI3M2IxNmExNDNkYi5qcGc=\" width=\"200\"/>"
      ],
      "text/plain": [
       "<IPython.core.display.Image object>"
      ]
     },
     "metadata": {},
     "output_type": "display_data"
    },
    {
     "name": "stdout",
     "output_type": "stream",
     "text": [
      "\n"
     ]
    },
    {
     "data": {
      "text/html": [
       "<img src=\"https://resizing.flixster.com/g75SmYnr5OmzMH2poVBHMtkhQuc=/180x258/v2/https://resizing.flixster.com/SqYohHz5ela5G1qTZ8aKYunK2Oo=/ems.cHJkLWVtcy1hc3NldHMvbW92aWVzLzc4ZjI3ZDBiLTkwMDktNDVkZC1hZmI5LTJiNDdjNWRmZDVjOC5qcGc=\" width=\"200\"/>"
      ],
      "text/plain": [
       "<IPython.core.display.Image object>"
      ]
     },
     "metadata": {},
     "output_type": "display_data"
    },
    {
     "name": "stdout",
     "output_type": "stream",
     "text": [
      "\n"
     ]
    },
    {
     "data": {
      "text/html": [
       "<img src=\"https://resizing.flixster.com/EfEP4ibneaDRhBY_i9fsO3Gxa0Y=/180x258/v2/https://resizing.flixster.com/mx-agGjjsUK1QMyuv3AJhHI3hgo=/ems.cHJkLWVtcy1hc3NldHMvbW92aWVzLzA3ZjU2MGU1LWMxODItNDlkMC1hYzJhLTY2YzMwOGZkMDhiZi5qcGc=\" width=\"200\"/>"
      ],
      "text/plain": [
       "<IPython.core.display.Image object>"
      ]
     },
     "metadata": {},
     "output_type": "display_data"
    },
    {
     "name": "stdout",
     "output_type": "stream",
     "text": [
      "\n"
     ]
    },
    {
     "data": {
      "text/html": [
       "<img src=\"https://resizing.flixster.com/c0UaF5wT35zDl_bCLSI6nAcvSus=/180x258/v2/https://resizing.flixster.com/sHWlKXB2LojbyFEGXuLICWYopdI=/ems.cHJkLWVtcy1hc3NldHMvbW92aWVzLzA3Y2Y3MTk3LWZkMWUtNGNjNS04YzY0LWI0YjNlNDNmYTRhNC5qcGc=\" width=\"200\"/>"
      ],
      "text/plain": [
       "<IPython.core.display.Image object>"
      ]
     },
     "metadata": {},
     "output_type": "display_data"
    },
    {
     "name": "stdout",
     "output_type": "stream",
     "text": [
      "\n"
     ]
    },
    {
     "data": {
      "text/html": [
       "<img src=\"https://resizing.flixster.com/8wymdH43sZoAyqWNdFjibu1YJlA=/180x258/v2/https://resizing.flixster.com/ZNLHYPtAZiy-aViK7D4SBdAlqxw=/ems.cHJkLWVtcy1hc3NldHMvbW92aWVzLzA2MzYzMjhiLThmZGUtNDA4NC04MTRkLWE5NjUyZDYzOTAwOS5qcGc=\" width=\"200\"/>"
      ],
      "text/plain": [
       "<IPython.core.display.Image object>"
      ]
     },
     "metadata": {},
     "output_type": "display_data"
    },
    {
     "name": "stdout",
     "output_type": "stream",
     "text": [
      "\n"
     ]
    },
    {
     "data": {
      "text/html": [
       "<img src=\"https://resizing.flixster.com/tbJ0JxZXRXYEzs2BqwjI1Mbm90Q=/180x258/v2/https://resizing.flixster.com/Mtg-vEUajN8oamKcLLI7hZT-Rhs=/ems.cHJkLWVtcy1hc3NldHMvbW92aWVzL2FhYTcxNzNkLTExYzItNDk1NC1iNDNmLWViMDRlYjg5NzliNC5qcGc=\" width=\"200\"/>"
      ],
      "text/plain": [
       "<IPython.core.display.Image object>"
      ]
     },
     "metadata": {},
     "output_type": "display_data"
    },
    {
     "name": "stdout",
     "output_type": "stream",
     "text": [
      "\n"
     ]
    },
    {
     "data": {
      "text/html": [
       "<img src=\"https://resizing.flixster.com/IOXq6IJZjoPsv6EDNWD1MBbYakU=/180x258/v2/https://resizing.flixster.com/bewkINYSfH_9LYdcxDC2LNLEbQA=/ems.cHJkLWVtcy1hc3NldHMvbW92aWVzL2I3NTc0OTI3LTgzNDQtNGE1MS1iMDMzLTk5OWQ2MjU0NmUzNC5qcGc=\" width=\"200\"/>"
      ],
      "text/plain": [
       "<IPython.core.display.Image object>"
      ]
     },
     "metadata": {},
     "output_type": "display_data"
    },
    {
     "name": "stdout",
     "output_type": "stream",
     "text": [
      "\n"
     ]
    },
    {
     "data": {
      "text/html": [
       "<img src=\"https://resizing.flixster.com/BvnA4LfxGe8DSkd6PpUkdiPNxlM=/180x258/v2/https://resizing.flixster.com/dLAtEC7GySsgPdWZKx-cPCV6KBY=/ems.cHJkLWVtcy1hc3NldHMvbW92aWVzL2Q3NWQwM2U2LWJkNTctNDNjOC04ODhiLTNlYjI1MGI0YmI4ZS5qcGc=\" width=\"200\"/>"
      ],
      "text/plain": [
       "<IPython.core.display.Image object>"
      ]
     },
     "metadata": {},
     "output_type": "display_data"
    },
    {
     "name": "stdout",
     "output_type": "stream",
     "text": [
      "\n"
     ]
    },
    {
     "data": {
      "text/html": [
       "<img src=\"https://resizing.flixster.com/uyywbBK3z6ZhZjZ-Lwy7YTbwofM=/180x258/v2/https://resizing.flixster.com/qtYisqOwDStnpo2P22PRTHC53Uk=/ems.cHJkLWVtcy1hc3NldHMvbW92aWVzL2NmMmQ0ZTRiLWVkOGYtNDllNS05ZjRiLWYyY2RhMjk1YzRjYi5qcGc=\" width=\"200\"/>"
      ],
      "text/plain": [
       "<IPython.core.display.Image object>"
      ]
     },
     "metadata": {},
     "output_type": "display_data"
    },
    {
     "name": "stdout",
     "output_type": "stream",
     "text": [
      "\n"
     ]
    },
    {
     "data": {
      "text/html": [
       "<img src=\"https://resizing.flixster.com/__1jLNztzEXGUPlcq8fzs82Zu58=/180x258/v2/https://resizing.flixster.com/mYfU74jKBCV9KA_O7ktmk5exwu4=/ems.cHJkLWVtcy1hc3NldHMvbW92aWVzLzczNjAwNTk0LTRlZWEtNDY5Ni1iYWM1LWRhZjI1OWUzODNhNy5qcGc=\" width=\"200\"/>"
      ],
      "text/plain": [
       "<IPython.core.display.Image object>"
      ]
     },
     "metadata": {},
     "output_type": "display_data"
    },
    {
     "name": "stdout",
     "output_type": "stream",
     "text": [
      "\n"
     ]
    },
    {
     "data": {
      "text/html": [
       "<img src=\"https://resizing.flixster.com/dmwr8LUltpSD7LvW3OQUM90Jlok=/180x258/v2/https://resizing.flixster.com/Ym6ucXdlZjGTqRWEMVr0r3H16Ro=/ems.cHJkLWVtcy1hc3NldHMvbW92aWVzLzA3ZGY2MjgxLTI1NjEtNGFhMC1iYzQ0LTllOGFhYTczNzYxNy5qcGc=\" width=\"200\"/>"
      ],
      "text/plain": [
       "<IPython.core.display.Image object>"
      ]
     },
     "metadata": {},
     "output_type": "display_data"
    },
    {
     "name": "stdout",
     "output_type": "stream",
     "text": [
      "\n"
     ]
    },
    {
     "data": {
      "text/html": [
       "<img src=\"https://resizing.flixster.com/3z0Y9dEFKVm81xMe3hnHKEP70iQ=/180x258/v2/https://resizing.flixster.com/-Ius_N-ltCTKSsVCP_h4zcw5ixs=/ems.cHJkLWVtcy1hc3NldHMvbW92aWVzLzI5Y2VlMDIwLTJhMTgtNDAwOC05YTZkLTFkNWI1ZTQ2MGI4OC5qcGc=\" width=\"200\"/>"
      ],
      "text/plain": [
       "<IPython.core.display.Image object>"
      ]
     },
     "metadata": {},
     "output_type": "display_data"
    },
    {
     "name": "stdout",
     "output_type": "stream",
     "text": [
      "\n"
     ]
    },
    {
     "data": {
      "text/html": [
       "<img src=\"https://resizing.flixster.com/4nWFJLNFCGRYpJ06c2OhlkaHIso=/180x258/v2/https://resizing.flixster.com/21j7kYKcSY89f0BqEBs-MUCmfkk=/ems.cHJkLWVtcy1hc3NldHMvbW92aWVzL2FiZWNkNjYzLTRkYTAtNGI2My05NmUzLWNkZmM0ZjI2NDk4Zi5qcGc=\" width=\"200\"/>"
      ],
      "text/plain": [
       "<IPython.core.display.Image object>"
      ]
     },
     "metadata": {},
     "output_type": "display_data"
    },
    {
     "name": "stdout",
     "output_type": "stream",
     "text": [
      "\n"
     ]
    },
    {
     "data": {
      "text/html": [
       "<img src=\"https://resizing.flixster.com/muQdl8QOTaRQCfedkh-NQYfaGxs=/180x258/v2/https://resizing.flixster.com/TIM4kfHTVZrfpF0tYt9LIU69A5s=/ems.cHJkLWVtcy1hc3NldHMvbW92aWVzLzU1OWIwMWQwLWYyZDItNDk4Yi04MDIxLWI3OTJlNDI1NjA3NS5qcGc=\" width=\"200\"/>"
      ],
      "text/plain": [
       "<IPython.core.display.Image object>"
      ]
     },
     "metadata": {},
     "output_type": "display_data"
    },
    {
     "name": "stdout",
     "output_type": "stream",
     "text": [
      "\n"
     ]
    },
    {
     "data": {
      "text/html": [
       "<img src=\"https://resizing.flixster.com/pKjszAQ5z07ondE2foX8gAiQtBg=/180x258/v2/https://resizing.flixster.com/f0bXqQUdQ0m6fyqZjI1OXSEia9E=/ems.cHJkLWVtcy1hc3NldHMvbW92aWVzLzEzYmY3ZmZiLWMzYjEtNDQxMy05NTAxLTc2YTRlNmE3NWY2MC5qcGc=\" width=\"200\"/>"
      ],
      "text/plain": [
       "<IPython.core.display.Image object>"
      ]
     },
     "metadata": {},
     "output_type": "display_data"
    },
    {
     "name": "stdout",
     "output_type": "stream",
     "text": [
      "\n"
     ]
    },
    {
     "data": {
      "text/html": [
       "<img src=\"https://resizing.flixster.com/RxOwvg8L_rDc9PjE7zjqOfxpbvA=/180x258/v2/https://resizing.flixster.com/BwXaeEZJNNzzduc8EaebjKl2aGc=/ems.cHJkLWVtcy1hc3NldHMvbW92aWVzLzY4YTIwMGI3LTk1YjUtNDY1ZC1hYmMyLTIwM2UwZjc2OTY4Mi5qcGc=\" width=\"200\"/>"
      ],
      "text/plain": [
       "<IPython.core.display.Image object>"
      ]
     },
     "metadata": {},
     "output_type": "display_data"
    },
    {
     "name": "stdout",
     "output_type": "stream",
     "text": [
      "\n"
     ]
    },
    {
     "data": {
      "text/html": [
       "<img src=\"https://resizing.flixster.com/l1ZLcJex3o9HyCsxa2r8kZu-h0s=/180x258/v2/https://resizing.flixster.com/6EeYrywKueOFue9uRSQqLxfGKI0=/ems.cHJkLWVtcy1hc3NldHMvbW92aWVzLzA0NzZhZTk0LTI3NjctNGZiNi04Yjg4LWRiN2RkNTJiYWZlNy5qcGc=\" width=\"200\"/>"
      ],
      "text/plain": [
       "<IPython.core.display.Image object>"
      ]
     },
     "metadata": {},
     "output_type": "display_data"
    },
    {
     "name": "stdout",
     "output_type": "stream",
     "text": [
      "\n"
     ]
    },
    {
     "data": {
      "text/html": [
       "<img src=\"https://resizing.flixster.com/S6aGue8SYNWfHEvNNaHDDVwX0T4=/180x258/v2/https://resizing.flixster.com/P3Ri6b9aMGyXGoQq2fAC0W42ZuM=/ems.cHJkLWVtcy1hc3NldHMvbW92aWVzLzljOTY4NjE5LWVhNTctNDNmYS05YTk4LWY1Y2Q5NzkyNTlmMy5qcGc=\" width=\"200\"/>"
      ],
      "text/plain": [
       "<IPython.core.display.Image object>"
      ]
     },
     "metadata": {},
     "output_type": "display_data"
    },
    {
     "name": "stdout",
     "output_type": "stream",
     "text": [
      "\n"
     ]
    },
    {
     "data": {
      "text/html": [
       "<img src=\"https://resizing.flixster.com/Iu3qp_DzJPCc7IpQwVtHYadPUQY=/180x258/v2/https://resizing.flixster.com/9siv752L7VqwwTJVHg1KENr6wlU=/ems.cHJkLWVtcy1hc3NldHMvbW92aWVzLzhmNTdjMmU2LTczODctNDUzOS05ODhjLWU0MDRhY2M4ZjMxMy53ZWJw\" width=\"200\"/>"
      ],
      "text/plain": [
       "<IPython.core.display.Image object>"
      ]
     },
     "metadata": {},
     "output_type": "display_data"
    },
    {
     "name": "stdout",
     "output_type": "stream",
     "text": [
      "\n"
     ]
    },
    {
     "data": {
      "text/html": [
       "<img src=\"https://resizing.flixster.com/jbaGDpX3cKCpeoYEDAqFzMFFgAQ=/180x258/v2/https://resizing.flixster.com/qNgYL7ZczPf4k6U1L40bTT2Ba6w=/ems.cHJkLWVtcy1hc3NldHMvbW92aWVzLzBjNTUyNzhjLTIyNjEtNGZhNy1hNDY2LTJjMjY3MzExZDVjMi5qcGc=\" width=\"200\"/>"
      ],
      "text/plain": [
       "<IPython.core.display.Image object>"
      ]
     },
     "metadata": {},
     "output_type": "display_data"
    },
    {
     "name": "stdout",
     "output_type": "stream",
     "text": [
      "\n"
     ]
    },
    {
     "data": {
      "text/html": [
       "<img src=\"https://resizing.flixster.com/23LHxfziaVb6n9imP-2Q9KnlK5E=/180x258/v2/https://resizing.flixster.com/Tv-nj_XzcvU5GZthFm-0xrSvvjo=/ems.cHJkLWVtcy1hc3NldHMvbW92aWVzLzljM2U3Mjk3LWExNzgtNGE2NS05OTMxLWVlZmU1NzNlZWM5MS5qcGc=\" width=\"200\"/>"
      ],
      "text/plain": [
       "<IPython.core.display.Image object>"
      ]
     },
     "metadata": {},
     "output_type": "display_data"
    },
    {
     "name": "stdout",
     "output_type": "stream",
     "text": [
      "\n"
     ]
    },
    {
     "data": {
      "text/html": [
       "<img src=\"https://resizing.flixster.com/3pvQEbVCHQL9fEibfJc-0QNDEwI=/180x258/v2/https://resizing.flixster.com/pzEH03_uZD07e512pw3H76yU4Pg=/ems.cHJkLWVtcy1hc3NldHMvbW92aWVzLzJhZTQ4ZTA1LWZkZDctNGE3Yy05OGVhLTMxZjU5MzFlNzYzNy5wbmc=\" width=\"200\"/>"
      ],
      "text/plain": [
       "<IPython.core.display.Image object>"
      ]
     },
     "metadata": {},
     "output_type": "display_data"
    },
    {
     "name": "stdout",
     "output_type": "stream",
     "text": [
      "\n"
     ]
    },
    {
     "data": {
      "text/html": [
       "<img src=\"https://resizing.flixster.com/jqM--MZEccdjjWAYg-8gIyK51YI=/180x258/v2/https://resizing.flixster.com/6Ce6e_0XkidJuYJN0kCXykPDezo=/ems.cHJkLWVtcy1hc3NldHMvbW92aWVzL2M2ODA3YzkwLWYyM2MtNGFhYS04MGViLTYzN2ZhYWIyYmU1Yi5qcGc=\" width=\"200\"/>"
      ],
      "text/plain": [
       "<IPython.core.display.Image object>"
      ]
     },
     "metadata": {},
     "output_type": "display_data"
    },
    {
     "name": "stdout",
     "output_type": "stream",
     "text": [
      "\n"
     ]
    },
    {
     "data": {
      "text/html": [
       "<img src=\"https://resizing.flixster.com/rjg6NTKGnZ_m7pCONPGnFVPbmBE=/180x258/v2/https://flxt.tmsimg.com/NowShowing/105384/105384_aa.jpg\" width=\"200\"/>"
      ],
      "text/plain": [
       "<IPython.core.display.Image object>"
      ]
     },
     "metadata": {},
     "output_type": "display_data"
    },
    {
     "name": "stdout",
     "output_type": "stream",
     "text": [
      "\n"
     ]
    },
    {
     "data": {
      "text/html": [
       "<img src=\"https://resizing.flixster.com/zIkbVkN5bQvl5gF2br-TeBMGxHM=/180x258/v2/https://resizing.flixster.com/xqdmTbHQwYWwsybacb-L96GdF1M=/ems.cHJkLWVtcy1hc3NldHMvbW92aWVzLzNhNmY3YTRmLTMzNTMtNDAxOS04ZGEwLWMyNzRmNmI4Y2NlOC5qcGc=\" width=\"200\"/>"
      ],
      "text/plain": [
       "<IPython.core.display.Image object>"
      ]
     },
     "metadata": {},
     "output_type": "display_data"
    },
    {
     "name": "stdout",
     "output_type": "stream",
     "text": [
      "\n"
     ]
    },
    {
     "data": {
      "text/html": [
       "<img src=\"https://resizing.flixster.com/rWaijuY3qKTEMwAMRvJKO3sILkw=/180x258/v2/https://resizing.flixster.com/lL6dYMMSqVqDTaPgas1mzRy3bSw=/ems.cHJkLWVtcy1hc3NldHMvbW92aWVzL2NmNjIyZjE1LWI4ZTctNDhhNy1hMTdiLTMwY2QyODRhNjJiNy53ZWJw\" width=\"200\"/>"
      ],
      "text/plain": [
       "<IPython.core.display.Image object>"
      ]
     },
     "metadata": {},
     "output_type": "display_data"
    },
    {
     "name": "stdout",
     "output_type": "stream",
     "text": [
      "\n"
     ]
    },
    {
     "data": {
      "text/html": [
       "<img src=\"https://resizing.flixster.com/fbxPKwbalbCg9ZUvnU7QF9I3_FU=/180x258/v2/https://resizing.flixster.com/Iph412fBRqDz1ImxKUQwn9iX4jg=/ems.cHJkLWVtcy1hc3NldHMvbW92aWVzL2RjYTA4MTI3LTk1ZTktNDdjYi1hNzUyLTcxY2Y3NjJiOTFhYy5qcGc=\" width=\"200\"/>"
      ],
      "text/plain": [
       "<IPython.core.display.Image object>"
      ]
     },
     "metadata": {},
     "output_type": "display_data"
    },
    {
     "name": "stdout",
     "output_type": "stream",
     "text": [
      "\n"
     ]
    },
    {
     "data": {
      "text/html": [
       "<img src=\"https://resizing.flixster.com/BikXRtSCwawHFNqQXx4cBsZ_QC4=/180x258/v2/https://resizing.flixster.com/HUwAlW1QAya1vlIePUDv3kdzhIE=/ems.cHJkLWVtcy1hc3NldHMvbW92aWVzLzc1OGFlMDI0LTE1ZTEtNDE4ZS04Y2RmLWNjYzcyOWQyZmMyNi5qcGc=\" width=\"200\"/>"
      ],
      "text/plain": [
       "<IPython.core.display.Image object>"
      ]
     },
     "metadata": {},
     "output_type": "display_data"
    },
    {
     "name": "stdout",
     "output_type": "stream",
     "text": [
      "\n"
     ]
    },
    {
     "data": {
      "text/html": [
       "<img src=\"https://resizing.flixster.com/H1tK5ldakifLjPaZxIkxiCX9mRM=/180x258/v2/https://resizing.flixster.com/szJdELts6jHjw_8fuZN3OupeZPY=/ems.cHJkLWVtcy1hc3NldHMvbW92aWVzL2M5Y2QyODk1LWNmMmQtNGUwYS1hMTQyLWNjNzhkMGM2NThlNS5qcGc=\" width=\"200\"/>"
      ],
      "text/plain": [
       "<IPython.core.display.Image object>"
      ]
     },
     "metadata": {},
     "output_type": "display_data"
    },
    {
     "name": "stdout",
     "output_type": "stream",
     "text": [
      "\n"
     ]
    }
   ],
   "source": [
    "for foto in img:\n",
    "    display(Image(url = foto, width = 200))\n",
    "    print('')"
   ]
  },
  {
   "cell_type": "code",
   "execution_count": 29,
   "id": "489582b8",
   "metadata": {},
   "outputs": [
    {
     "data": {
      "text/plain": [
       "['M3GAN poster image',\n",
       " 'Alcarràs poster image',\n",
       " 'Spoiler Alert poster image',\n",
       " 'The Last of Us: Season 1 poster image',\n",
       " 'Marvel Movies Ranked Worst to Best by Tomatometer poster image',\n",
       " 'Jurassic Park Movies Ranked By Tomatometer poster image',\n",
       " 'Golden Tomato Awards: Best Movies & TV of 2022 poster image',\n",
       " 'Awards Tour poster image',\n",
       " 'TV Premiere Dates 2023 poster image',\n",
       " '10 WTF Horror Movies to Watch if You Loved M3GAN poster image',\n",
       " 'The Menu',\n",
       " 'Puss in Boots: The Last Wish',\n",
       " 'The Banshees of Inisherin',\n",
       " 'Everything Everywhere All at Once',\n",
       " 'The Fabelmans',\n",
       " 'Sick',\n",
       " 'Glass Onion: A Knives Out Mystery',\n",
       " 'Devotion',\n",
       " 'Aftersun',\n",
       " 'Emily the Criminal',\n",
       " 'Elvis',\n",
       " 'Barbarian',\n",
       " 'X',\n",
       " \"Guillermo del Toro's Pinocchio\",\n",
       " 'Top Gun: Maverick',\n",
       " 'Avatar',\n",
       " 'The Woman King',\n",
       " 'Nope',\n",
       " 'Hellbender',\n",
       " 'Knives Out',\n",
       " 'The Wonder',\n",
       " 'All Quiet on the Western Front',\n",
       " 'The Innocents',\n",
       " 'Smile',\n",
       " 'Puss in Boots',\n",
       " 'The Northman',\n",
       " 'Hereditary',\n",
       " 'She Said',\n",
       " 'The Batman',\n",
       " 'Argentina, 1985']"
      ]
     },
     "execution_count": 29,
     "metadata": {},
     "output_type": "execute_result"
    }
   ],
   "source": [
    "result = soup.select('tile-dynamic img[alt]')   #  it also returned ten extra movie title\n",
    "title_m = [r['alt'].replace('<em>', \"\").replace('</em>', '') for r in result]\n",
    "title_m"
   ]
  },
  {
   "cell_type": "code",
   "execution_count": 30,
   "id": "c0229744",
   "metadata": {},
   "outputs": [
    {
     "data": {
      "text/plain": [
       "[('M3GAN poster image',\n",
       "  'https://resizing.flixster.com/LMbScjDLUzsQLgeeoOF0FAhNcC8=/fit-in/180x240/v2/https://resizing.flixster.com/rPJASTXFjLpmiVTi3D6RGcq-skM=/ems.cHJkLWVtcy1hc3NldHMvbW92aWVzLzhjYjA0ODBiLTNlNmUtNDlhOS05ZWRlLThlOGQ2MmEyZjlmYS5qcGc='),\n",
       " ('Alcarràs poster image',\n",
       "  'https://resizing.flixster.com/H5I6FWEXKIZcT_qxE0bG-xLomFY=/fit-in/180x240/v2/https://resizing.flixster.com/PbbehNpv3rq_TDm3xvFqgqqNo54=/ems.cHJkLWVtcy1hc3NldHMvbW92aWVzLzY5ZTBlNjBmLThiMDMtNGJiMC1hNTViLWRkZDkxZjMwMDcwOC5wbmc='),\n",
       " ('Spoiler Alert poster image',\n",
       "  'https://resizing.flixster.com/4ENdWq4-hrE7Sj1qrEDIeizlD5g=/fit-in/180x240/v2/https://resizing.flixster.com/S52STbZpNjjH3_XQK2Aks1uJkHc=/ems.cHJkLWVtcy1hc3NldHMvbW92aWVzLzExYmIwOTA1LTY4MzQtNDMzZS1hYzA1LWI3ZmZhNmY4NjczNC5qcGc='),\n",
       " ('The Last of Us: Season 1 poster image',\n",
       "  'https://resizing.flixster.com/EQwjsJzvAePoD3yc8_F4tnKxepw=/fit-in/180x240/v2/https://resizing.flixster.com/1t3h8KAxIMmKUCU09OoqpfqD6R0=/ems.cHJkLWVtcy1hc3NldHMvdHZzZWFzb24vZjU3YTRlYjItOTAzNC00MzFjLTg0NGQtODA1ZGU2OWY1NzY1LmpwZw=='),\n",
       " ('Marvel Movies Ranked Worst to Best by Tomatometer poster image',\n",
       "  'https://prd-rteditorial.s3.us-west-2.amazonaws.com/wp-content/uploads/2018/02/14193805/Marvel-Movies-Recall2.jpg'),\n",
       " ('Jurassic Park Movies Ranked By Tomatometer poster image',\n",
       "  'https://prd-rteditorial.s3.us-west-2.amazonaws.com/wp-content/uploads/2015/06/19171851/Jurassic-Park-Franchise-Recall.jpg'),\n",
       " ('Golden Tomato Awards: Best Movies & TV of 2022 poster image',\n",
       "  'https://prd-rteditorial.s3.us-west-2.amazonaws.com/wp-content/uploads/2022/01/12130451/660GTA.jpg'),\n",
       " ('Awards Tour poster image',\n",
       "  'https://prd-rteditorial.s3.us-west-2.amazonaws.com/wp-content/uploads/2022/09/12091739/RT_AwardsTour_Thumbnail_600x314_Gradient.jpg'),\n",
       " ('TV Premiere Dates 2023 poster image',\n",
       "  'https://prd-rteditorial.s3.us-west-2.amazonaws.com/wp-content/uploads/2023/01/18142257/TedLasso_304_600x314.jpg'),\n",
       " ('10 WTF Horror Movies to Watch if You Loved M3GAN poster image',\n",
       "  'https://prd-rteditorial.s3.us-west-2.amazonaws.com/wp-content/uploads/2023/01/17174920/WTF_Horror_2023-Rep.jpg'),\n",
       " ('The Menu',\n",
       "  'https://resizing.flixster.com/jJvkHPPuBR24i8zhk98fu13YPDo=/180x258/v2/https://resizing.flixster.com/ThP55y9O__xdEFFCmmJ0pDy9FeI=/ems.cHJkLWVtcy1hc3NldHMvbW92aWVzL2FlZTkwYTAyLWNkNWYtNDA0ZS04N2FhLTE0NDUwZmM0ODdiOC5qcGc='),\n",
       " ('Puss in Boots: The Last Wish',\n",
       "  'https://resizing.flixster.com/7TqHTXZS36wi0cPwfdLO3kQMXH0=/180x258/v2/https://resizing.flixster.com/vtIcjOYiM-QBXQyXhTFFgQoRkDw=/ems.cHJkLWVtcy1hc3NldHMvbW92aWVzL2JmNjM3ZTc2LTk5ZmMtNGJhNy04MDAzLWI3M2IxNmExNDNkYi5qcGc='),\n",
       " ('The Banshees of Inisherin',\n",
       "  'https://resizing.flixster.com/g75SmYnr5OmzMH2poVBHMtkhQuc=/180x258/v2/https://resizing.flixster.com/SqYohHz5ela5G1qTZ8aKYunK2Oo=/ems.cHJkLWVtcy1hc3NldHMvbW92aWVzLzc4ZjI3ZDBiLTkwMDktNDVkZC1hZmI5LTJiNDdjNWRmZDVjOC5qcGc='),\n",
       " ('Everything Everywhere All at Once',\n",
       "  'https://resizing.flixster.com/EfEP4ibneaDRhBY_i9fsO3Gxa0Y=/180x258/v2/https://resizing.flixster.com/mx-agGjjsUK1QMyuv3AJhHI3hgo=/ems.cHJkLWVtcy1hc3NldHMvbW92aWVzLzA3ZjU2MGU1LWMxODItNDlkMC1hYzJhLTY2YzMwOGZkMDhiZi5qcGc='),\n",
       " ('The Fabelmans',\n",
       "  'https://resizing.flixster.com/c0UaF5wT35zDl_bCLSI6nAcvSus=/180x258/v2/https://resizing.flixster.com/sHWlKXB2LojbyFEGXuLICWYopdI=/ems.cHJkLWVtcy1hc3NldHMvbW92aWVzLzA3Y2Y3MTk3LWZkMWUtNGNjNS04YzY0LWI0YjNlNDNmYTRhNC5qcGc='),\n",
       " ('Sick',\n",
       "  'https://resizing.flixster.com/8wymdH43sZoAyqWNdFjibu1YJlA=/180x258/v2/https://resizing.flixster.com/ZNLHYPtAZiy-aViK7D4SBdAlqxw=/ems.cHJkLWVtcy1hc3NldHMvbW92aWVzLzA2MzYzMjhiLThmZGUtNDA4NC04MTRkLWE5NjUyZDYzOTAwOS5qcGc='),\n",
       " ('Glass Onion: A Knives Out Mystery',\n",
       "  'https://resizing.flixster.com/tbJ0JxZXRXYEzs2BqwjI1Mbm90Q=/180x258/v2/https://resizing.flixster.com/Mtg-vEUajN8oamKcLLI7hZT-Rhs=/ems.cHJkLWVtcy1hc3NldHMvbW92aWVzL2FhYTcxNzNkLTExYzItNDk1NC1iNDNmLWViMDRlYjg5NzliNC5qcGc='),\n",
       " ('Devotion',\n",
       "  'https://resizing.flixster.com/IOXq6IJZjoPsv6EDNWD1MBbYakU=/180x258/v2/https://resizing.flixster.com/bewkINYSfH_9LYdcxDC2LNLEbQA=/ems.cHJkLWVtcy1hc3NldHMvbW92aWVzL2I3NTc0OTI3LTgzNDQtNGE1MS1iMDMzLTk5OWQ2MjU0NmUzNC5qcGc='),\n",
       " ('Aftersun',\n",
       "  'https://resizing.flixster.com/BvnA4LfxGe8DSkd6PpUkdiPNxlM=/180x258/v2/https://resizing.flixster.com/dLAtEC7GySsgPdWZKx-cPCV6KBY=/ems.cHJkLWVtcy1hc3NldHMvbW92aWVzL2Q3NWQwM2U2LWJkNTctNDNjOC04ODhiLTNlYjI1MGI0YmI4ZS5qcGc='),\n",
       " ('Emily the Criminal',\n",
       "  'https://resizing.flixster.com/uyywbBK3z6ZhZjZ-Lwy7YTbwofM=/180x258/v2/https://resizing.flixster.com/qtYisqOwDStnpo2P22PRTHC53Uk=/ems.cHJkLWVtcy1hc3NldHMvbW92aWVzL2NmMmQ0ZTRiLWVkOGYtNDllNS05ZjRiLWYyY2RhMjk1YzRjYi5qcGc='),\n",
       " ('Elvis',\n",
       "  'https://resizing.flixster.com/__1jLNztzEXGUPlcq8fzs82Zu58=/180x258/v2/https://resizing.flixster.com/mYfU74jKBCV9KA_O7ktmk5exwu4=/ems.cHJkLWVtcy1hc3NldHMvbW92aWVzLzczNjAwNTk0LTRlZWEtNDY5Ni1iYWM1LWRhZjI1OWUzODNhNy5qcGc='),\n",
       " ('Barbarian',\n",
       "  'https://resizing.flixster.com/dmwr8LUltpSD7LvW3OQUM90Jlok=/180x258/v2/https://resizing.flixster.com/Ym6ucXdlZjGTqRWEMVr0r3H16Ro=/ems.cHJkLWVtcy1hc3NldHMvbW92aWVzLzA3ZGY2MjgxLTI1NjEtNGFhMC1iYzQ0LTllOGFhYTczNzYxNy5qcGc='),\n",
       " ('X',\n",
       "  'https://resizing.flixster.com/3z0Y9dEFKVm81xMe3hnHKEP70iQ=/180x258/v2/https://resizing.flixster.com/-Ius_N-ltCTKSsVCP_h4zcw5ixs=/ems.cHJkLWVtcy1hc3NldHMvbW92aWVzLzI5Y2VlMDIwLTJhMTgtNDAwOC05YTZkLTFkNWI1ZTQ2MGI4OC5qcGc='),\n",
       " (\"Guillermo del Toro's Pinocchio\",\n",
       "  'https://resizing.flixster.com/4nWFJLNFCGRYpJ06c2OhlkaHIso=/180x258/v2/https://resizing.flixster.com/21j7kYKcSY89f0BqEBs-MUCmfkk=/ems.cHJkLWVtcy1hc3NldHMvbW92aWVzL2FiZWNkNjYzLTRkYTAtNGI2My05NmUzLWNkZmM0ZjI2NDk4Zi5qcGc='),\n",
       " ('Top Gun: Maverick',\n",
       "  'https://resizing.flixster.com/muQdl8QOTaRQCfedkh-NQYfaGxs=/180x258/v2/https://resizing.flixster.com/TIM4kfHTVZrfpF0tYt9LIU69A5s=/ems.cHJkLWVtcy1hc3NldHMvbW92aWVzLzU1OWIwMWQwLWYyZDItNDk4Yi04MDIxLWI3OTJlNDI1NjA3NS5qcGc='),\n",
       " ('Avatar',\n",
       "  'https://resizing.flixster.com/pKjszAQ5z07ondE2foX8gAiQtBg=/180x258/v2/https://resizing.flixster.com/f0bXqQUdQ0m6fyqZjI1OXSEia9E=/ems.cHJkLWVtcy1hc3NldHMvbW92aWVzLzEzYmY3ZmZiLWMzYjEtNDQxMy05NTAxLTc2YTRlNmE3NWY2MC5qcGc='),\n",
       " ('The Woman King',\n",
       "  'https://resizing.flixster.com/RxOwvg8L_rDc9PjE7zjqOfxpbvA=/180x258/v2/https://resizing.flixster.com/BwXaeEZJNNzzduc8EaebjKl2aGc=/ems.cHJkLWVtcy1hc3NldHMvbW92aWVzLzY4YTIwMGI3LTk1YjUtNDY1ZC1hYmMyLTIwM2UwZjc2OTY4Mi5qcGc='),\n",
       " ('Nope',\n",
       "  'https://resizing.flixster.com/l1ZLcJex3o9HyCsxa2r8kZu-h0s=/180x258/v2/https://resizing.flixster.com/6EeYrywKueOFue9uRSQqLxfGKI0=/ems.cHJkLWVtcy1hc3NldHMvbW92aWVzLzA0NzZhZTk0LTI3NjctNGZiNi04Yjg4LWRiN2RkNTJiYWZlNy5qcGc='),\n",
       " ('Hellbender',\n",
       "  'https://resizing.flixster.com/S6aGue8SYNWfHEvNNaHDDVwX0T4=/180x258/v2/https://resizing.flixster.com/P3Ri6b9aMGyXGoQq2fAC0W42ZuM=/ems.cHJkLWVtcy1hc3NldHMvbW92aWVzLzljOTY4NjE5LWVhNTctNDNmYS05YTk4LWY1Y2Q5NzkyNTlmMy5qcGc='),\n",
       " ('Knives Out',\n",
       "  'https://resizing.flixster.com/Iu3qp_DzJPCc7IpQwVtHYadPUQY=/180x258/v2/https://resizing.flixster.com/9siv752L7VqwwTJVHg1KENr6wlU=/ems.cHJkLWVtcy1hc3NldHMvbW92aWVzLzhmNTdjMmU2LTczODctNDUzOS05ODhjLWU0MDRhY2M4ZjMxMy53ZWJw'),\n",
       " ('The Wonder',\n",
       "  'https://resizing.flixster.com/jbaGDpX3cKCpeoYEDAqFzMFFgAQ=/180x258/v2/https://resizing.flixster.com/qNgYL7ZczPf4k6U1L40bTT2Ba6w=/ems.cHJkLWVtcy1hc3NldHMvbW92aWVzLzBjNTUyNzhjLTIyNjEtNGZhNy1hNDY2LTJjMjY3MzExZDVjMi5qcGc='),\n",
       " ('All Quiet on the Western Front',\n",
       "  'https://resizing.flixster.com/23LHxfziaVb6n9imP-2Q9KnlK5E=/180x258/v2/https://resizing.flixster.com/Tv-nj_XzcvU5GZthFm-0xrSvvjo=/ems.cHJkLWVtcy1hc3NldHMvbW92aWVzLzljM2U3Mjk3LWExNzgtNGE2NS05OTMxLWVlZmU1NzNlZWM5MS5qcGc='),\n",
       " ('The Innocents',\n",
       "  'https://resizing.flixster.com/3pvQEbVCHQL9fEibfJc-0QNDEwI=/180x258/v2/https://resizing.flixster.com/pzEH03_uZD07e512pw3H76yU4Pg=/ems.cHJkLWVtcy1hc3NldHMvbW92aWVzLzJhZTQ4ZTA1LWZkZDctNGE3Yy05OGVhLTMxZjU5MzFlNzYzNy5wbmc='),\n",
       " ('Smile',\n",
       "  'https://resizing.flixster.com/jqM--MZEccdjjWAYg-8gIyK51YI=/180x258/v2/https://resizing.flixster.com/6Ce6e_0XkidJuYJN0kCXykPDezo=/ems.cHJkLWVtcy1hc3NldHMvbW92aWVzL2M2ODA3YzkwLWYyM2MtNGFhYS04MGViLTYzN2ZhYWIyYmU1Yi5qcGc='),\n",
       " ('Puss in Boots',\n",
       "  'https://resizing.flixster.com/rjg6NTKGnZ_m7pCONPGnFVPbmBE=/180x258/v2/https://flxt.tmsimg.com/NowShowing/105384/105384_aa.jpg'),\n",
       " ('The Northman',\n",
       "  'https://resizing.flixster.com/zIkbVkN5bQvl5gF2br-TeBMGxHM=/180x258/v2/https://resizing.flixster.com/xqdmTbHQwYWwsybacb-L96GdF1M=/ems.cHJkLWVtcy1hc3NldHMvbW92aWVzLzNhNmY3YTRmLTMzNTMtNDAxOS04ZGEwLWMyNzRmNmI4Y2NlOC5qcGc='),\n",
       " ('Hereditary',\n",
       "  'https://resizing.flixster.com/rWaijuY3qKTEMwAMRvJKO3sILkw=/180x258/v2/https://resizing.flixster.com/lL6dYMMSqVqDTaPgas1mzRy3bSw=/ems.cHJkLWVtcy1hc3NldHMvbW92aWVzL2NmNjIyZjE1LWI4ZTctNDhhNy1hMTdiLTMwY2QyODRhNjJiNy53ZWJw'),\n",
       " ('She Said',\n",
       "  'https://resizing.flixster.com/fbxPKwbalbCg9ZUvnU7QF9I3_FU=/180x258/v2/https://resizing.flixster.com/Iph412fBRqDz1ImxKUQwn9iX4jg=/ems.cHJkLWVtcy1hc3NldHMvbW92aWVzL2RjYTA4MTI3LTk1ZTktNDdjYi1hNzUyLTcxY2Y3NjJiOTFhYy5qcGc='),\n",
       " ('The Batman',\n",
       "  'https://resizing.flixster.com/BikXRtSCwawHFNqQXx4cBsZ_QC4=/180x258/v2/https://resizing.flixster.com/HUwAlW1QAya1vlIePUDv3kdzhIE=/ems.cHJkLWVtcy1hc3NldHMvbW92aWVzLzc1OGFlMDI0LTE1ZTEtNDE4ZS04Y2RmLWNjYzcyOWQyZmMyNi5qcGc='),\n",
       " ('Argentina, 1985',\n",
       "  'https://resizing.flixster.com/H1tK5ldakifLjPaZxIkxiCX9mRM=/180x258/v2/https://resizing.flixster.com/szJdELts6jHjw_8fuZN3OupeZPY=/ems.cHJkLWVtcy1hc3NldHMvbW92aWVzL2M5Y2QyODk1LWNmMmQtNGUwYS1hMTQyLWNjNzhkMGM2NThlNS5qcGc=')]"
      ]
     },
     "execution_count": 30,
     "metadata": {},
     "output_type": "execute_result"
    }
   ],
   "source": [
    "Display = list(zip(title_m, img))\n",
    "Display"
   ]
  },
  {
   "cell_type": "code",
   "execution_count": 35,
   "id": "f982ce53",
   "metadata": {},
   "outputs": [
    {
     "name": "stdout",
     "output_type": "stream",
     "text": [
      "MOVIE TITLE: M3GAN poster image\n"
     ]
    },
    {
     "data": {
      "text/html": [
       "<img src=\"https://resizing.flixster.com/LMbScjDLUzsQLgeeoOF0FAhNcC8=/fit-in/180x240/v2/https://resizing.flixster.com/rPJASTXFjLpmiVTi3D6RGcq-skM=/ems.cHJkLWVtcy1hc3NldHMvbW92aWVzLzhjYjA0ODBiLTNlNmUtNDlhOS05ZWRlLThlOGQ2MmEyZjlmYS5qcGc=\" width=\"200\"/>"
      ],
      "text/plain": [
       "<IPython.core.display.Image object>"
      ]
     },
     "metadata": {},
     "output_type": "display_data"
    },
    {
     "name": "stdout",
     "output_type": "stream",
     "text": [
      "\n",
      "MOVIE TITLE: Alcarràs poster image\n"
     ]
    },
    {
     "data": {
      "text/html": [
       "<img src=\"https://resizing.flixster.com/H5I6FWEXKIZcT_qxE0bG-xLomFY=/fit-in/180x240/v2/https://resizing.flixster.com/PbbehNpv3rq_TDm3xvFqgqqNo54=/ems.cHJkLWVtcy1hc3NldHMvbW92aWVzLzY5ZTBlNjBmLThiMDMtNGJiMC1hNTViLWRkZDkxZjMwMDcwOC5wbmc=\" width=\"200\"/>"
      ],
      "text/plain": [
       "<IPython.core.display.Image object>"
      ]
     },
     "metadata": {},
     "output_type": "display_data"
    },
    {
     "name": "stdout",
     "output_type": "stream",
     "text": [
      "\n",
      "MOVIE TITLE: Spoiler Alert poster image\n"
     ]
    },
    {
     "data": {
      "text/html": [
       "<img src=\"https://resizing.flixster.com/4ENdWq4-hrE7Sj1qrEDIeizlD5g=/fit-in/180x240/v2/https://resizing.flixster.com/S52STbZpNjjH3_XQK2Aks1uJkHc=/ems.cHJkLWVtcy1hc3NldHMvbW92aWVzLzExYmIwOTA1LTY4MzQtNDMzZS1hYzA1LWI3ZmZhNmY4NjczNC5qcGc=\" width=\"200\"/>"
      ],
      "text/plain": [
       "<IPython.core.display.Image object>"
      ]
     },
     "metadata": {},
     "output_type": "display_data"
    },
    {
     "name": "stdout",
     "output_type": "stream",
     "text": [
      "\n",
      "MOVIE TITLE: The Last of Us: Season 1 poster image\n"
     ]
    },
    {
     "data": {
      "text/html": [
       "<img src=\"https://resizing.flixster.com/EQwjsJzvAePoD3yc8_F4tnKxepw=/fit-in/180x240/v2/https://resizing.flixster.com/1t3h8KAxIMmKUCU09OoqpfqD6R0=/ems.cHJkLWVtcy1hc3NldHMvdHZzZWFzb24vZjU3YTRlYjItOTAzNC00MzFjLTg0NGQtODA1ZGU2OWY1NzY1LmpwZw==\" width=\"200\"/>"
      ],
      "text/plain": [
       "<IPython.core.display.Image object>"
      ]
     },
     "metadata": {},
     "output_type": "display_data"
    },
    {
     "name": "stdout",
     "output_type": "stream",
     "text": [
      "\n",
      "MOVIE TITLE: Marvel Movies Ranked Worst to Best by Tomatometer poster image\n"
     ]
    },
    {
     "data": {
      "text/html": [
       "<img src=\"https://prd-rteditorial.s3.us-west-2.amazonaws.com/wp-content/uploads/2018/02/14193805/Marvel-Movies-Recall2.jpg\" width=\"200\"/>"
      ],
      "text/plain": [
       "<IPython.core.display.Image object>"
      ]
     },
     "metadata": {},
     "output_type": "display_data"
    },
    {
     "name": "stdout",
     "output_type": "stream",
     "text": [
      "\n",
      "MOVIE TITLE: Jurassic Park Movies Ranked By Tomatometer poster image\n"
     ]
    },
    {
     "data": {
      "text/html": [
       "<img src=\"https://prd-rteditorial.s3.us-west-2.amazonaws.com/wp-content/uploads/2015/06/19171851/Jurassic-Park-Franchise-Recall.jpg\" width=\"200\"/>"
      ],
      "text/plain": [
       "<IPython.core.display.Image object>"
      ]
     },
     "metadata": {},
     "output_type": "display_data"
    },
    {
     "name": "stdout",
     "output_type": "stream",
     "text": [
      "\n",
      "MOVIE TITLE: Golden Tomato Awards: Best Movies & TV of 2022 poster image\n"
     ]
    },
    {
     "data": {
      "text/html": [
       "<img src=\"https://prd-rteditorial.s3.us-west-2.amazonaws.com/wp-content/uploads/2022/01/12130451/660GTA.jpg\" width=\"200\"/>"
      ],
      "text/plain": [
       "<IPython.core.display.Image object>"
      ]
     },
     "metadata": {},
     "output_type": "display_data"
    },
    {
     "name": "stdout",
     "output_type": "stream",
     "text": [
      "\n",
      "MOVIE TITLE: Awards Tour poster image\n"
     ]
    },
    {
     "data": {
      "text/html": [
       "<img src=\"https://prd-rteditorial.s3.us-west-2.amazonaws.com/wp-content/uploads/2022/09/12091739/RT_AwardsTour_Thumbnail_600x314_Gradient.jpg\" width=\"200\"/>"
      ],
      "text/plain": [
       "<IPython.core.display.Image object>"
      ]
     },
     "metadata": {},
     "output_type": "display_data"
    },
    {
     "name": "stdout",
     "output_type": "stream",
     "text": [
      "\n",
      "MOVIE TITLE: TV Premiere Dates 2023 poster image\n"
     ]
    },
    {
     "data": {
      "text/html": [
       "<img src=\"https://prd-rteditorial.s3.us-west-2.amazonaws.com/wp-content/uploads/2023/01/18142257/TedLasso_304_600x314.jpg\" width=\"200\"/>"
      ],
      "text/plain": [
       "<IPython.core.display.Image object>"
      ]
     },
     "metadata": {},
     "output_type": "display_data"
    },
    {
     "name": "stdout",
     "output_type": "stream",
     "text": [
      "\n",
      "MOVIE TITLE: 10 WTF Horror Movies to Watch if You Loved M3GAN poster image\n"
     ]
    },
    {
     "data": {
      "text/html": [
       "<img src=\"https://prd-rteditorial.s3.us-west-2.amazonaws.com/wp-content/uploads/2023/01/17174920/WTF_Horror_2023-Rep.jpg\" width=\"200\"/>"
      ],
      "text/plain": [
       "<IPython.core.display.Image object>"
      ]
     },
     "metadata": {},
     "output_type": "display_data"
    },
    {
     "name": "stdout",
     "output_type": "stream",
     "text": [
      "\n",
      "MOVIE TITLE: The Menu\n"
     ]
    },
    {
     "data": {
      "text/html": [
       "<img src=\"https://resizing.flixster.com/jJvkHPPuBR24i8zhk98fu13YPDo=/180x258/v2/https://resizing.flixster.com/ThP55y9O__xdEFFCmmJ0pDy9FeI=/ems.cHJkLWVtcy1hc3NldHMvbW92aWVzL2FlZTkwYTAyLWNkNWYtNDA0ZS04N2FhLTE0NDUwZmM0ODdiOC5qcGc=\" width=\"200\"/>"
      ],
      "text/plain": [
       "<IPython.core.display.Image object>"
      ]
     },
     "metadata": {},
     "output_type": "display_data"
    },
    {
     "name": "stdout",
     "output_type": "stream",
     "text": [
      "\n",
      "MOVIE TITLE: Puss in Boots: The Last Wish\n"
     ]
    },
    {
     "data": {
      "text/html": [
       "<img src=\"https://resizing.flixster.com/7TqHTXZS36wi0cPwfdLO3kQMXH0=/180x258/v2/https://resizing.flixster.com/vtIcjOYiM-QBXQyXhTFFgQoRkDw=/ems.cHJkLWVtcy1hc3NldHMvbW92aWVzL2JmNjM3ZTc2LTk5ZmMtNGJhNy04MDAzLWI3M2IxNmExNDNkYi5qcGc=\" width=\"200\"/>"
      ],
      "text/plain": [
       "<IPython.core.display.Image object>"
      ]
     },
     "metadata": {},
     "output_type": "display_data"
    },
    {
     "name": "stdout",
     "output_type": "stream",
     "text": [
      "\n",
      "MOVIE TITLE: The Banshees of Inisherin\n"
     ]
    },
    {
     "data": {
      "text/html": [
       "<img src=\"https://resizing.flixster.com/g75SmYnr5OmzMH2poVBHMtkhQuc=/180x258/v2/https://resizing.flixster.com/SqYohHz5ela5G1qTZ8aKYunK2Oo=/ems.cHJkLWVtcy1hc3NldHMvbW92aWVzLzc4ZjI3ZDBiLTkwMDktNDVkZC1hZmI5LTJiNDdjNWRmZDVjOC5qcGc=\" width=\"200\"/>"
      ],
      "text/plain": [
       "<IPython.core.display.Image object>"
      ]
     },
     "metadata": {},
     "output_type": "display_data"
    },
    {
     "name": "stdout",
     "output_type": "stream",
     "text": [
      "\n",
      "MOVIE TITLE: Everything Everywhere All at Once\n"
     ]
    },
    {
     "data": {
      "text/html": [
       "<img src=\"https://resizing.flixster.com/EfEP4ibneaDRhBY_i9fsO3Gxa0Y=/180x258/v2/https://resizing.flixster.com/mx-agGjjsUK1QMyuv3AJhHI3hgo=/ems.cHJkLWVtcy1hc3NldHMvbW92aWVzLzA3ZjU2MGU1LWMxODItNDlkMC1hYzJhLTY2YzMwOGZkMDhiZi5qcGc=\" width=\"200\"/>"
      ],
      "text/plain": [
       "<IPython.core.display.Image object>"
      ]
     },
     "metadata": {},
     "output_type": "display_data"
    },
    {
     "name": "stdout",
     "output_type": "stream",
     "text": [
      "\n",
      "MOVIE TITLE: The Fabelmans\n"
     ]
    },
    {
     "data": {
      "text/html": [
       "<img src=\"https://resizing.flixster.com/c0UaF5wT35zDl_bCLSI6nAcvSus=/180x258/v2/https://resizing.flixster.com/sHWlKXB2LojbyFEGXuLICWYopdI=/ems.cHJkLWVtcy1hc3NldHMvbW92aWVzLzA3Y2Y3MTk3LWZkMWUtNGNjNS04YzY0LWI0YjNlNDNmYTRhNC5qcGc=\" width=\"200\"/>"
      ],
      "text/plain": [
       "<IPython.core.display.Image object>"
      ]
     },
     "metadata": {},
     "output_type": "display_data"
    },
    {
     "name": "stdout",
     "output_type": "stream",
     "text": [
      "\n",
      "MOVIE TITLE: Sick\n"
     ]
    },
    {
     "data": {
      "text/html": [
       "<img src=\"https://resizing.flixster.com/8wymdH43sZoAyqWNdFjibu1YJlA=/180x258/v2/https://resizing.flixster.com/ZNLHYPtAZiy-aViK7D4SBdAlqxw=/ems.cHJkLWVtcy1hc3NldHMvbW92aWVzLzA2MzYzMjhiLThmZGUtNDA4NC04MTRkLWE5NjUyZDYzOTAwOS5qcGc=\" width=\"200\"/>"
      ],
      "text/plain": [
       "<IPython.core.display.Image object>"
      ]
     },
     "metadata": {},
     "output_type": "display_data"
    },
    {
     "name": "stdout",
     "output_type": "stream",
     "text": [
      "\n",
      "MOVIE TITLE: Glass Onion: A Knives Out Mystery\n"
     ]
    },
    {
     "data": {
      "text/html": [
       "<img src=\"https://resizing.flixster.com/tbJ0JxZXRXYEzs2BqwjI1Mbm90Q=/180x258/v2/https://resizing.flixster.com/Mtg-vEUajN8oamKcLLI7hZT-Rhs=/ems.cHJkLWVtcy1hc3NldHMvbW92aWVzL2FhYTcxNzNkLTExYzItNDk1NC1iNDNmLWViMDRlYjg5NzliNC5qcGc=\" width=\"200\"/>"
      ],
      "text/plain": [
       "<IPython.core.display.Image object>"
      ]
     },
     "metadata": {},
     "output_type": "display_data"
    },
    {
     "name": "stdout",
     "output_type": "stream",
     "text": [
      "\n",
      "MOVIE TITLE: Devotion\n"
     ]
    },
    {
     "data": {
      "text/html": [
       "<img src=\"https://resizing.flixster.com/IOXq6IJZjoPsv6EDNWD1MBbYakU=/180x258/v2/https://resizing.flixster.com/bewkINYSfH_9LYdcxDC2LNLEbQA=/ems.cHJkLWVtcy1hc3NldHMvbW92aWVzL2I3NTc0OTI3LTgzNDQtNGE1MS1iMDMzLTk5OWQ2MjU0NmUzNC5qcGc=\" width=\"200\"/>"
      ],
      "text/plain": [
       "<IPython.core.display.Image object>"
      ]
     },
     "metadata": {},
     "output_type": "display_data"
    },
    {
     "name": "stdout",
     "output_type": "stream",
     "text": [
      "\n",
      "MOVIE TITLE: Aftersun\n"
     ]
    },
    {
     "data": {
      "text/html": [
       "<img src=\"https://resizing.flixster.com/BvnA4LfxGe8DSkd6PpUkdiPNxlM=/180x258/v2/https://resizing.flixster.com/dLAtEC7GySsgPdWZKx-cPCV6KBY=/ems.cHJkLWVtcy1hc3NldHMvbW92aWVzL2Q3NWQwM2U2LWJkNTctNDNjOC04ODhiLTNlYjI1MGI0YmI4ZS5qcGc=\" width=\"200\"/>"
      ],
      "text/plain": [
       "<IPython.core.display.Image object>"
      ]
     },
     "metadata": {},
     "output_type": "display_data"
    },
    {
     "name": "stdout",
     "output_type": "stream",
     "text": [
      "\n",
      "MOVIE TITLE: Emily the Criminal\n"
     ]
    },
    {
     "data": {
      "text/html": [
       "<img src=\"https://resizing.flixster.com/uyywbBK3z6ZhZjZ-Lwy7YTbwofM=/180x258/v2/https://resizing.flixster.com/qtYisqOwDStnpo2P22PRTHC53Uk=/ems.cHJkLWVtcy1hc3NldHMvbW92aWVzL2NmMmQ0ZTRiLWVkOGYtNDllNS05ZjRiLWYyY2RhMjk1YzRjYi5qcGc=\" width=\"200\"/>"
      ],
      "text/plain": [
       "<IPython.core.display.Image object>"
      ]
     },
     "metadata": {},
     "output_type": "display_data"
    },
    {
     "name": "stdout",
     "output_type": "stream",
     "text": [
      "\n",
      "MOVIE TITLE: Elvis\n"
     ]
    },
    {
     "data": {
      "text/html": [
       "<img src=\"https://resizing.flixster.com/__1jLNztzEXGUPlcq8fzs82Zu58=/180x258/v2/https://resizing.flixster.com/mYfU74jKBCV9KA_O7ktmk5exwu4=/ems.cHJkLWVtcy1hc3NldHMvbW92aWVzLzczNjAwNTk0LTRlZWEtNDY5Ni1iYWM1LWRhZjI1OWUzODNhNy5qcGc=\" width=\"200\"/>"
      ],
      "text/plain": [
       "<IPython.core.display.Image object>"
      ]
     },
     "metadata": {},
     "output_type": "display_data"
    },
    {
     "name": "stdout",
     "output_type": "stream",
     "text": [
      "\n",
      "MOVIE TITLE: Barbarian\n"
     ]
    },
    {
     "data": {
      "text/html": [
       "<img src=\"https://resizing.flixster.com/dmwr8LUltpSD7LvW3OQUM90Jlok=/180x258/v2/https://resizing.flixster.com/Ym6ucXdlZjGTqRWEMVr0r3H16Ro=/ems.cHJkLWVtcy1hc3NldHMvbW92aWVzLzA3ZGY2MjgxLTI1NjEtNGFhMC1iYzQ0LTllOGFhYTczNzYxNy5qcGc=\" width=\"200\"/>"
      ],
      "text/plain": [
       "<IPython.core.display.Image object>"
      ]
     },
     "metadata": {},
     "output_type": "display_data"
    },
    {
     "name": "stdout",
     "output_type": "stream",
     "text": [
      "\n",
      "MOVIE TITLE: X\n"
     ]
    },
    {
     "data": {
      "text/html": [
       "<img src=\"https://resizing.flixster.com/3z0Y9dEFKVm81xMe3hnHKEP70iQ=/180x258/v2/https://resizing.flixster.com/-Ius_N-ltCTKSsVCP_h4zcw5ixs=/ems.cHJkLWVtcy1hc3NldHMvbW92aWVzLzI5Y2VlMDIwLTJhMTgtNDAwOC05YTZkLTFkNWI1ZTQ2MGI4OC5qcGc=\" width=\"200\"/>"
      ],
      "text/plain": [
       "<IPython.core.display.Image object>"
      ]
     },
     "metadata": {},
     "output_type": "display_data"
    },
    {
     "name": "stdout",
     "output_type": "stream",
     "text": [
      "\n",
      "MOVIE TITLE: Guillermo del Toro's Pinocchio\n"
     ]
    },
    {
     "data": {
      "text/html": [
       "<img src=\"https://resizing.flixster.com/4nWFJLNFCGRYpJ06c2OhlkaHIso=/180x258/v2/https://resizing.flixster.com/21j7kYKcSY89f0BqEBs-MUCmfkk=/ems.cHJkLWVtcy1hc3NldHMvbW92aWVzL2FiZWNkNjYzLTRkYTAtNGI2My05NmUzLWNkZmM0ZjI2NDk4Zi5qcGc=\" width=\"200\"/>"
      ],
      "text/plain": [
       "<IPython.core.display.Image object>"
      ]
     },
     "metadata": {},
     "output_type": "display_data"
    },
    {
     "name": "stdout",
     "output_type": "stream",
     "text": [
      "\n",
      "MOVIE TITLE: Top Gun: Maverick\n"
     ]
    },
    {
     "data": {
      "text/html": [
       "<img src=\"https://resizing.flixster.com/muQdl8QOTaRQCfedkh-NQYfaGxs=/180x258/v2/https://resizing.flixster.com/TIM4kfHTVZrfpF0tYt9LIU69A5s=/ems.cHJkLWVtcy1hc3NldHMvbW92aWVzLzU1OWIwMWQwLWYyZDItNDk4Yi04MDIxLWI3OTJlNDI1NjA3NS5qcGc=\" width=\"200\"/>"
      ],
      "text/plain": [
       "<IPython.core.display.Image object>"
      ]
     },
     "metadata": {},
     "output_type": "display_data"
    },
    {
     "name": "stdout",
     "output_type": "stream",
     "text": [
      "\n",
      "MOVIE TITLE: Avatar\n"
     ]
    },
    {
     "data": {
      "text/html": [
       "<img src=\"https://resizing.flixster.com/pKjszAQ5z07ondE2foX8gAiQtBg=/180x258/v2/https://resizing.flixster.com/f0bXqQUdQ0m6fyqZjI1OXSEia9E=/ems.cHJkLWVtcy1hc3NldHMvbW92aWVzLzEzYmY3ZmZiLWMzYjEtNDQxMy05NTAxLTc2YTRlNmE3NWY2MC5qcGc=\" width=\"200\"/>"
      ],
      "text/plain": [
       "<IPython.core.display.Image object>"
      ]
     },
     "metadata": {},
     "output_type": "display_data"
    },
    {
     "name": "stdout",
     "output_type": "stream",
     "text": [
      "\n",
      "MOVIE TITLE: The Woman King\n"
     ]
    },
    {
     "data": {
      "text/html": [
       "<img src=\"https://resizing.flixster.com/RxOwvg8L_rDc9PjE7zjqOfxpbvA=/180x258/v2/https://resizing.flixster.com/BwXaeEZJNNzzduc8EaebjKl2aGc=/ems.cHJkLWVtcy1hc3NldHMvbW92aWVzLzY4YTIwMGI3LTk1YjUtNDY1ZC1hYmMyLTIwM2UwZjc2OTY4Mi5qcGc=\" width=\"200\"/>"
      ],
      "text/plain": [
       "<IPython.core.display.Image object>"
      ]
     },
     "metadata": {},
     "output_type": "display_data"
    },
    {
     "name": "stdout",
     "output_type": "stream",
     "text": [
      "\n",
      "MOVIE TITLE: Nope\n"
     ]
    },
    {
     "data": {
      "text/html": [
       "<img src=\"https://resizing.flixster.com/l1ZLcJex3o9HyCsxa2r8kZu-h0s=/180x258/v2/https://resizing.flixster.com/6EeYrywKueOFue9uRSQqLxfGKI0=/ems.cHJkLWVtcy1hc3NldHMvbW92aWVzLzA0NzZhZTk0LTI3NjctNGZiNi04Yjg4LWRiN2RkNTJiYWZlNy5qcGc=\" width=\"200\"/>"
      ],
      "text/plain": [
       "<IPython.core.display.Image object>"
      ]
     },
     "metadata": {},
     "output_type": "display_data"
    },
    {
     "name": "stdout",
     "output_type": "stream",
     "text": [
      "\n",
      "MOVIE TITLE: Hellbender\n"
     ]
    },
    {
     "data": {
      "text/html": [
       "<img src=\"https://resizing.flixster.com/S6aGue8SYNWfHEvNNaHDDVwX0T4=/180x258/v2/https://resizing.flixster.com/P3Ri6b9aMGyXGoQq2fAC0W42ZuM=/ems.cHJkLWVtcy1hc3NldHMvbW92aWVzLzljOTY4NjE5LWVhNTctNDNmYS05YTk4LWY1Y2Q5NzkyNTlmMy5qcGc=\" width=\"200\"/>"
      ],
      "text/plain": [
       "<IPython.core.display.Image object>"
      ]
     },
     "metadata": {},
     "output_type": "display_data"
    },
    {
     "name": "stdout",
     "output_type": "stream",
     "text": [
      "\n",
      "MOVIE TITLE: Knives Out\n"
     ]
    },
    {
     "data": {
      "text/html": [
       "<img src=\"https://resizing.flixster.com/Iu3qp_DzJPCc7IpQwVtHYadPUQY=/180x258/v2/https://resizing.flixster.com/9siv752L7VqwwTJVHg1KENr6wlU=/ems.cHJkLWVtcy1hc3NldHMvbW92aWVzLzhmNTdjMmU2LTczODctNDUzOS05ODhjLWU0MDRhY2M4ZjMxMy53ZWJw\" width=\"200\"/>"
      ],
      "text/plain": [
       "<IPython.core.display.Image object>"
      ]
     },
     "metadata": {},
     "output_type": "display_data"
    },
    {
     "name": "stdout",
     "output_type": "stream",
     "text": [
      "\n",
      "MOVIE TITLE: The Wonder\n"
     ]
    },
    {
     "data": {
      "text/html": [
       "<img src=\"https://resizing.flixster.com/jbaGDpX3cKCpeoYEDAqFzMFFgAQ=/180x258/v2/https://resizing.flixster.com/qNgYL7ZczPf4k6U1L40bTT2Ba6w=/ems.cHJkLWVtcy1hc3NldHMvbW92aWVzLzBjNTUyNzhjLTIyNjEtNGZhNy1hNDY2LTJjMjY3MzExZDVjMi5qcGc=\" width=\"200\"/>"
      ],
      "text/plain": [
       "<IPython.core.display.Image object>"
      ]
     },
     "metadata": {},
     "output_type": "display_data"
    },
    {
     "name": "stdout",
     "output_type": "stream",
     "text": [
      "\n",
      "MOVIE TITLE: All Quiet on the Western Front\n"
     ]
    },
    {
     "data": {
      "text/html": [
       "<img src=\"https://resizing.flixster.com/23LHxfziaVb6n9imP-2Q9KnlK5E=/180x258/v2/https://resizing.flixster.com/Tv-nj_XzcvU5GZthFm-0xrSvvjo=/ems.cHJkLWVtcy1hc3NldHMvbW92aWVzLzljM2U3Mjk3LWExNzgtNGE2NS05OTMxLWVlZmU1NzNlZWM5MS5qcGc=\" width=\"200\"/>"
      ],
      "text/plain": [
       "<IPython.core.display.Image object>"
      ]
     },
     "metadata": {},
     "output_type": "display_data"
    },
    {
     "name": "stdout",
     "output_type": "stream",
     "text": [
      "\n",
      "MOVIE TITLE: The Innocents\n"
     ]
    },
    {
     "data": {
      "text/html": [
       "<img src=\"https://resizing.flixster.com/3pvQEbVCHQL9fEibfJc-0QNDEwI=/180x258/v2/https://resizing.flixster.com/pzEH03_uZD07e512pw3H76yU4Pg=/ems.cHJkLWVtcy1hc3NldHMvbW92aWVzLzJhZTQ4ZTA1LWZkZDctNGE3Yy05OGVhLTMxZjU5MzFlNzYzNy5wbmc=\" width=\"200\"/>"
      ],
      "text/plain": [
       "<IPython.core.display.Image object>"
      ]
     },
     "metadata": {},
     "output_type": "display_data"
    },
    {
     "name": "stdout",
     "output_type": "stream",
     "text": [
      "\n",
      "MOVIE TITLE: Smile\n"
     ]
    },
    {
     "data": {
      "text/html": [
       "<img src=\"https://resizing.flixster.com/jqM--MZEccdjjWAYg-8gIyK51YI=/180x258/v2/https://resizing.flixster.com/6Ce6e_0XkidJuYJN0kCXykPDezo=/ems.cHJkLWVtcy1hc3NldHMvbW92aWVzL2M2ODA3YzkwLWYyM2MtNGFhYS04MGViLTYzN2ZhYWIyYmU1Yi5qcGc=\" width=\"200\"/>"
      ],
      "text/plain": [
       "<IPython.core.display.Image object>"
      ]
     },
     "metadata": {},
     "output_type": "display_data"
    },
    {
     "name": "stdout",
     "output_type": "stream",
     "text": [
      "\n",
      "MOVIE TITLE: Puss in Boots\n"
     ]
    },
    {
     "data": {
      "text/html": [
       "<img src=\"https://resizing.flixster.com/rjg6NTKGnZ_m7pCONPGnFVPbmBE=/180x258/v2/https://flxt.tmsimg.com/NowShowing/105384/105384_aa.jpg\" width=\"200\"/>"
      ],
      "text/plain": [
       "<IPython.core.display.Image object>"
      ]
     },
     "metadata": {},
     "output_type": "display_data"
    },
    {
     "name": "stdout",
     "output_type": "stream",
     "text": [
      "\n",
      "MOVIE TITLE: The Northman\n"
     ]
    },
    {
     "data": {
      "text/html": [
       "<img src=\"https://resizing.flixster.com/zIkbVkN5bQvl5gF2br-TeBMGxHM=/180x258/v2/https://resizing.flixster.com/xqdmTbHQwYWwsybacb-L96GdF1M=/ems.cHJkLWVtcy1hc3NldHMvbW92aWVzLzNhNmY3YTRmLTMzNTMtNDAxOS04ZGEwLWMyNzRmNmI4Y2NlOC5qcGc=\" width=\"200\"/>"
      ],
      "text/plain": [
       "<IPython.core.display.Image object>"
      ]
     },
     "metadata": {},
     "output_type": "display_data"
    },
    {
     "name": "stdout",
     "output_type": "stream",
     "text": [
      "\n",
      "MOVIE TITLE: Hereditary\n"
     ]
    },
    {
     "data": {
      "text/html": [
       "<img src=\"https://resizing.flixster.com/rWaijuY3qKTEMwAMRvJKO3sILkw=/180x258/v2/https://resizing.flixster.com/lL6dYMMSqVqDTaPgas1mzRy3bSw=/ems.cHJkLWVtcy1hc3NldHMvbW92aWVzL2NmNjIyZjE1LWI4ZTctNDhhNy1hMTdiLTMwY2QyODRhNjJiNy53ZWJw\" width=\"200\"/>"
      ],
      "text/plain": [
       "<IPython.core.display.Image object>"
      ]
     },
     "metadata": {},
     "output_type": "display_data"
    },
    {
     "name": "stdout",
     "output_type": "stream",
     "text": [
      "\n",
      "MOVIE TITLE: She Said\n"
     ]
    },
    {
     "data": {
      "text/html": [
       "<img src=\"https://resizing.flixster.com/fbxPKwbalbCg9ZUvnU7QF9I3_FU=/180x258/v2/https://resizing.flixster.com/Iph412fBRqDz1ImxKUQwn9iX4jg=/ems.cHJkLWVtcy1hc3NldHMvbW92aWVzL2RjYTA4MTI3LTk1ZTktNDdjYi1hNzUyLTcxY2Y3NjJiOTFhYy5qcGc=\" width=\"200\"/>"
      ],
      "text/plain": [
       "<IPython.core.display.Image object>"
      ]
     },
     "metadata": {},
     "output_type": "display_data"
    },
    {
     "name": "stdout",
     "output_type": "stream",
     "text": [
      "\n",
      "MOVIE TITLE: The Batman\n"
     ]
    },
    {
     "data": {
      "text/html": [
       "<img src=\"https://resizing.flixster.com/BikXRtSCwawHFNqQXx4cBsZ_QC4=/180x258/v2/https://resizing.flixster.com/HUwAlW1QAya1vlIePUDv3kdzhIE=/ems.cHJkLWVtcy1hc3NldHMvbW92aWVzLzc1OGFlMDI0LTE1ZTEtNDE4ZS04Y2RmLWNjYzcyOWQyZmMyNi5qcGc=\" width=\"200\"/>"
      ],
      "text/plain": [
       "<IPython.core.display.Image object>"
      ]
     },
     "metadata": {},
     "output_type": "display_data"
    },
    {
     "name": "stdout",
     "output_type": "stream",
     "text": [
      "\n",
      "MOVIE TITLE: Argentina, 1985\n"
     ]
    },
    {
     "data": {
      "text/html": [
       "<img src=\"https://resizing.flixster.com/H1tK5ldakifLjPaZxIkxiCX9mRM=/180x258/v2/https://resizing.flixster.com/szJdELts6jHjw_8fuZN3OupeZPY=/ems.cHJkLWVtcy1hc3NldHMvbW92aWVzL2M5Y2QyODk1LWNmMmQtNGUwYS1hMTQyLWNjNzhkMGM2NThlNS5qcGc=\" width=\"200\"/>"
      ],
      "text/plain": [
       "<IPython.core.display.Image object>"
      ]
     },
     "metadata": {},
     "output_type": "display_data"
    },
    {
     "name": "stdout",
     "output_type": "stream",
     "text": [
      "\n"
     ]
    }
   ],
   "source": [
    "for foto in Display:\n",
    "    print(f'MOVIE TITLE: {foto[0]}')   # tried formating the img and their title\n",
    "    display(Image(url = foto[1], width = 200))\n",
    "    print('')"
   ]
  },
  {
   "cell_type": "code",
   "execution_count": 32,
   "id": "d124ad28",
   "metadata": {},
   "outputs": [
    {
     "data": {
      "text/plain": [
       "['',\n",
       " 'The Menu',\n",
       " 'Puss in Boots: The Last Wish',\n",
       " 'The Banshees of Inisherin',\n",
       " 'Everything Everywhere All at Once',\n",
       " 'The Fabelmans',\n",
       " 'Sick',\n",
       " 'Glass Onion: A Knives Out Mystery',\n",
       " 'Devotion',\n",
       " 'Aftersun',\n",
       " 'Emily the Criminal',\n",
       " 'Elvis',\n",
       " 'Barbarian',\n",
       " 'X',\n",
       " \"Guillermo del Toro's Pinocchio\",\n",
       " 'Top Gun: Maverick',\n",
       " 'Avatar',\n",
       " 'The Woman King',\n",
       " 'Nope',\n",
       " 'Hellbender',\n",
       " 'Knives Out',\n",
       " 'The Wonder',\n",
       " 'All Quiet on the Western Front',\n",
       " 'The Innocents',\n",
       " 'Smile',\n",
       " 'Puss in Boots',\n",
       " 'The Northman',\n",
       " 'Hereditary',\n",
       " 'She Said',\n",
       " 'The Batman',\n",
       " 'Argentina, 1985']"
      ]
     },
     "execution_count": 32,
     "metadata": {},
     "output_type": "execute_result"
    }
   ],
   "source": [
    "result = soup.select('span[data-qa=\"discovery-media-list-item-title\"]')   # this removed the first ten movie title\n",
    "movie_title = [r.text.strip() for r in result]\n",
    "movie_title"
   ]
  },
  {
   "cell_type": "code",
   "execution_count": 10,
   "id": "4a431ae3",
   "metadata": {},
   "outputs": [
    {
     "data": {
      "text/plain": [
       "['',\n",
       " 'Streaming Jan 3, 2023',\n",
       " 'Streaming Jan 6, 2023',\n",
       " 'Streaming Dec 13, 2022',\n",
       " 'Streaming Jun 7, 2022',\n",
       " 'Streaming Dec 13, 2022',\n",
       " 'Streaming Jan 13, 2023',\n",
       " 'Streaming Dec 23, 2022',\n",
       " 'Streaming Jan 8, 2023',\n",
       " 'Streaming Dec 20, 2022',\n",
       " 'Streaming Oct 28, 2022',\n",
       " 'Streaming Aug 9, 2022',\n",
       " 'Streaming Oct 25, 2022',\n",
       " 'Streaming Apr 14, 2022',\n",
       " 'Streaming Dec 9, 2022',\n",
       " 'Streaming Aug 22, 2022',\n",
       " 'Streaming Feb 10, 2016',\n",
       " 'Streaming Dec 13, 2022',\n",
       " 'Streaming Nov 18, 2022',\n",
       " 'Streaming Feb 24, 2022',\n",
       " 'Streaming Jun 12, 2020',\n",
       " 'Streaming Nov 16, 2022',\n",
       " 'Streaming Oct 28, 2022',\n",
       " 'Streaming May 13, 2022',\n",
       " 'Streaming Nov 15, 2022',\n",
       " 'Streaming Nov 25, 2015',\n",
       " 'Streaming May 13, 2022',\n",
       " 'Streaming Aug 21, 2018',\n",
       " 'Streaming Jan 6, 2023',\n",
       " 'Streaming Apr 19, 2022',\n",
       " 'Streaming Oct 21, 2022']"
      ]
     },
     "execution_count": 10,
     "metadata": {},
     "output_type": "execute_result"
    }
   ],
   "source": [
    "result = soup.select('div span[class=\"smaller\"]')\n",
    "stream_date = [r.text.strip() for r in result]\n",
    "stream_date"
   ]
  },
  {
   "cell_type": "code",
   "execution_count": 11,
   "id": "98311467",
   "metadata": {},
   "outputs": [
    {
     "data": {
      "text/plain": [
       "['76',\n",
       " '93',\n",
       " '76',\n",
       " '89',\n",
       " '82',\n",
       " '67',\n",
       " '93',\n",
       " '92',\n",
       " '81',\n",
       " '79',\n",
       " '94',\n",
       " '71',\n",
       " '75',\n",
       " '91',\n",
       " '99',\n",
       " '82',\n",
       " '99',\n",
       " '69',\n",
       " '56',\n",
       " '92',\n",
       " '73',\n",
       " '90',\n",
       " '73',\n",
       " '77',\n",
       " '68',\n",
       " '64',\n",
       " '69',\n",
       " '91',\n",
       " '87',\n",
       " '94']"
      ]
     },
     "execution_count": 11,
     "metadata": {},
     "output_type": "execute_result"
    }
   ],
   "source": [
    "result = soup.select('score-pairs[audiencescore]')\n",
    "audience_score = [r['audiencescore'] for r in result]\n",
    "audience_score"
   ]
  },
  {
   "cell_type": "code",
   "execution_count": 33,
   "id": "7856a5e9",
   "metadata": {},
   "outputs": [
    {
     "data": {
      "text/plain": [
       "[('',\n",
       "  'https://resizing.flixster.com/LMbScjDLUzsQLgeeoOF0FAhNcC8=/fit-in/180x240/v2/https://resizing.flixster.com/rPJASTXFjLpmiVTi3D6RGcq-skM=/ems.cHJkLWVtcy1hc3NldHMvbW92aWVzLzhjYjA0ODBiLTNlNmUtNDlhOS05ZWRlLThlOGQ2MmEyZjlmYS5qcGc=',\n",
       "  '76',\n",
       "  ''),\n",
       " ('The Menu',\n",
       "  'https://resizing.flixster.com/H5I6FWEXKIZcT_qxE0bG-xLomFY=/fit-in/180x240/v2/https://resizing.flixster.com/PbbehNpv3rq_TDm3xvFqgqqNo54=/ems.cHJkLWVtcy1hc3NldHMvbW92aWVzLzY5ZTBlNjBmLThiMDMtNGJiMC1hNTViLWRkZDkxZjMwMDcwOC5wbmc=',\n",
       "  '93',\n",
       "  'Streaming Jan 3, 2023'),\n",
       " ('Puss in Boots: The Last Wish',\n",
       "  'https://resizing.flixster.com/4ENdWq4-hrE7Sj1qrEDIeizlD5g=/fit-in/180x240/v2/https://resizing.flixster.com/S52STbZpNjjH3_XQK2Aks1uJkHc=/ems.cHJkLWVtcy1hc3NldHMvbW92aWVzLzExYmIwOTA1LTY4MzQtNDMzZS1hYzA1LWI3ZmZhNmY4NjczNC5qcGc=',\n",
       "  '76',\n",
       "  'Streaming Jan 6, 2023'),\n",
       " ('The Banshees of Inisherin',\n",
       "  'https://resizing.flixster.com/EQwjsJzvAePoD3yc8_F4tnKxepw=/fit-in/180x240/v2/https://resizing.flixster.com/1t3h8KAxIMmKUCU09OoqpfqD6R0=/ems.cHJkLWVtcy1hc3NldHMvdHZzZWFzb24vZjU3YTRlYjItOTAzNC00MzFjLTg0NGQtODA1ZGU2OWY1NzY1LmpwZw==',\n",
       "  '89',\n",
       "  'Streaming Dec 13, 2022'),\n",
       " ('Everything Everywhere All at Once',\n",
       "  'https://prd-rteditorial.s3.us-west-2.amazonaws.com/wp-content/uploads/2018/02/14193805/Marvel-Movies-Recall2.jpg',\n",
       "  '82',\n",
       "  'Streaming Jun 7, 2022'),\n",
       " ('The Fabelmans',\n",
       "  'https://prd-rteditorial.s3.us-west-2.amazonaws.com/wp-content/uploads/2015/06/19171851/Jurassic-Park-Franchise-Recall.jpg',\n",
       "  '67',\n",
       "  'Streaming Dec 13, 2022'),\n",
       " ('Sick',\n",
       "  'https://prd-rteditorial.s3.us-west-2.amazonaws.com/wp-content/uploads/2022/01/12130451/660GTA.jpg',\n",
       "  '93',\n",
       "  'Streaming Jan 13, 2023'),\n",
       " ('Glass Onion: A Knives Out Mystery',\n",
       "  'https://prd-rteditorial.s3.us-west-2.amazonaws.com/wp-content/uploads/2022/09/12091739/RT_AwardsTour_Thumbnail_600x314_Gradient.jpg',\n",
       "  '92',\n",
       "  'Streaming Dec 23, 2022'),\n",
       " ('Devotion',\n",
       "  'https://prd-rteditorial.s3.us-west-2.amazonaws.com/wp-content/uploads/2023/01/18142257/TedLasso_304_600x314.jpg',\n",
       "  '81',\n",
       "  'Streaming Jan 8, 2023'),\n",
       " ('Aftersun',\n",
       "  'https://prd-rteditorial.s3.us-west-2.amazonaws.com/wp-content/uploads/2023/01/17174920/WTF_Horror_2023-Rep.jpg',\n",
       "  '79',\n",
       "  'Streaming Dec 20, 2022'),\n",
       " ('Emily the Criminal',\n",
       "  'https://resizing.flixster.com/jJvkHPPuBR24i8zhk98fu13YPDo=/180x258/v2/https://resizing.flixster.com/ThP55y9O__xdEFFCmmJ0pDy9FeI=/ems.cHJkLWVtcy1hc3NldHMvbW92aWVzL2FlZTkwYTAyLWNkNWYtNDA0ZS04N2FhLTE0NDUwZmM0ODdiOC5qcGc=',\n",
       "  '94',\n",
       "  'Streaming Oct 28, 2022'),\n",
       " ('Elvis',\n",
       "  'https://resizing.flixster.com/7TqHTXZS36wi0cPwfdLO3kQMXH0=/180x258/v2/https://resizing.flixster.com/vtIcjOYiM-QBXQyXhTFFgQoRkDw=/ems.cHJkLWVtcy1hc3NldHMvbW92aWVzL2JmNjM3ZTc2LTk5ZmMtNGJhNy04MDAzLWI3M2IxNmExNDNkYi5qcGc=',\n",
       "  '71',\n",
       "  'Streaming Aug 9, 2022'),\n",
       " ('Barbarian',\n",
       "  'https://resizing.flixster.com/g75SmYnr5OmzMH2poVBHMtkhQuc=/180x258/v2/https://resizing.flixster.com/SqYohHz5ela5G1qTZ8aKYunK2Oo=/ems.cHJkLWVtcy1hc3NldHMvbW92aWVzLzc4ZjI3ZDBiLTkwMDktNDVkZC1hZmI5LTJiNDdjNWRmZDVjOC5qcGc=',\n",
       "  '75',\n",
       "  'Streaming Oct 25, 2022'),\n",
       " ('X',\n",
       "  'https://resizing.flixster.com/EfEP4ibneaDRhBY_i9fsO3Gxa0Y=/180x258/v2/https://resizing.flixster.com/mx-agGjjsUK1QMyuv3AJhHI3hgo=/ems.cHJkLWVtcy1hc3NldHMvbW92aWVzLzA3ZjU2MGU1LWMxODItNDlkMC1hYzJhLTY2YzMwOGZkMDhiZi5qcGc=',\n",
       "  '91',\n",
       "  'Streaming Apr 14, 2022'),\n",
       " (\"Guillermo del Toro's Pinocchio\",\n",
       "  'https://resizing.flixster.com/c0UaF5wT35zDl_bCLSI6nAcvSus=/180x258/v2/https://resizing.flixster.com/sHWlKXB2LojbyFEGXuLICWYopdI=/ems.cHJkLWVtcy1hc3NldHMvbW92aWVzLzA3Y2Y3MTk3LWZkMWUtNGNjNS04YzY0LWI0YjNlNDNmYTRhNC5qcGc=',\n",
       "  '99',\n",
       "  'Streaming Dec 9, 2022'),\n",
       " ('Top Gun: Maverick',\n",
       "  'https://resizing.flixster.com/8wymdH43sZoAyqWNdFjibu1YJlA=/180x258/v2/https://resizing.flixster.com/ZNLHYPtAZiy-aViK7D4SBdAlqxw=/ems.cHJkLWVtcy1hc3NldHMvbW92aWVzLzA2MzYzMjhiLThmZGUtNDA4NC04MTRkLWE5NjUyZDYzOTAwOS5qcGc=',\n",
       "  '82',\n",
       "  'Streaming Aug 22, 2022'),\n",
       " ('Avatar',\n",
       "  'https://resizing.flixster.com/tbJ0JxZXRXYEzs2BqwjI1Mbm90Q=/180x258/v2/https://resizing.flixster.com/Mtg-vEUajN8oamKcLLI7hZT-Rhs=/ems.cHJkLWVtcy1hc3NldHMvbW92aWVzL2FhYTcxNzNkLTExYzItNDk1NC1iNDNmLWViMDRlYjg5NzliNC5qcGc=',\n",
       "  '99',\n",
       "  'Streaming Feb 10, 2016'),\n",
       " ('The Woman King',\n",
       "  'https://resizing.flixster.com/IOXq6IJZjoPsv6EDNWD1MBbYakU=/180x258/v2/https://resizing.flixster.com/bewkINYSfH_9LYdcxDC2LNLEbQA=/ems.cHJkLWVtcy1hc3NldHMvbW92aWVzL2I3NTc0OTI3LTgzNDQtNGE1MS1iMDMzLTk5OWQ2MjU0NmUzNC5qcGc=',\n",
       "  '69',\n",
       "  'Streaming Dec 13, 2022'),\n",
       " ('Nope',\n",
       "  'https://resizing.flixster.com/BvnA4LfxGe8DSkd6PpUkdiPNxlM=/180x258/v2/https://resizing.flixster.com/dLAtEC7GySsgPdWZKx-cPCV6KBY=/ems.cHJkLWVtcy1hc3NldHMvbW92aWVzL2Q3NWQwM2U2LWJkNTctNDNjOC04ODhiLTNlYjI1MGI0YmI4ZS5qcGc=',\n",
       "  '56',\n",
       "  'Streaming Nov 18, 2022'),\n",
       " ('Hellbender',\n",
       "  'https://resizing.flixster.com/uyywbBK3z6ZhZjZ-Lwy7YTbwofM=/180x258/v2/https://resizing.flixster.com/qtYisqOwDStnpo2P22PRTHC53Uk=/ems.cHJkLWVtcy1hc3NldHMvbW92aWVzL2NmMmQ0ZTRiLWVkOGYtNDllNS05ZjRiLWYyY2RhMjk1YzRjYi5qcGc=',\n",
       "  '92',\n",
       "  'Streaming Feb 24, 2022'),\n",
       " ('Knives Out',\n",
       "  'https://resizing.flixster.com/__1jLNztzEXGUPlcq8fzs82Zu58=/180x258/v2/https://resizing.flixster.com/mYfU74jKBCV9KA_O7ktmk5exwu4=/ems.cHJkLWVtcy1hc3NldHMvbW92aWVzLzczNjAwNTk0LTRlZWEtNDY5Ni1iYWM1LWRhZjI1OWUzODNhNy5qcGc=',\n",
       "  '73',\n",
       "  'Streaming Jun 12, 2020'),\n",
       " ('The Wonder',\n",
       "  'https://resizing.flixster.com/dmwr8LUltpSD7LvW3OQUM90Jlok=/180x258/v2/https://resizing.flixster.com/Ym6ucXdlZjGTqRWEMVr0r3H16Ro=/ems.cHJkLWVtcy1hc3NldHMvbW92aWVzLzA3ZGY2MjgxLTI1NjEtNGFhMC1iYzQ0LTllOGFhYTczNzYxNy5qcGc=',\n",
       "  '90',\n",
       "  'Streaming Nov 16, 2022'),\n",
       " ('All Quiet on the Western Front',\n",
       "  'https://resizing.flixster.com/3z0Y9dEFKVm81xMe3hnHKEP70iQ=/180x258/v2/https://resizing.flixster.com/-Ius_N-ltCTKSsVCP_h4zcw5ixs=/ems.cHJkLWVtcy1hc3NldHMvbW92aWVzLzI5Y2VlMDIwLTJhMTgtNDAwOC05YTZkLTFkNWI1ZTQ2MGI4OC5qcGc=',\n",
       "  '73',\n",
       "  'Streaming Oct 28, 2022'),\n",
       " ('The Innocents',\n",
       "  'https://resizing.flixster.com/4nWFJLNFCGRYpJ06c2OhlkaHIso=/180x258/v2/https://resizing.flixster.com/21j7kYKcSY89f0BqEBs-MUCmfkk=/ems.cHJkLWVtcy1hc3NldHMvbW92aWVzL2FiZWNkNjYzLTRkYTAtNGI2My05NmUzLWNkZmM0ZjI2NDk4Zi5qcGc=',\n",
       "  '77',\n",
       "  'Streaming May 13, 2022'),\n",
       " ('Smile',\n",
       "  'https://resizing.flixster.com/muQdl8QOTaRQCfedkh-NQYfaGxs=/180x258/v2/https://resizing.flixster.com/TIM4kfHTVZrfpF0tYt9LIU69A5s=/ems.cHJkLWVtcy1hc3NldHMvbW92aWVzLzU1OWIwMWQwLWYyZDItNDk4Yi04MDIxLWI3OTJlNDI1NjA3NS5qcGc=',\n",
       "  '68',\n",
       "  'Streaming Nov 15, 2022'),\n",
       " ('Puss in Boots',\n",
       "  'https://resizing.flixster.com/pKjszAQ5z07ondE2foX8gAiQtBg=/180x258/v2/https://resizing.flixster.com/f0bXqQUdQ0m6fyqZjI1OXSEia9E=/ems.cHJkLWVtcy1hc3NldHMvbW92aWVzLzEzYmY3ZmZiLWMzYjEtNDQxMy05NTAxLTc2YTRlNmE3NWY2MC5qcGc=',\n",
       "  '64',\n",
       "  'Streaming Nov 25, 2015'),\n",
       " ('The Northman',\n",
       "  'https://resizing.flixster.com/RxOwvg8L_rDc9PjE7zjqOfxpbvA=/180x258/v2/https://resizing.flixster.com/BwXaeEZJNNzzduc8EaebjKl2aGc=/ems.cHJkLWVtcy1hc3NldHMvbW92aWVzLzY4YTIwMGI3LTk1YjUtNDY1ZC1hYmMyLTIwM2UwZjc2OTY4Mi5qcGc=',\n",
       "  '69',\n",
       "  'Streaming May 13, 2022'),\n",
       " ('Hereditary',\n",
       "  'https://resizing.flixster.com/l1ZLcJex3o9HyCsxa2r8kZu-h0s=/180x258/v2/https://resizing.flixster.com/6EeYrywKueOFue9uRSQqLxfGKI0=/ems.cHJkLWVtcy1hc3NldHMvbW92aWVzLzA0NzZhZTk0LTI3NjctNGZiNi04Yjg4LWRiN2RkNTJiYWZlNy5qcGc=',\n",
       "  '91',\n",
       "  'Streaming Aug 21, 2018'),\n",
       " ('She Said',\n",
       "  'https://resizing.flixster.com/S6aGue8SYNWfHEvNNaHDDVwX0T4=/180x258/v2/https://resizing.flixster.com/P3Ri6b9aMGyXGoQq2fAC0W42ZuM=/ems.cHJkLWVtcy1hc3NldHMvbW92aWVzLzljOTY4NjE5LWVhNTctNDNmYS05YTk4LWY1Y2Q5NzkyNTlmMy5qcGc=',\n",
       "  '87',\n",
       "  'Streaming Jan 6, 2023'),\n",
       " ('The Batman',\n",
       "  'https://resizing.flixster.com/Iu3qp_DzJPCc7IpQwVtHYadPUQY=/180x258/v2/https://resizing.flixster.com/9siv752L7VqwwTJVHg1KENr6wlU=/ems.cHJkLWVtcy1hc3NldHMvbW92aWVzLzhmNTdjMmU2LTczODctNDUzOS05ODhjLWU0MDRhY2M4ZjMxMy53ZWJw',\n",
       "  '94',\n",
       "  'Streaming Apr 19, 2022')]"
      ]
     },
     "execution_count": 33,
     "metadata": {},
     "output_type": "execute_result"
    }
   ],
   "source": [
    "play_info = list(zip(movie_title,img,audience_score,stream_date))\n",
    "play_info"
   ]
  },
  {
   "cell_type": "code",
   "execution_count": 34,
   "id": "e6ba0694",
   "metadata": {},
   "outputs": [
    {
     "data": {
      "text/html": [
       "<div>\n",
       "<style scoped>\n",
       "    .dataframe tbody tr th:only-of-type {\n",
       "        vertical-align: middle;\n",
       "    }\n",
       "\n",
       "    .dataframe tbody tr th {\n",
       "        vertical-align: top;\n",
       "    }\n",
       "\n",
       "    .dataframe thead th {\n",
       "        text-align: right;\n",
       "    }\n",
       "</style>\n",
       "<table border=\"1\" class=\"dataframe\">\n",
       "  <thead>\n",
       "    <tr style=\"text-align: right;\">\n",
       "      <th></th>\n",
       "      <th>movie_title</th>\n",
       "      <th>poster_img</th>\n",
       "      <th>audience(%)</th>\n",
       "      <th>stream_date</th>\n",
       "    </tr>\n",
       "  </thead>\n",
       "  <tbody>\n",
       "    <tr>\n",
       "      <th>0</th>\n",
       "      <td></td>\n",
       "      <td>https://resizing.flixster.com/LMbScjDLUzsQLgee...</td>\n",
       "      <td>76</td>\n",
       "      <td></td>\n",
       "    </tr>\n",
       "    <tr>\n",
       "      <th>1</th>\n",
       "      <td>The Menu</td>\n",
       "      <td>https://resizing.flixster.com/H5I6FWEXKIZcT_qx...</td>\n",
       "      <td>93</td>\n",
       "      <td>Streaming Jan 3, 2023</td>\n",
       "    </tr>\n",
       "    <tr>\n",
       "      <th>2</th>\n",
       "      <td>Puss in Boots: The Last Wish</td>\n",
       "      <td>https://resizing.flixster.com/4ENdWq4-hrE7Sj1q...</td>\n",
       "      <td>76</td>\n",
       "      <td>Streaming Jan 6, 2023</td>\n",
       "    </tr>\n",
       "    <tr>\n",
       "      <th>3</th>\n",
       "      <td>The Banshees of Inisherin</td>\n",
       "      <td>https://resizing.flixster.com/EQwjsJzvAePoD3yc...</td>\n",
       "      <td>89</td>\n",
       "      <td>Streaming Dec 13, 2022</td>\n",
       "    </tr>\n",
       "    <tr>\n",
       "      <th>4</th>\n",
       "      <td>Everything Everywhere All at Once</td>\n",
       "      <td>https://prd-rteditorial.s3.us-west-2.amazonaws...</td>\n",
       "      <td>82</td>\n",
       "      <td>Streaming Jun 7, 2022</td>\n",
       "    </tr>\n",
       "    <tr>\n",
       "      <th>5</th>\n",
       "      <td>The Fabelmans</td>\n",
       "      <td>https://prd-rteditorial.s3.us-west-2.amazonaws...</td>\n",
       "      <td>67</td>\n",
       "      <td>Streaming Dec 13, 2022</td>\n",
       "    </tr>\n",
       "    <tr>\n",
       "      <th>6</th>\n",
       "      <td>Sick</td>\n",
       "      <td>https://prd-rteditorial.s3.us-west-2.amazonaws...</td>\n",
       "      <td>93</td>\n",
       "      <td>Streaming Jan 13, 2023</td>\n",
       "    </tr>\n",
       "    <tr>\n",
       "      <th>7</th>\n",
       "      <td>Glass Onion: A Knives Out Mystery</td>\n",
       "      <td>https://prd-rteditorial.s3.us-west-2.amazonaws...</td>\n",
       "      <td>92</td>\n",
       "      <td>Streaming Dec 23, 2022</td>\n",
       "    </tr>\n",
       "    <tr>\n",
       "      <th>8</th>\n",
       "      <td>Devotion</td>\n",
       "      <td>https://prd-rteditorial.s3.us-west-2.amazonaws...</td>\n",
       "      <td>81</td>\n",
       "      <td>Streaming Jan 8, 2023</td>\n",
       "    </tr>\n",
       "    <tr>\n",
       "      <th>9</th>\n",
       "      <td>Aftersun</td>\n",
       "      <td>https://prd-rteditorial.s3.us-west-2.amazonaws...</td>\n",
       "      <td>79</td>\n",
       "      <td>Streaming Dec 20, 2022</td>\n",
       "    </tr>\n",
       "    <tr>\n",
       "      <th>10</th>\n",
       "      <td>Emily the Criminal</td>\n",
       "      <td>https://resizing.flixster.com/jJvkHPPuBR24i8zh...</td>\n",
       "      <td>94</td>\n",
       "      <td>Streaming Oct 28, 2022</td>\n",
       "    </tr>\n",
       "    <tr>\n",
       "      <th>11</th>\n",
       "      <td>Elvis</td>\n",
       "      <td>https://resizing.flixster.com/7TqHTXZS36wi0cPw...</td>\n",
       "      <td>71</td>\n",
       "      <td>Streaming Aug 9, 2022</td>\n",
       "    </tr>\n",
       "    <tr>\n",
       "      <th>12</th>\n",
       "      <td>Barbarian</td>\n",
       "      <td>https://resizing.flixster.com/g75SmYnr5OmzMH2p...</td>\n",
       "      <td>75</td>\n",
       "      <td>Streaming Oct 25, 2022</td>\n",
       "    </tr>\n",
       "    <tr>\n",
       "      <th>13</th>\n",
       "      <td>X</td>\n",
       "      <td>https://resizing.flixster.com/EfEP4ibneaDRhBY_...</td>\n",
       "      <td>91</td>\n",
       "      <td>Streaming Apr 14, 2022</td>\n",
       "    </tr>\n",
       "    <tr>\n",
       "      <th>14</th>\n",
       "      <td>Guillermo del Toro's Pinocchio</td>\n",
       "      <td>https://resizing.flixster.com/c0UaF5wT35zDl_bC...</td>\n",
       "      <td>99</td>\n",
       "      <td>Streaming Dec 9, 2022</td>\n",
       "    </tr>\n",
       "    <tr>\n",
       "      <th>15</th>\n",
       "      <td>Top Gun: Maverick</td>\n",
       "      <td>https://resizing.flixster.com/8wymdH43sZoAyqWN...</td>\n",
       "      <td>82</td>\n",
       "      <td>Streaming Aug 22, 2022</td>\n",
       "    </tr>\n",
       "    <tr>\n",
       "      <th>16</th>\n",
       "      <td>Avatar</td>\n",
       "      <td>https://resizing.flixster.com/tbJ0JxZXRXYEzs2B...</td>\n",
       "      <td>99</td>\n",
       "      <td>Streaming Feb 10, 2016</td>\n",
       "    </tr>\n",
       "    <tr>\n",
       "      <th>17</th>\n",
       "      <td>The Woman King</td>\n",
       "      <td>https://resizing.flixster.com/IOXq6IJZjoPsv6ED...</td>\n",
       "      <td>69</td>\n",
       "      <td>Streaming Dec 13, 2022</td>\n",
       "    </tr>\n",
       "    <tr>\n",
       "      <th>18</th>\n",
       "      <td>Nope</td>\n",
       "      <td>https://resizing.flixster.com/BvnA4LfxGe8DSkd6...</td>\n",
       "      <td>56</td>\n",
       "      <td>Streaming Nov 18, 2022</td>\n",
       "    </tr>\n",
       "    <tr>\n",
       "      <th>19</th>\n",
       "      <td>Hellbender</td>\n",
       "      <td>https://resizing.flixster.com/uyywbBK3z6ZhZjZ-...</td>\n",
       "      <td>92</td>\n",
       "      <td>Streaming Feb 24, 2022</td>\n",
       "    </tr>\n",
       "    <tr>\n",
       "      <th>20</th>\n",
       "      <td>Knives Out</td>\n",
       "      <td>https://resizing.flixster.com/__1jLNztzEXGUPlc...</td>\n",
       "      <td>73</td>\n",
       "      <td>Streaming Jun 12, 2020</td>\n",
       "    </tr>\n",
       "    <tr>\n",
       "      <th>21</th>\n",
       "      <td>The Wonder</td>\n",
       "      <td>https://resizing.flixster.com/dmwr8LUltpSD7LvW...</td>\n",
       "      <td>90</td>\n",
       "      <td>Streaming Nov 16, 2022</td>\n",
       "    </tr>\n",
       "    <tr>\n",
       "      <th>22</th>\n",
       "      <td>All Quiet on the Western Front</td>\n",
       "      <td>https://resizing.flixster.com/3z0Y9dEFKVm81xMe...</td>\n",
       "      <td>73</td>\n",
       "      <td>Streaming Oct 28, 2022</td>\n",
       "    </tr>\n",
       "    <tr>\n",
       "      <th>23</th>\n",
       "      <td>The Innocents</td>\n",
       "      <td>https://resizing.flixster.com/4nWFJLNFCGRYpJ06...</td>\n",
       "      <td>77</td>\n",
       "      <td>Streaming May 13, 2022</td>\n",
       "    </tr>\n",
       "    <tr>\n",
       "      <th>24</th>\n",
       "      <td>Smile</td>\n",
       "      <td>https://resizing.flixster.com/muQdl8QOTaRQCfed...</td>\n",
       "      <td>68</td>\n",
       "      <td>Streaming Nov 15, 2022</td>\n",
       "    </tr>\n",
       "    <tr>\n",
       "      <th>25</th>\n",
       "      <td>Puss in Boots</td>\n",
       "      <td>https://resizing.flixster.com/pKjszAQ5z07ondE2...</td>\n",
       "      <td>64</td>\n",
       "      <td>Streaming Nov 25, 2015</td>\n",
       "    </tr>\n",
       "    <tr>\n",
       "      <th>26</th>\n",
       "      <td>The Northman</td>\n",
       "      <td>https://resizing.flixster.com/RxOwvg8L_rDc9PjE...</td>\n",
       "      <td>69</td>\n",
       "      <td>Streaming May 13, 2022</td>\n",
       "    </tr>\n",
       "    <tr>\n",
       "      <th>27</th>\n",
       "      <td>Hereditary</td>\n",
       "      <td>https://resizing.flixster.com/l1ZLcJex3o9HyCsx...</td>\n",
       "      <td>91</td>\n",
       "      <td>Streaming Aug 21, 2018</td>\n",
       "    </tr>\n",
       "    <tr>\n",
       "      <th>28</th>\n",
       "      <td>She Said</td>\n",
       "      <td>https://resizing.flixster.com/S6aGue8SYNWfHEvN...</td>\n",
       "      <td>87</td>\n",
       "      <td>Streaming Jan 6, 2023</td>\n",
       "    </tr>\n",
       "    <tr>\n",
       "      <th>29</th>\n",
       "      <td>The Batman</td>\n",
       "      <td>https://resizing.flixster.com/Iu3qp_DzJPCc7IpQ...</td>\n",
       "      <td>94</td>\n",
       "      <td>Streaming Apr 19, 2022</td>\n",
       "    </tr>\n",
       "  </tbody>\n",
       "</table>\n",
       "</div>"
      ],
      "text/plain": [
       "                          movie_title  \\\n",
       "0                                       \n",
       "1                            The Menu   \n",
       "2        Puss in Boots: The Last Wish   \n",
       "3           The Banshees of Inisherin   \n",
       "4   Everything Everywhere All at Once   \n",
       "5                       The Fabelmans   \n",
       "6                                Sick   \n",
       "7   Glass Onion: A Knives Out Mystery   \n",
       "8                            Devotion   \n",
       "9                            Aftersun   \n",
       "10                 Emily the Criminal   \n",
       "11                              Elvis   \n",
       "12                          Barbarian   \n",
       "13                                  X   \n",
       "14     Guillermo del Toro's Pinocchio   \n",
       "15                  Top Gun: Maverick   \n",
       "16                             Avatar   \n",
       "17                     The Woman King   \n",
       "18                               Nope   \n",
       "19                         Hellbender   \n",
       "20                         Knives Out   \n",
       "21                         The Wonder   \n",
       "22     All Quiet on the Western Front   \n",
       "23                      The Innocents   \n",
       "24                              Smile   \n",
       "25                      Puss in Boots   \n",
       "26                       The Northman   \n",
       "27                         Hereditary   \n",
       "28                           She Said   \n",
       "29                         The Batman   \n",
       "\n",
       "                                           poster_img audience(%)  \\\n",
       "0   https://resizing.flixster.com/LMbScjDLUzsQLgee...          76   \n",
       "1   https://resizing.flixster.com/H5I6FWEXKIZcT_qx...          93   \n",
       "2   https://resizing.flixster.com/4ENdWq4-hrE7Sj1q...          76   \n",
       "3   https://resizing.flixster.com/EQwjsJzvAePoD3yc...          89   \n",
       "4   https://prd-rteditorial.s3.us-west-2.amazonaws...          82   \n",
       "5   https://prd-rteditorial.s3.us-west-2.amazonaws...          67   \n",
       "6   https://prd-rteditorial.s3.us-west-2.amazonaws...          93   \n",
       "7   https://prd-rteditorial.s3.us-west-2.amazonaws...          92   \n",
       "8   https://prd-rteditorial.s3.us-west-2.amazonaws...          81   \n",
       "9   https://prd-rteditorial.s3.us-west-2.amazonaws...          79   \n",
       "10  https://resizing.flixster.com/jJvkHPPuBR24i8zh...          94   \n",
       "11  https://resizing.flixster.com/7TqHTXZS36wi0cPw...          71   \n",
       "12  https://resizing.flixster.com/g75SmYnr5OmzMH2p...          75   \n",
       "13  https://resizing.flixster.com/EfEP4ibneaDRhBY_...          91   \n",
       "14  https://resizing.flixster.com/c0UaF5wT35zDl_bC...          99   \n",
       "15  https://resizing.flixster.com/8wymdH43sZoAyqWN...          82   \n",
       "16  https://resizing.flixster.com/tbJ0JxZXRXYEzs2B...          99   \n",
       "17  https://resizing.flixster.com/IOXq6IJZjoPsv6ED...          69   \n",
       "18  https://resizing.flixster.com/BvnA4LfxGe8DSkd6...          56   \n",
       "19  https://resizing.flixster.com/uyywbBK3z6ZhZjZ-...          92   \n",
       "20  https://resizing.flixster.com/__1jLNztzEXGUPlc...          73   \n",
       "21  https://resizing.flixster.com/dmwr8LUltpSD7LvW...          90   \n",
       "22  https://resizing.flixster.com/3z0Y9dEFKVm81xMe...          73   \n",
       "23  https://resizing.flixster.com/4nWFJLNFCGRYpJ06...          77   \n",
       "24  https://resizing.flixster.com/muQdl8QOTaRQCfed...          68   \n",
       "25  https://resizing.flixster.com/pKjszAQ5z07ondE2...          64   \n",
       "26  https://resizing.flixster.com/RxOwvg8L_rDc9PjE...          69   \n",
       "27  https://resizing.flixster.com/l1ZLcJex3o9HyCsx...          91   \n",
       "28  https://resizing.flixster.com/S6aGue8SYNWfHEvN...          87   \n",
       "29  https://resizing.flixster.com/Iu3qp_DzJPCc7IpQ...          94   \n",
       "\n",
       "               stream_date  \n",
       "0                           \n",
       "1    Streaming Jan 3, 2023  \n",
       "2    Streaming Jan 6, 2023  \n",
       "3   Streaming Dec 13, 2022  \n",
       "4    Streaming Jun 7, 2022  \n",
       "5   Streaming Dec 13, 2022  \n",
       "6   Streaming Jan 13, 2023  \n",
       "7   Streaming Dec 23, 2022  \n",
       "8    Streaming Jan 8, 2023  \n",
       "9   Streaming Dec 20, 2022  \n",
       "10  Streaming Oct 28, 2022  \n",
       "11   Streaming Aug 9, 2022  \n",
       "12  Streaming Oct 25, 2022  \n",
       "13  Streaming Apr 14, 2022  \n",
       "14   Streaming Dec 9, 2022  \n",
       "15  Streaming Aug 22, 2022  \n",
       "16  Streaming Feb 10, 2016  \n",
       "17  Streaming Dec 13, 2022  \n",
       "18  Streaming Nov 18, 2022  \n",
       "19  Streaming Feb 24, 2022  \n",
       "20  Streaming Jun 12, 2020  \n",
       "21  Streaming Nov 16, 2022  \n",
       "22  Streaming Oct 28, 2022  \n",
       "23  Streaming May 13, 2022  \n",
       "24  Streaming Nov 15, 2022  \n",
       "25  Streaming Nov 25, 2015  \n",
       "26  Streaming May 13, 2022  \n",
       "27  Streaming Aug 21, 2018  \n",
       "28   Streaming Jan 6, 2023  \n",
       "29  Streaming Apr 19, 2022  "
      ]
     },
     "execution_count": 34,
     "metadata": {},
     "output_type": "execute_result"
    }
   ],
   "source": [
    "play_df = pd.DataFrame(play_info, columns = [ 'movie_title','poster_img','audience(%)','stream_date'])\n",
    "play_df"
   ]
  },
  {
   "cell_type": "code",
   "execution_count": null,
   "id": "2c24c543",
   "metadata": {},
   "outputs": [],
   "source": []
  }
 ],
 "metadata": {
  "kernelspec": {
   "display_name": "Python 3",
   "language": "python",
   "name": "python3"
  },
  "language_info": {
   "codemirror_mode": {
    "name": "ipython",
    "version": 3
   },
   "file_extension": ".py",
   "mimetype": "text/x-python",
   "name": "python",
   "nbconvert_exporter": "python",
   "pygments_lexer": "ipython3",
   "version": "3.8.8"
  }
 },
 "nbformat": 4,
 "nbformat_minor": 5
}
